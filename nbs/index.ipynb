{
 "cells": [
  {
   "cell_type": "code",
   "execution_count": null,
   "metadata": {},
   "outputs": [],
   "source": [
    "#hide\n",
    "from SEQlinkage.Core import *"
   ]
  },
  {
   "cell_type": "code",
   "execution_count": null,
   "metadata": {},
   "outputs": [],
   "source": [
    "#hide\n",
    "%load_ext autoreload\n",
    "%autoreload 2"
   ]
  },
  {
   "cell_type": "markdown",
   "metadata": {},
   "source": [
    "# SEQLinkage\n",
    "\n",
    "> Collapsed Haplotype Pattern Method for Linkage Analysis of Next-Generation Sequencing Data"
   ]
  },
  {
   "cell_type": "markdown",
   "metadata": {},
   "source": [
    "## Pre-requisites\n",
    "\n",
    "Make sure you install the pre-requisited before running seqlink:\n",
    "\n",
    "```\n",
    "conda install -c conda-forge xeus-cling\n",
    "conda install -c anaconda swig \n",
    "conda install -c conda-forge gsl\n",
    "pip install egglib\n",
    "git clone https://github.com/statgenetics/cstatgen.git\n",
    "cd cstatgen\n",
    "python setup.py install\n",
    "```"
   ]
  },
  {
   "cell_type": "markdown",
   "metadata": {},
   "source": [
    "## Install"
   ]
  },
  {
   "cell_type": "markdown",
   "metadata": {},
   "source": [
    "`pip install SEQLinkage`"
   ]
  },
  {
   "cell_type": "markdown",
   "metadata": {},
   "source": [
    "## How to use"
   ]
  },
  {
   "cell_type": "markdown",
   "metadata": {},
   "source": [
    "### 1. Test on seqlinkage-example"
   ]
  },
  {
   "cell_type": "markdown",
   "metadata": {},
   "source": [
    "```\n",
    "seqlink --fam seqlinkage-example.fam --vcf seqlinkage-example.vcf.gz -f MERLIN --output RMBPt8 --jobs 8\n",
    "\n",
    "seqlink --fam seqlinkage-example.fam --vcf seqlinkage-example.vcf.gz -f MERLIN --output RMB0 --jobs 8 --bin 0\n",
    "\n",
    "seqlink --fam seqlinkage-example.fam --vcf seqlinkage-example.vcf.gz -f MERLIN --output RMB1 --jobs 8 --bin 1\n",
    "\n",
    "seqlink --fam seqlinkage-example.fam --vcf seqlinkage-example.vcf.gz --freq EVSEAAF -o LinkageAnalysis -K 0.001 --moi AR -W 0 -M 1 --theta-max 0.5 --theta-inc 0.05 -j 8 --run-linkage\n",
    "```"
   ]
  },
  {
   "cell_type": "markdown",
   "metadata": {},
   "source": [
    "### 2. Test on AD family"
   ]
  },
  {
   "cell_type": "markdown",
   "metadata": {},
   "source": [
    "```\n",
    "seqlink --fam data/mwe_normal_fam.csv --vcf data/first1000snp_full_samples.vcf.gz -f LINKAGE --blueprint data/genemap.hg38.txt --freq AF -K 0.001 --moi AD -W 0 -M 1\n",
    "\n",
    "seqlink --fam data/mwe_normal_fam.csv --vcf data/first1000snp_full_samples.vcf.gz -f MERLIN --blueprint data/genemap.hg38.txt --freq AF\n",
    "```"
   ]
  },
  {
   "cell_type": "markdown",
   "metadata": {},
   "source": [
    "```\n",
    "./seqlink --fam seqlinkage-example/seqlinkage-example.fam --vcf seqlinkage-example/seqlinkage-example.vcf.gz -f MERLIN --blueprint data/genemap.txt --freq EVSEAAF -o seqtest\n",
    "./seqlink --fam data/new_trim_ped_famless17.fam --vcf data/first1000snp_full_samples.vcf.gz -f MERLIN --blueprint data/genemap.hg38.txt --freq AF\n",
    "```"
   ]
  },
  {
   "cell_type": "markdown",
   "metadata": {},
   "source": [
    "./seqlink --fam data/new_trim_ped_famless17.fam --vcf data/first1000snp_full_samples.vcf.gz -f MERLIN --blueprint data/genemap.hg38.txt --freq AF -K 0.001 --moi AD -W 0 -M 1 --run-linkage"
   ]
  },
  {
   "cell_type": "markdown",
   "metadata": {},
   "source": [
    "./seqlink --fam data/Example_data/pedigree.fam --vcf data/Example_data/example.vcf.gz -f MERLIN MEGA2 PLINK LINKAGE --build hg38 --chrom-prefix chr --freq AF -o data/Example_data/output -K 0.001 --moi AD -W 0 -M 1\n"
   ]
  },
  {
   "cell_type": "markdown",
   "metadata": {},
   "source": [
    "./seqlink --fam data/mwe_normal_fam.csv --vcf data/first1000snp_full_samples.vcf.gz --anno data/first1000_chr1_multianno.csv --pop data/full_sample_fam_pop.txt -f MERLIN MEGA2 PLINK LINKAGE --build hg38 --freq AF -o data/first1000test -K 0.001 --moi AD -W 0 -M 1"
   ]
  },
  {
   "cell_type": "markdown",
   "metadata": {},
   "source": [
    "./seqlink --fam data/new_trim_ped_famless17_no\\:xx.fam --vcf /mnt/mfs/statgen/alzheimers-family/linkage_files/geno/full_sample/vcf/full_sample.vcf.gz --anno MWE/annotation/EFIGA_NIALOAD_chr1.hg38.hg38_multianno.csv --pop data/full_sample_fam_pop.txt -f MERLIN MEGA2 PLINK LINKAGE --build hg38 --freq AF -o data/fullchr1data -K 0.001 --moi AD -W 0 -M 1 -j 4"
   ]
  },
  {
   "cell_type": "markdown",
   "metadata": {},
   "source": [
    "## Testing output"
   ]
  },
  {
   "cell_type": "markdown",
   "metadata": {},
   "source": [
    "seqlink --fam seqlinkage-example/seqlinkage-example.fam --vcf seqlinkage-example/seqlinkage-example.vcf.gz -f MERLIN MEGA2 PLINK LINKAGE --blueprint data/genemap.txt --freq EVSEAAF -o data/seqtest_20220221 -K 0.001 --moi AD -W 0 -M 1 -j 4"
   ]
  },
  {
   "cell_type": "markdown",
   "metadata": {},
   "source": [
    "seqlink --fam data/new_trim_ped_famless17_no:xx.fam --vcf /mnt/mfs/statgen/alzheimers-family/linkage_files/geno/full_sample/vcf/full_sample.vcf.gz --anno MWE/annotation/EFIGA_NIALOAD_chr22.hg38.hg38_multianno.csv --pop data/full_sample_fam_pop.txt -f MERLIN MEGA2 PLINK LINKAGE --build hg38 --freq AF -o data/fullchr22data -K 0.001 --moi AD -W 0 -M 1 -j 8"
   ]
  },
  {
   "cell_type": "code",
   "execution_count": null,
   "metadata": {},
   "outputs": [],
   "source": [
    "import pandas as pd"
   ]
  },
  {
   "cell_type": "code",
   "execution_count": null,
   "metadata": {},
   "outputs": [],
   "source": [
    "tmp = pd.read_csv('../data/genemap.hg38.txt',sep='\\t',header=None)"
   ]
  },
  {
   "cell_type": "code",
   "execution_count": null,
   "metadata": {},
   "outputs": [],
   "source": []
  },
  {
   "cell_type": "code",
   "execution_count": null,
   "metadata": {},
   "outputs": [
    {
     "data": {
      "text/html": [
       "<div>\n",
       "<style scoped>\n",
       "    .dataframe tbody tr th:only-of-type {\n",
       "        vertical-align: middle;\n",
       "    }\n",
       "\n",
       "    .dataframe tbody tr th {\n",
       "        vertical-align: top;\n",
       "    }\n",
       "\n",
       "    .dataframe thead th {\n",
       "        text-align: right;\n",
       "    }\n",
       "</style>\n",
       "<table border=\"1\" class=\"dataframe\">\n",
       "  <thead>\n",
       "    <tr style=\"text-align: right;\">\n",
       "      <th></th>\n",
       "      <th>0</th>\n",
       "      <th>1</th>\n",
       "      <th>2</th>\n",
       "      <th>3</th>\n",
       "      <th>4</th>\n",
       "      <th>5</th>\n",
       "      <th>6</th>\n",
       "    </tr>\n",
       "  </thead>\n",
       "  <tbody>\n",
       "    <tr>\n",
       "      <th>23232</th>\n",
       "      <td>18</td>\n",
       "      <td>21741328</td>\n",
       "      <td>21870957</td>\n",
       "      <td>MIB1</td>\n",
       "      <td>47.604922</td>\n",
       "      <td>47.026005</td>\n",
       "      <td>49.190882</td>\n",
       "    </tr>\n",
       "  </tbody>\n",
       "</table>\n",
       "</div>"
      ],
      "text/plain": [
       "        0         1         2     3          4          5          6\n",
       "23232  18  21741328  21870957  MIB1  47.604922  47.026005  49.190882"
      ]
     },
     "execution_count": null,
     "metadata": {},
     "output_type": "execute_result"
    }
   ],
   "source": [
    "tmp[tmp[3]=='MIB1']"
   ]
  },
  {
   "cell_type": "code",
   "execution_count": null,
   "metadata": {},
   "outputs": [
    {
     "data": {
      "text/html": [
       "<div>\n",
       "<style scoped>\n",
       "    .dataframe tbody tr th:only-of-type {\n",
       "        vertical-align: middle;\n",
       "    }\n",
       "\n",
       "    .dataframe tbody tr th {\n",
       "        vertical-align: top;\n",
       "    }\n",
       "\n",
       "    .dataframe thead th {\n",
       "        text-align: right;\n",
       "    }\n",
       "</style>\n",
       "<table border=\"1\" class=\"dataframe\">\n",
       "  <thead>\n",
       "    <tr style=\"text-align: right;\">\n",
       "      <th></th>\n",
       "      <th>0</th>\n",
       "      <th>1</th>\n",
       "      <th>2</th>\n",
       "      <th>3</th>\n",
       "      <th>4</th>\n",
       "      <th>5</th>\n",
       "      <th>6</th>\n",
       "    </tr>\n",
       "  </thead>\n",
       "  <tbody>\n",
       "    <tr>\n",
       "      <th>23227</th>\n",
       "      <td>18</td>\n",
       "      <td>21242241</td>\n",
       "      <td>21526112</td>\n",
       "      <td>GREB1L</td>\n",
       "      <td>47.542047</td>\n",
       "      <td>46.948546</td>\n",
       "      <td>49.169425</td>\n",
       "    </tr>\n",
       "    <tr>\n",
       "      <th>23228</th>\n",
       "      <td>18</td>\n",
       "      <td>21529283</td>\n",
       "      <td>21600704</td>\n",
       "      <td>ESCO1</td>\n",
       "      <td>47.559532</td>\n",
       "      <td>46.978876</td>\n",
       "      <td>49.177328</td>\n",
       "    </tr>\n",
       "    <tr>\n",
       "      <th>23229</th>\n",
       "      <td>18</td>\n",
       "      <td>21612313</td>\n",
       "      <td>21633520</td>\n",
       "      <td>SNRPD1</td>\n",
       "      <td>47.566959</td>\n",
       "      <td>46.988827</td>\n",
       "      <td>49.180181</td>\n",
       "    </tr>\n",
       "    <tr>\n",
       "      <th>23230</th>\n",
       "      <td>18</td>\n",
       "      <td>21650896</td>\n",
       "      <td>21704774</td>\n",
       "      <td>ABHD3</td>\n",
       "      <td>47.574832</td>\n",
       "      <td>46.998699</td>\n",
       "      <td>49.183061</td>\n",
       "    </tr>\n",
       "    <tr>\n",
       "      <th>23231</th>\n",
       "      <td>18</td>\n",
       "      <td>21683517</td>\n",
       "      <td>21683589</td>\n",
       "      <td>MIR320C1</td>\n",
       "      <td>47.575661</td>\n",
       "      <td>46.999750</td>\n",
       "      <td>49.183364</td>\n",
       "    </tr>\n",
       "    <tr>\n",
       "      <th>23232</th>\n",
       "      <td>18</td>\n",
       "      <td>21741328</td>\n",
       "      <td>21870957</td>\n",
       "      <td>MIB1</td>\n",
       "      <td>47.604922</td>\n",
       "      <td>47.026005</td>\n",
       "      <td>49.190882</td>\n",
       "    </tr>\n",
       "    <tr>\n",
       "      <th>23233</th>\n",
       "      <td>18</td>\n",
       "      <td>21825478</td>\n",
       "      <td>21831406</td>\n",
       "      <td>MIR133A1HG</td>\n",
       "      <td>47.614192</td>\n",
       "      <td>47.031816</td>\n",
       "      <td>49.192372</td>\n",
       "    </tr>\n",
       "    <tr>\n",
       "      <th>23234</th>\n",
       "      <td>18</td>\n",
       "      <td>21825697</td>\n",
       "      <td>21825785</td>\n",
       "      <td>MIR133A1</td>\n",
       "      <td>47.613069</td>\n",
       "      <td>47.031112</td>\n",
       "      <td>49.192191</td>\n",
       "    </tr>\n",
       "    <tr>\n",
       "      <th>23235</th>\n",
       "      <td>18</td>\n",
       "      <td>21829003</td>\n",
       "      <td>21829088</td>\n",
       "      <td>MIR1-2</td>\n",
       "      <td>47.614442</td>\n",
       "      <td>47.031973</td>\n",
       "      <td>49.192412</td>\n",
       "    </tr>\n",
       "    <tr>\n",
       "      <th>23236</th>\n",
       "      <td>18</td>\n",
       "      <td>22166897</td>\n",
       "      <td>22168968</td>\n",
       "      <td>GATA6-AS1</td>\n",
       "      <td>47.832657</td>\n",
       "      <td>47.352500</td>\n",
       "      <td>49.237134</td>\n",
       "    </tr>\n",
       "  </tbody>\n",
       "</table>\n",
       "</div>"
      ],
      "text/plain": [
       "        0         1         2           3          4          5          6\n",
       "23227  18  21242241  21526112      GREB1L  47.542047  46.948546  49.169425\n",
       "23228  18  21529283  21600704       ESCO1  47.559532  46.978876  49.177328\n",
       "23229  18  21612313  21633520      SNRPD1  47.566959  46.988827  49.180181\n",
       "23230  18  21650896  21704774       ABHD3  47.574832  46.998699  49.183061\n",
       "23231  18  21683517  21683589    MIR320C1  47.575661  46.999750  49.183364\n",
       "23232  18  21741328  21870957        MIB1  47.604922  47.026005  49.190882\n",
       "23233  18  21825478  21831406  MIR133A1HG  47.614192  47.031816  49.192372\n",
       "23234  18  21825697  21825785    MIR133A1  47.613069  47.031112  49.192191\n",
       "23235  18  21829003  21829088      MIR1-2  47.614442  47.031973  49.192412\n",
       "23236  18  22166897  22168968   GATA6-AS1  47.832657  47.352500  49.237134"
      ]
     },
     "execution_count": null,
     "metadata": {},
     "output_type": "execute_result"
    }
   ],
   "source": [
    "tmp.iloc[(23232-5):(23232+5),:]"
   ]
  },
  {
   "cell_type": "code",
   "execution_count": null,
   "metadata": {},
   "outputs": [],
   "source": [
    "21826640"
   ]
  },
  {
   "cell_type": "code",
   "execution_count": null,
   "metadata": {},
   "outputs": [
    {
     "data": {
      "text/html": [
       "<div>\n",
       "<style scoped>\n",
       "    .dataframe tbody tr th:only-of-type {\n",
       "        vertical-align: middle;\n",
       "    }\n",
       "\n",
       "    .dataframe tbody tr th {\n",
       "        vertical-align: top;\n",
       "    }\n",
       "\n",
       "    .dataframe thead th {\n",
       "        text-align: right;\n",
       "    }\n",
       "</style>\n",
       "<table border=\"1\" class=\"dataframe\">\n",
       "  <thead>\n",
       "    <tr style=\"text-align: right;\">\n",
       "      <th></th>\n",
       "      <th>0</th>\n",
       "      <th>1</th>\n",
       "      <th>2</th>\n",
       "      <th>3</th>\n",
       "      <th>4</th>\n",
       "      <th>5</th>\n",
       "      <th>6</th>\n",
       "    </tr>\n",
       "  </thead>\n",
       "  <tbody>\n",
       "    <tr>\n",
       "      <th>24663</th>\n",
       "      <td>19</td>\n",
       "      <td>44905795</td>\n",
       "      <td>44909395</td>\n",
       "      <td>APOE</td>\n",
       "      <td>70.989506</td>\n",
       "      <td>94.087733</td>\n",
       "      <td>48.886198</td>\n",
       "    </tr>\n",
       "  </tbody>\n",
       "</table>\n",
       "</div>"
      ],
      "text/plain": [
       "        0         1         2     3          4          5          6\n",
       "24663  19  44905795  44909395  APOE  70.989506  94.087733  48.886198"
      ]
     },
     "execution_count": null,
     "metadata": {},
     "output_type": "execute_result"
    }
   ],
   "source": [
    "tmp[tmp[3]=='APOE']"
   ]
  },
  {
   "cell_type": "code",
   "execution_count": null,
   "metadata": {},
   "outputs": [
    {
     "data": {
      "text/plain": [
       "44.94526434195726"
      ]
     },
     "execution_count": null,
     "metadata": {},
     "output_type": "execute_result"
    }
   ],
   "source": [
    "(24663-23540)/(25318-23540)*1779/25"
   ]
  },
  {
   "cell_type": "code",
   "execution_count": null,
   "metadata": {},
   "outputs": [
    {
     "data": {
      "text/html": [
       "<div>\n",
       "<style scoped>\n",
       "    .dataframe tbody tr th:only-of-type {\n",
       "        vertical-align: middle;\n",
       "    }\n",
       "\n",
       "    .dataframe tbody tr th {\n",
       "        vertical-align: top;\n",
       "    }\n",
       "\n",
       "    .dataframe thead th {\n",
       "        text-align: right;\n",
       "    }\n",
       "</style>\n",
       "<table border=\"1\" class=\"dataframe\">\n",
       "  <thead>\n",
       "    <tr style=\"text-align: right;\">\n",
       "      <th></th>\n",
       "      <th>0</th>\n",
       "      <th>1</th>\n",
       "      <th>2</th>\n",
       "      <th>3</th>\n",
       "      <th>4</th>\n",
       "      <th>5</th>\n",
       "      <th>6</th>\n",
       "    </tr>\n",
       "  </thead>\n",
       "  <tbody>\n",
       "    <tr>\n",
       "      <th>23540</th>\n",
       "      <td>19</td>\n",
       "      <td>60950</td>\n",
       "      <td>70966</td>\n",
       "      <td>WASH5P</td>\n",
       "      <td>0.000000</td>\n",
       "      <td>0.000000</td>\n",
       "      <td>0.000000</td>\n",
       "    </tr>\n",
       "    <tr>\n",
       "      <th>23541</th>\n",
       "      <td>19</td>\n",
       "      <td>71972</td>\n",
       "      <td>72110</td>\n",
       "      <td>MIR1302-10@4,MIR1302-11@4,MIR1302-2@4,MIR1302-9@4</td>\n",
       "      <td>0.000000</td>\n",
       "      <td>0.000000</td>\n",
       "      <td>0.000000</td>\n",
       "    </tr>\n",
       "    <tr>\n",
       "      <th>23542</th>\n",
       "      <td>19</td>\n",
       "      <td>76219</td>\n",
       "      <td>77690</td>\n",
       "      <td>FAM138A@3,FAM138C@3,FAM138F@3</td>\n",
       "      <td>0.000000</td>\n",
       "      <td>0.000000</td>\n",
       "      <td>0.000000</td>\n",
       "    </tr>\n",
       "    <tr>\n",
       "      <th>23543</th>\n",
       "      <td>19</td>\n",
       "      <td>107145</td>\n",
       "      <td>111696</td>\n",
       "      <td>OR4F17</td>\n",
       "      <td>0.000000</td>\n",
       "      <td>0.000000</td>\n",
       "      <td>0.000000</td>\n",
       "    </tr>\n",
       "    <tr>\n",
       "      <th>23544</th>\n",
       "      <td>19</td>\n",
       "      <td>197015</td>\n",
       "      <td>202209</td>\n",
       "      <td>LINC01002</td>\n",
       "      <td>0.000000</td>\n",
       "      <td>0.000000</td>\n",
       "      <td>0.000000</td>\n",
       "    </tr>\n",
       "    <tr>\n",
       "      <th>...</th>\n",
       "      <td>...</td>\n",
       "      <td>...</td>\n",
       "      <td>...</td>\n",
       "      <td>...</td>\n",
       "      <td>...</td>\n",
       "      <td>...</td>\n",
       "      <td>...</td>\n",
       "    </tr>\n",
       "    <tr>\n",
       "      <th>25314</th>\n",
       "      <td>19</td>\n",
       "      <td>58551565</td>\n",
       "      <td>58555105</td>\n",
       "      <td>CHMP2A</td>\n",
       "      <td>111.055999</td>\n",
       "      <td>126.864212</td>\n",
       "      <td>96.274091</td>\n",
       "    </tr>\n",
       "    <tr>\n",
       "      <th>25315</th>\n",
       "      <td>19</td>\n",
       "      <td>58555711</td>\n",
       "      <td>58558611</td>\n",
       "      <td>UBE2M</td>\n",
       "      <td>111.062190</td>\n",
       "      <td>126.872228</td>\n",
       "      <td>96.280447</td>\n",
       "    </tr>\n",
       "    <tr>\n",
       "      <th>25316</th>\n",
       "      <td>19</td>\n",
       "      <td>58559185</td>\n",
       "      <td>58574797</td>\n",
       "      <td>MZF1-AS1</td>\n",
       "      <td>111.078096</td>\n",
       "      <td>126.892822</td>\n",
       "      <td>96.296777</td>\n",
       "    </tr>\n",
       "    <tr>\n",
       "      <th>25317</th>\n",
       "      <td>19</td>\n",
       "      <td>58561916</td>\n",
       "      <td>58573575</td>\n",
       "      <td>MZF1</td>\n",
       "      <td>111.079316</td>\n",
       "      <td>126.894402</td>\n",
       "      <td>96.298029</td>\n",
       "    </tr>\n",
       "    <tr>\n",
       "      <th>25318</th>\n",
       "      <td>19</td>\n",
       "      <td>58575398</td>\n",
       "      <td>58584395</td>\n",
       "      <td>CENPBD1P1</td>\n",
       "      <td>111.098978</td>\n",
       "      <td>126.919858</td>\n",
       "      <td>96.318215</td>\n",
       "    </tr>\n",
       "  </tbody>\n",
       "</table>\n",
       "<p>1779 rows × 7 columns</p>\n",
       "</div>"
      ],
      "text/plain": [
       "        0         1         2  \\\n",
       "23540  19     60950     70966   \n",
       "23541  19     71972     72110   \n",
       "23542  19     76219     77690   \n",
       "23543  19    107145    111696   \n",
       "23544  19    197015    202209   \n",
       "...    ..       ...       ...   \n",
       "25314  19  58551565  58555105   \n",
       "25315  19  58555711  58558611   \n",
       "25316  19  58559185  58574797   \n",
       "25317  19  58561916  58573575   \n",
       "25318  19  58575398  58584395   \n",
       "\n",
       "                                                       3           4  \\\n",
       "23540                                             WASH5P    0.000000   \n",
       "23541  MIR1302-10@4,MIR1302-11@4,MIR1302-2@4,MIR1302-9@4    0.000000   \n",
       "23542                      FAM138A@3,FAM138C@3,FAM138F@3    0.000000   \n",
       "23543                                             OR4F17    0.000000   \n",
       "23544                                          LINC01002    0.000000   \n",
       "...                                                  ...         ...   \n",
       "25314                                             CHMP2A  111.055999   \n",
       "25315                                              UBE2M  111.062190   \n",
       "25316                                           MZF1-AS1  111.078096   \n",
       "25317                                               MZF1  111.079316   \n",
       "25318                                          CENPBD1P1  111.098978   \n",
       "\n",
       "                5          6  \n",
       "23540    0.000000   0.000000  \n",
       "23541    0.000000   0.000000  \n",
       "23542    0.000000   0.000000  \n",
       "23543    0.000000   0.000000  \n",
       "23544    0.000000   0.000000  \n",
       "...           ...        ...  \n",
       "25314  126.864212  96.274091  \n",
       "25315  126.872228  96.280447  \n",
       "25316  126.892822  96.296777  \n",
       "25317  126.894402  96.298029  \n",
       "25318  126.919858  96.318215  \n",
       "\n",
       "[1779 rows x 7 columns]"
      ]
     },
     "execution_count": null,
     "metadata": {},
     "output_type": "execute_result"
    }
   ],
   "source": [
    "tmp[tmp[0]=='19']"
   ]
  },
  {
   "cell_type": "code",
   "execution_count": null,
   "metadata": {},
   "outputs": [
    {
     "data": {
      "text/plain": [
       "1                      2809\n",
       "2                      1816\n",
       "19                     1779\n",
       "11                     1678\n",
       "17                     1583\n",
       "3                      1560\n",
       "6                      1453\n",
       "12                     1386\n",
       "7                      1359\n",
       "5                      1314\n",
       "X                      1209\n",
       "16                     1177\n",
       "9                      1119\n",
       "10                     1107\n",
       "4                      1091\n",
       "8                      1056\n",
       "15                     1012\n",
       "14                      946\n",
       "20                      774\n",
       "22                      646\n",
       "13                      629\n",
       "18                      436\n",
       "21                      374\n",
       "17_KI270909v1_alt         3\n",
       "22_KI270879v1_alt         3\n",
       "7_KI270803v1_alt          2\n",
       "15_KI270850v1_alt         2\n",
       "4_GL000008v2_random       1\n",
       "1_KI270706v1_random       1\n",
       "Name: 0, dtype: int64"
      ]
     },
     "execution_count": null,
     "metadata": {},
     "output_type": "execute_result"
    }
   ],
   "source": [
    "tmp[0].value_counts()"
   ]
  },
  {
   "cell_type": "code",
   "execution_count": null,
   "metadata": {},
   "outputs": [],
   "source": [
    "tmp1 = tmp[tmp[0]=='22']"
   ]
  },
  {
   "cell_type": "code",
   "execution_count": null,
   "metadata": {},
   "outputs": [
    {
     "data": {
      "text/html": [
       "<div>\n",
       "<style scoped>\n",
       "    .dataframe tbody tr th:only-of-type {\n",
       "        vertical-align: middle;\n",
       "    }\n",
       "\n",
       "    .dataframe tbody tr th {\n",
       "        vertical-align: top;\n",
       "    }\n",
       "\n",
       "    .dataframe thead th {\n",
       "        text-align: right;\n",
       "    }\n",
       "</style>\n",
       "<table border=\"1\" class=\"dataframe\">\n",
       "  <thead>\n",
       "    <tr style=\"text-align: right;\">\n",
       "      <th></th>\n",
       "      <th>0</th>\n",
       "      <th>1</th>\n",
       "      <th>2</th>\n",
       "      <th>3</th>\n",
       "      <th>4</th>\n",
       "      <th>5</th>\n",
       "      <th>6</th>\n",
       "    </tr>\n",
       "  </thead>\n",
       "  <tbody>\n",
       "    <tr>\n",
       "      <th>26484</th>\n",
       "      <td>22</td>\n",
       "      <td>17121594</td>\n",
       "      <td>17132104</td>\n",
       "      <td>LINC01664</td>\n",
       "      <td>3.496778</td>\n",
       "      <td>5.134655</td>\n",
       "      <td>1.946244</td>\n",
       "    </tr>\n",
       "  </tbody>\n",
       "</table>\n",
       "</div>"
      ],
      "text/plain": [
       "        0         1         2          3         4         5         6\n",
       "26484  22  17121594  17132104  LINC01664  3.496778  5.134655  1.946244"
      ]
     },
     "execution_count": null,
     "metadata": {},
     "output_type": "execute_result"
    }
   ],
   "source": [
    "tmp1[tmp1[3]=='LINC01664']"
   ]
  },
  {
   "cell_type": "code",
   "execution_count": null,
   "metadata": {},
   "outputs": [
    {
     "data": {
      "text/html": [
       "<div>\n",
       "<style scoped>\n",
       "    .dataframe tbody tr th:only-of-type {\n",
       "        vertical-align: middle;\n",
       "    }\n",
       "\n",
       "    .dataframe tbody tr th {\n",
       "        vertical-align: top;\n",
       "    }\n",
       "\n",
       "    .dataframe thead th {\n",
       "        text-align: right;\n",
       "    }\n",
       "</style>\n",
       "<table border=\"1\" class=\"dataframe\">\n",
       "  <thead>\n",
       "    <tr style=\"text-align: right;\">\n",
       "      <th></th>\n",
       "      <th>0</th>\n",
       "      <th>1</th>\n",
       "      <th>2</th>\n",
       "      <th>3</th>\n",
       "      <th>4</th>\n",
       "      <th>5</th>\n",
       "      <th>6</th>\n",
       "    </tr>\n",
       "  </thead>\n",
       "  <tbody>\n",
       "    <tr>\n",
       "      <th>26493</th>\n",
       "      <td>22</td>\n",
       "      <td>17734139</td>\n",
       "      <td>17774665</td>\n",
       "      <td>BID</td>\n",
       "      <td>7.132236</td>\n",
       "      <td>10.196359</td>\n",
       "      <td>4.192282</td>\n",
       "    </tr>\n",
       "  </tbody>\n",
       "</table>\n",
       "</div>"
      ],
      "text/plain": [
       "        0         1         2    3         4          5         6\n",
       "26493  22  17734139  17774665  BID  7.132236  10.196359  4.192282"
      ]
     },
     "execution_count": null,
     "metadata": {},
     "output_type": "execute_result"
    }
   ],
   "source": [
    "tmp1[tmp1[3]=='BID']"
   ]
  },
  {
   "cell_type": "code",
   "execution_count": null,
   "metadata": {},
   "outputs": [
    {
     "data": {
      "text/html": [
       "<div>\n",
       "<style scoped>\n",
       "    .dataframe tbody tr th:only-of-type {\n",
       "        vertical-align: middle;\n",
       "    }\n",
       "\n",
       "    .dataframe tbody tr th {\n",
       "        vertical-align: top;\n",
       "    }\n",
       "\n",
       "    .dataframe thead th {\n",
       "        text-align: right;\n",
       "    }\n",
       "</style>\n",
       "<table border=\"1\" class=\"dataframe\">\n",
       "  <thead>\n",
       "    <tr style=\"text-align: right;\">\n",
       "      <th></th>\n",
       "      <th>0</th>\n",
       "      <th>1</th>\n",
       "      <th>2</th>\n",
       "      <th>3</th>\n",
       "      <th>4</th>\n",
       "      <th>5</th>\n",
       "      <th>6</th>\n",
       "    </tr>\n",
       "  </thead>\n",
       "  <tbody>\n",
       "    <tr>\n",
       "      <th>26535</th>\n",
       "      <td>22</td>\n",
       "      <td>19846145</td>\n",
       "      <td>19854874</td>\n",
       "      <td>RTL10</td>\n",
       "      <td>12.136091</td>\n",
       "      <td>16.519006</td>\n",
       "      <td>8.210012</td>\n",
       "    </tr>\n",
       "  </tbody>\n",
       "</table>\n",
       "</div>"
      ],
      "text/plain": [
       "        0         1         2      3          4          5         6\n",
       "26535  22  19846145  19854874  RTL10  12.136091  16.519006  8.210012"
      ]
     },
     "execution_count": null,
     "metadata": {},
     "output_type": "execute_result"
    }
   ],
   "source": [
    "tmp1[tmp1[3]=='RTL10']"
   ]
  },
  {
   "cell_type": "code",
   "execution_count": null,
   "metadata": {},
   "outputs": [
    {
     "data": {
      "text/html": [
       "<div>\n",
       "<style scoped>\n",
       "    .dataframe tbody tr th:only-of-type {\n",
       "        vertical-align: middle;\n",
       "    }\n",
       "\n",
       "    .dataframe tbody tr th {\n",
       "        vertical-align: top;\n",
       "    }\n",
       "\n",
       "    .dataframe thead th {\n",
       "        text-align: right;\n",
       "    }\n",
       "</style>\n",
       "<table border=\"1\" class=\"dataframe\">\n",
       "  <thead>\n",
       "    <tr style=\"text-align: right;\">\n",
       "      <th></th>\n",
       "      <th>0</th>\n",
       "      <th>1</th>\n",
       "      <th>2</th>\n",
       "      <th>3</th>\n",
       "      <th>4</th>\n",
       "      <th>5</th>\n",
       "      <th>6</th>\n",
       "    </tr>\n",
       "  </thead>\n",
       "  <tbody>\n",
       "    <tr>\n",
       "      <th>26467</th>\n",
       "      <td>22</td>\n",
       "      <td>15784953</td>\n",
       "      <td>15827434</td>\n",
       "      <td>DUXAP8</td>\n",
       "      <td>0.000000</td>\n",
       "      <td>0.000000</td>\n",
       "      <td>0.000000</td>\n",
       "    </tr>\n",
       "    <tr>\n",
       "      <th>26468</th>\n",
       "      <td>22</td>\n",
       "      <td>15805697</td>\n",
       "      <td>15820884</td>\n",
       "      <td>BMS1P22@3</td>\n",
       "      <td>0.000000</td>\n",
       "      <td>0.000000</td>\n",
       "      <td>0.000000</td>\n",
       "    </tr>\n",
       "    <tr>\n",
       "      <th>26469</th>\n",
       "      <td>22</td>\n",
       "      <td>15805697</td>\n",
       "      <td>15815897</td>\n",
       "      <td>BMS1P17@3,BMS1P18@3</td>\n",
       "      <td>0.000000</td>\n",
       "      <td>0.000000</td>\n",
       "      <td>0.000000</td>\n",
       "    </tr>\n",
       "    <tr>\n",
       "      <th>26470</th>\n",
       "      <td>22</td>\n",
       "      <td>15740892</td>\n",
       "      <td>15778287</td>\n",
       "      <td>PSLNR</td>\n",
       "      <td>0.000000</td>\n",
       "      <td>0.000000</td>\n",
       "      <td>0.000000</td>\n",
       "    </tr>\n",
       "    <tr>\n",
       "      <th>26471</th>\n",
       "      <td>22</td>\n",
       "      <td>15690025</td>\n",
       "      <td>15721631</td>\n",
       "      <td>POTEH</td>\n",
       "      <td>0.000000</td>\n",
       "      <td>0.000000</td>\n",
       "      <td>0.000000</td>\n",
       "    </tr>\n",
       "    <tr>\n",
       "      <th>...</th>\n",
       "      <td>...</td>\n",
       "      <td>...</td>\n",
       "      <td>...</td>\n",
       "      <td>...</td>\n",
       "      <td>...</td>\n",
       "      <td>...</td>\n",
       "      <td>...</td>\n",
       "    </tr>\n",
       "    <tr>\n",
       "      <th>27111</th>\n",
       "      <td>22</td>\n",
       "      <td>50674390</td>\n",
       "      <td>50733212</td>\n",
       "      <td>SHANK3</td>\n",
       "      <td>79.970067</td>\n",
       "      <td>90.409669</td>\n",
       "      <td>70.999029</td>\n",
       "    </tr>\n",
       "    <tr>\n",
       "      <th>27112</th>\n",
       "      <td>22</td>\n",
       "      <td>50735828</td>\n",
       "      <td>50738169</td>\n",
       "      <td>LOC105373100</td>\n",
       "      <td>80.037493</td>\n",
       "      <td>90.485907</td>\n",
       "      <td>71.073657</td>\n",
       "    </tr>\n",
       "    <tr>\n",
       "      <th>27113</th>\n",
       "      <td>22</td>\n",
       "      <td>50738203</td>\n",
       "      <td>50745339</td>\n",
       "      <td>ACR</td>\n",
       "      <td>80.044958</td>\n",
       "      <td>90.494347</td>\n",
       "      <td>71.080286</td>\n",
       "    </tr>\n",
       "    <tr>\n",
       "      <th>27114</th>\n",
       "      <td>22</td>\n",
       "      <td>50757085</td>\n",
       "      <td>50799637</td>\n",
       "      <td>RPL23AP82</td>\n",
       "      <td>80.102184</td>\n",
       "      <td>90.559043</td>\n",
       "      <td>71.131103</td>\n",
       "    </tr>\n",
       "    <tr>\n",
       "      <th>27115</th>\n",
       "      <td>22</td>\n",
       "      <td>50767506</td>\n",
       "      <td>50783636</td>\n",
       "      <td>RABL2B</td>\n",
       "      <td>80.097821</td>\n",
       "      <td>90.554110</td>\n",
       "      <td>71.127228</td>\n",
       "    </tr>\n",
       "  </tbody>\n",
       "</table>\n",
       "<p>646 rows × 7 columns</p>\n",
       "</div>"
      ],
      "text/plain": [
       "        0         1         2                    3          4          5  \\\n",
       "26467  22  15784953  15827434               DUXAP8   0.000000   0.000000   \n",
       "26468  22  15805697  15820884            BMS1P22@3   0.000000   0.000000   \n",
       "26469  22  15805697  15815897  BMS1P17@3,BMS1P18@3   0.000000   0.000000   \n",
       "26470  22  15740892  15778287                PSLNR   0.000000   0.000000   \n",
       "26471  22  15690025  15721631                POTEH   0.000000   0.000000   \n",
       "...    ..       ...       ...                  ...        ...        ...   \n",
       "27111  22  50674390  50733212               SHANK3  79.970067  90.409669   \n",
       "27112  22  50735828  50738169         LOC105373100  80.037493  90.485907   \n",
       "27113  22  50738203  50745339                  ACR  80.044958  90.494347   \n",
       "27114  22  50757085  50799637            RPL23AP82  80.102184  90.559043   \n",
       "27115  22  50767506  50783636               RABL2B  80.097821  90.554110   \n",
       "\n",
       "               6  \n",
       "26467   0.000000  \n",
       "26468   0.000000  \n",
       "26469   0.000000  \n",
       "26470   0.000000  \n",
       "26471   0.000000  \n",
       "...          ...  \n",
       "27111  70.999029  \n",
       "27112  71.073657  \n",
       "27113  71.080286  \n",
       "27114  71.131103  \n",
       "27115  71.127228  \n",
       "\n",
       "[646 rows x 7 columns]"
      ]
     },
     "execution_count": null,
     "metadata": {},
     "output_type": "execute_result"
    }
   ],
   "source": [
    "tmp1"
   ]
  },
  {
   "cell_type": "code",
   "execution_count": null,
   "metadata": {},
   "outputs": [
    {
     "data": {
      "text/plain": [
       "68"
      ]
     },
     "execution_count": null,
     "metadata": {},
     "output_type": "execute_result"
    }
   ],
   "source": [
    "535-467"
   ]
  },
  {
   "cell_type": "code",
   "execution_count": null,
   "metadata": {},
   "outputs": [
    {
     "data": {
      "text/plain": [
       "0.8150499675027519"
      ]
     },
     "execution_count": null,
     "metadata": {},
     "output_type": "execute_result"
    }
   ],
   "source": [
    "sum([0.81492771, 0.00012225750, 2.7516191e-12, 4.1280478e-16])"
   ]
  },
  {
   "cell_type": "markdown",
   "metadata": {},
   "source": [
    "## Testing write pickle"
   ]
  },
  {
   "cell_type": "code",
   "execution_count": null,
   "metadata": {},
   "outputs": [
    {
     "name": "stdout",
     "output_type": "stream",
     "text": [
      "\u001b[1;40;32mMESSAGE: Binary trait detected in [/mnt/mfs/statgen/yin/Github/linkage/SEQpy3/data/mwe_normal_fam.csv]\u001b[0m\n",
      "\u001b[1;40;32mMESSAGE: Checking local resources 5/5 ...\u001b[0m                                               \n",
      "anno (1000, 6)\n",
      "\u001b[1;40;32mMESSAGE: 7 samples found in FAM file but not in VCF file:\n",
      "22_1_20, 1036_2, 22_1_10, 28_9_100, 28_9_186, 28_9_101, 1036_1\u001b[0m\n",
      "\u001b[1;40;32mMESSAGE: 3,461 samples in VCF file will be ignored due to absence in FAM file\u001b[0m\n",
      "\u001b[1;40;32mMESSAGE: 3,479 samples found in [/mnt/mfs/statgen/yin/Github/linkage/SEQpy3/data/first1000snp_full_samples.vcf.gz]\u001b[0m\n",
      "\u001b[1;40;32mMESSAGE: Loading marker map from [/home/yh3455/.SEQLinkage/genemap.hg38.txt] ...\u001b[0m\n",
      "\u001b[1;40;32mMESSAGE: 3 families with a total of 18 samples will be scanned for 28,325 pre-defined units\u001b[0m\n",
      "\u001b[1;40;32mMESSAGE: Phasing haplotypes log file: [../data/first1000pickle/tmp/SEQLinkage_tmp_w8x_owut/clog.first1000pickle.STDOUT10684.log]\u001b[0m\n",
      "\u001b[1;40;32mMESSAGE: 4 units (from 238 variants) processed; 24 Mendelian inconsistencies and 0 recombination events handled\u001b[0m   Family 28_9 (12 bits) -  Singlepoint:  51%                    \n",
      "\u001b[1;40;32mMESSAGE: 28,321 units ignored due to absence in VCF file\u001b[0m\n",
      "\u001b[1;40;32mMESSAGE: Archiving regional marker data to directory [../data/first1000pickle/cache]\u001b[0m\n",
      "merlin\n",
      "\u001b[1;40;32mMESSAGE: 4 units will be converted to MERLIN format\u001b[0m\n",
      "\u001b[1;40;32mMESSAGE: 4 units successfully converted to MERLIN format\u001b[0m\n",
      "\u001b[1;40;32mMESSAGE: Archiving MERLIN format to directory [../data/first1000pickle/cache]\u001b[0m\n",
      "\u001b[1;40;32mMESSAGE: Saving data to [/mnt/mfs/statgen/yin/Github/linkage/SEQpy3/data/first1000pickle]\u001b[0m\n"
     ]
    }
   ],
   "source": [
    "!seqlink --fam ../data/mwe_normal_fam.csv --vcf ../data/first1000snp_full_samples.vcf.gz --anno ../data/first1000_chr1_multianno.csv --pop ../data/full_sample_fam_pop.txt -f MERLIN --build hg38 --freq AF -o ../data/first1000pickle --bin 1 --maf-cutoff 0.05"
   ]
  },
  {
   "cell_type": "code",
   "execution_count": null,
   "metadata": {},
   "outputs": [],
   "source": [
    "import pickle\n",
    "with open('../data/first1000pickle/CACHE/first1000pickle.pickle', 'rb') as handle:\n",
    "    first1000 = pickle.load(handle)"
   ]
  },
  {
   "cell_type": "code",
   "execution_count": null,
   "metadata": {},
   "outputs": [
    {
     "data": {
      "text/plain": [
       "4"
      ]
     },
     "execution_count": null,
     "metadata": {},
     "output_type": "execute_result"
    }
   ],
   "source": [
    "len(first1000)"
   ]
  },
  {
   "cell_type": "markdown",
   "metadata": {},
   "source": [
    "seqlink --fam ../data/mwe_normal_fam.csv --vcf ../data/first1000snp_full_samples.vcf.gz --anno ../data/first1000_chr1_multianno.csv --pop ../data/full_sample_fam_pop.txt -f MERLIN --build hg38 --freq AF -o ../data/first1000pickle --bin 1 --maf-cutoff 0.05 --jobs 1\n"
   ]
  },
  {
   "cell_type": "markdown",
   "metadata": {},
   "source": [
    "## All variants"
   ]
  },
  {
   "cell_type": "markdown",
   "metadata": {},
   "source": [
    "seqlink --fam data/new_trim_ped_famless17_no:xx.fam --vcf /mnt/mfs/statgen/alzheimers-family/linkage_files/geno/full_sample/vcf/full_sample.vcf.gz --anno MWE/annotation/EFIGA_NIALOAD_chr19.hg38.hg38_multianno.csv --pop data/full_sample_fam_pop.txt -f MERLIN --build hg38 --freq AF -o data/apoechr19test --blueprint data/data/genemap.hg38.chr19APOE.txt --bin 1 --maf-cutoff 0.05 --jobs 1"
   ]
  },
  {
   "cell_type": "markdown",
   "metadata": {},
   "source": [
    "### chr19"
   ]
  },
  {
   "cell_type": "markdown",
   "metadata": {},
   "source": [
    "seqlink --fam data/new_trim_ped_famless17_no:xx.fam --vcf /mnt/mfs/statgen/alzheimers-family/linkage_files/geno/full_sample/vcf/full_sample.vcf.gz --anno MWE/annotation/EFIGA_NIALOAD_chr19.hg38.hg38_multianno.csv --pop data/full_sample_fam_pop.txt -f MERLIN --build hg38 --freq AF -o data/chr19test --bin 1 --maf-cutoff 0.05 --jobs 1"
   ]
  },
  {
   "cell_type": "markdown",
   "metadata": {},
   "source": [
    "### chr21"
   ]
  },
  {
   "cell_type": "markdown",
   "metadata": {},
   "source": [
    "seqlink --fam data/new_trim_ped_famless17_no:xx.fam --vcf /mnt/mfs/statgen/alzheimers-family/linkage_files/geno/full_sample/vcf/full_sample.vcf.gz --anno MWE/annotation/EFIGA_NIALOAD_chr21.hg38.hg38_multianno.csv --pop data/full_sample_fam_pop.txt -f MERLIN --build hg38 --freq AF -o data/chr21test --bin 1 --maf-cutoff 0.05 --jobs 1"
   ]
  },
  {
   "cell_type": "markdown",
   "metadata": {},
   "source": [
    "### chr18"
   ]
  },
  {
   "cell_type": "markdown",
   "metadata": {},
   "source": [
    "seqlink --fam data/new_trim_ped_famless17_no:xx.fam --vcf /mnt/mfs/statgen/alzheimers-family/linkage_files/geno/full_sample/vcf/full_sample.vcf.gz --anno MWE/annotation/EFIGA_NIALOAD_chr18.hg38.hg38_multianno.csv --pop data/full_sample_fam_pop.txt -f MERLIN --build hg38 --freq AF -o data/chr18test --bin 1 --maf-cutoff 0.05 --jobs 1"
   ]
  },
  {
   "cell_type": "markdown",
   "metadata": {},
   "source": [
    "### chr14"
   ]
  },
  {
   "cell_type": "markdown",
   "metadata": {},
   "source": [
    "seqlink --fam data/new_trim_ped_famless17_no:xx.fam --vcf /mnt/mfs/statgen/alzheimers-family/linkage_files/geno/full_sample/vcf/full_sample.vcf.gz --anno MWE/annotation/EFIGA_NIALOAD_chr14.hg38.hg38_multianno.csv --pop data/full_sample_fam_pop.txt -f MERLIN --build hg38 --freq AF -o data/chr14test --bin 1 --maf-cutoff 0.05 --jobs 1"
   ]
  },
  {
   "cell_type": "markdown",
   "metadata": {},
   "source": [
    "## wg20220311\n",
    "seqlink --fam data/new_trim_ped_famless17_no:xx.fam --vcf /mnt/mfs/statgen/alzheimers-family/linkage_files/geno/full_sample/vcf/full_sample.vcf.gz --anno MWE/annotation/EFIGA_NIALOAD_chr19.hg38.hg38_multianno.csv --pop data/full_sample_fam_pop.txt -f MERLIN --build hg38 --freq AF -o data/wg20220311/chr19test --bin 1 --maf-cutoff 0.05 --jobs 1"
   ]
  },
  {
   "cell_type": "markdown",
   "metadata": {},
   "source": [
    "seqlink --fam data/new_trim_ped_famless17_no:xx.fam --vcf /mnt/mfs/statgen/alzheimers-family/linkage_files/geno/full_sample/vcf/full_sample.vcf.gz --anno MWE/annotation/EFIGA_NIALOAD_chr18.hg38.hg38_multianno.csv --pop data/full_sample_fam_pop.txt -f MERLIN --build hg38 --freq AF -o data/wg20220311/chr18test --bin 1 --maf-cutoff 0.05 --jobs 1\n",
    "\n",
    "\n",
    "seqlink --fam data/new_trim_ped_famless17_no:xx.fam --vcf /mnt/mfs/statgen/alzheimers-family/linkage_files/geno/full_sample/vcf/full_sample.vcf.gz --anno MWE/annotation/EFIGA_NIALOAD_chr14.hg38.hg38_multianno.csv --pop data/full_sample_fam_pop.txt -f MERLIN --build hg38 --freq AF -o data/wg20220311/chr14test --bin 1 --maf-cutoff 0.05 --jobs 1"
   ]
  },
  {
   "cell_type": "code",
   "execution_count": null,
   "metadata": {},
   "outputs": [],
   "source": []
  }
 ],
 "metadata": {
  "kernelspec": {
   "display_name": "Python 3 (ipykernel)",
   "language": "python",
   "name": "python3"
  }
 },
 "nbformat": 4,
 "nbformat_minor": 4
}
