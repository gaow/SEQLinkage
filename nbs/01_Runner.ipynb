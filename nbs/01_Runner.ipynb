{
 "cells": [
  {
   "cell_type": "code",
   "execution_count": null,
   "metadata": {},
   "outputs": [],
   "source": [
    "# default_exp Runner"
   ]
  },
  {
   "cell_type": "markdown",
   "metadata": {},
   "source": [
    "# Runner module\n",
    "\n",
    "> API details."
   ]
  },
  {
   "cell_type": "code",
   "execution_count": null,
   "metadata": {},
   "outputs": [],
   "source": [
    "#hide\n",
    "from nbdev.showdoc import *"
   ]
  },
  {
   "cell_type": "code",
   "execution_count": null,
   "metadata": {},
   "outputs": [],
   "source": [
    "#export\n",
    "from __future__ import print_function\n",
    "import os\n",
    "from SEQLinkage.Utils import *\n",
    "from collections import deque, defaultdict\n",
    "from os.path import splitext, basename, isdir, isfile\n",
    "from itertools import chain\n",
    "import numpy as np\n",
    "import matplotlib\n",
    "matplotlib.use('Agg')\n",
    "import matplotlib.pyplot as plt\n",
    "import brewer2mpl\n",
    "from scipy.optimize import minimize_scalar\n",
    "import re, glob\n",
    "from shutil import rmtree as remove_tree\n",
    "from distutils.file_util import copy_file\n",
    "#formatters\n",
    "#the handler, called from main, can call specific formatter.\n",
    "def format(tpeds, tfam, prev = None, wild_pen = None, muta_pen = None, out_format = 'MERLIN', inherit_mode = None, theta_max = None, theta_inc = None):\n",
    "    print(env.jobs) #testing line\n",
    "    if out_format == 'plink':\n",
    "        parmap(lambda x: format_plink(x, tfam), tpeds, env.jobs)\n",
    "    elif out_format == 'mega2':\n",
    "        mkpath(os.path.join(env.outdir, 'MEGA2'))\n",
    "        parmap(lambda x: format_mega2(x, tfam), tpeds, env.jobs)\n",
    "    elif out_format == 'merlin':\n",
    "        mkpath(os.path.join(env.outdir, 'MERLIN'))\n",
    "        parmap(lambda x: format_merlin(x, tfam), tpeds, env.jobs)\n",
    "    elif out_format == 'linkage':\n",
    "        parmap(lambda x: format_linkage(x, tfam, prev, wild_pen, muta_pen, inherit_mode, theta_max, theta_inc), tpeds, env.jobs)\n",
    "\n",
    "#plink format, ped and map\n",
    "def format_plink(tped, tfam):\n",
    "    out_base = '{}/PLINK/{}'.format(env.outdir, splitext(basename(tped))[0])\n",
    "    with open(tped) as tped_fh, open(tfam) as tfam_fh:\n",
    "        geno = []\n",
    "        with open(out_base + '.map', 'w') as m:\n",
    "            for line in tped_fh:\n",
    "                s = line.strip().split()\n",
    "                m.write(env.delimiter.join(s[:3]) + '\\n')\n",
    "                geno.append(deque(s[4:]))\n",
    "        with open(out_base + '.ped', 'w') as p:\n",
    "            for line in tfam_fh:\n",
    "                p.write(line.strip())\n",
    "                list(map(lambda x: p.write(' {} {}'.format(x.popleft(), x.popleft)), geno))\n",
    "                p.write(\"\\n\")\n",
    "\n",
    "#mega2 format, datain.01, pedin.01, map.01\n",
    "def format_mega2(tped, tfam):\n",
    "    trait = 'A' if env.trait == 'binary' else 'T'\n",
    "    pedheader = ['Pedigree', 'ID', 'Father', 'Mother', 'Sex', 'Trait.{}'.format(trait)]\n",
    "    out_base = os.path.join(env.outdir, 'MEGA2')\n",
    "    suffix =  re.search(r'chr([0-9XY]+)', basename(tped)).groups()[0]\n",
    "    with open(tped) as tph, open(tfam) as tfh:\n",
    "        geno = []\n",
    "        name = []\n",
    "        with open('{}/map.{}'.format(out_base, suffix), 'w') as m,\\\n",
    "             open('{}/datain.{}'.format(out_base, suffix), 'w') as d:\n",
    "            d.write('Type\\tName\\n{}\\tTrait\\n'.format(trait))\n",
    "            m.write('Chromosome\\tMap.k.a\\tName\\tMap.k.m\\tMap.k.f\\thg19.p\\n')\n",
    "            for line in tph:\n",
    "                s = line.strip().split()\n",
    "                gene, gno = re.search(r'^(\\S+?)(?:\\[(\\d+)\\])?$', s[1]).groups()\n",
    "                if not gno:\n",
    "                    gno = '0'\n",
    "                    with env.format_counter.get_lock():\n",
    "                        env.format_counter.value += 1\n",
    "                elif gno == '1':\n",
    "                    with env.format_counter.get_lock():\n",
    "                        env.format_counter.value += 1\n",
    "                if env.format_counter.value % (env.batch * env.jobs) == 0:\n",
    "                    env.log('{:,d} units processed {{{:.2%}}} ...'.format(env.format_counter.value, float(env.format_counter.value)/env.success_counter.value), flush=True)\n",
    "                d.write('M\\t{}\\n'.format(s[1]))\n",
    "                dis = s[2].split(';')\n",
    "                dis.insert(1,s[1])\n",
    "                m.write('{}\\t{}\\t{}\\n'.format(s[0],'\\t'.join(dis),s[3]))\n",
    "                name.append('{0}.M.1\\t{0}.M.2'.format(s[1]))\n",
    "                geno.append(deque(map(lambda x: re.sub(r'^0$', 'NA', x), s[4:])))\n",
    "        with open('{}/pedin.{}'.format(out_base, suffix), 'w') as p:\n",
    "            p.write('{}\\n'.format('\\t'.join(pedheader + name)))\n",
    "            for line in tfh:\n",
    "                p.write(line.strip())\n",
    "                s = line.strip().split()\n",
    "                list(map(lambda x: p.write('\\t{}\\t{}'.format(x.popleft(), x.popleft())), geno))\n",
    "                p.write(\"\\n\")\n",
    "\n",
    "#merlin format\n",
    "def format_merlin(tped, tfam):\n",
    "    trait = 'A' if env.trait == 'binary' else 'T'\n",
    "    #pedheader = ['Pedigree', 'ID', 'Father', 'Mother', 'Sex', 'Trait.{}'.format(trait)]\n",
    "    out_base = os.path.join(env.outdir, 'MERLIN', splitext(basename(tped))[0])\n",
    "    #suffix =  re.search(r'chr([0-9XY]+)', basename(tped)).groups()[0]\n",
    "    with open(tped) as tph, open(tfam) as tfh:\n",
    "        geno = []\n",
    "        #name = []\n",
    "        with open('{}.map'.format(out_base), 'w') as m,\\\n",
    "             open('{}.dat'.format(out_base), 'w') as d:\n",
    "            d.write('{}\\tTrait\\n'.format(trait))\n",
    "            m.write('CHROMOSOME\\tMARKER\\t\\tPOSITION\\tFEMALE_POSITION\\tMALE_POSITION\\n')\n",
    "            for line in tph:\n",
    "                s = line.strip().split()\n",
    "                gene, gno = re.search(r'^(\\S+?)(?:\\[(\\d+)\\])?$', s[1]).groups()\n",
    "                if not gno:\n",
    "                    gno = '0'\n",
    "                    with env.format_counter.get_lock():\n",
    "                        env.format_counter.value += 1\n",
    "                elif gno == '1':\n",
    "                    with env.format_counter.get_lock():\n",
    "                        env.format_counter.value += 1\n",
    "                if env.format_counter.value % (env.batch * env.jobs) == 0:\n",
    "                    env.log('{:,d} units processed {{{:.2%}}} ...'.format(env.format_counter.value, float(env.format_counter.value)/env.success_counter.value), flush=True)\n",
    "                d.write('M\\t{}\\n'.format(s[1]))\n",
    "                dis = s[2].split(';')\n",
    "                dis[1], dis[2] = dis[2], dis[1]\n",
    "                #dis.insert(1,s[1])\n",
    "                m.write('{}\\t{}\\t{}\\n'.format(s[0],s[1],'\\t'.join(dis)))\n",
    "                #name.append('{0}.M.1\\t{0}.M.2'.format(s[1]))\n",
    "                geno.append(deque(s[4:]))\n",
    "        with open('{}.ped'.format(out_base), 'w') as p:\n",
    "            #p.write('{}\\n'.format('\\t'.join(pedheader + name)))\n",
    "            for line in tfh:\n",
    "                p.write(line.strip())\n",
    "                s = line.strip().split()\n",
    "                list(map(lambda x: p.write('\\t{}\\t{}'.format(x.popleft(), x.popleft())), geno))\n",
    "                p.write(\"\\n\")\n",
    "\n",
    "\n",
    "#linkage format, .pre and .loc\n",
    "#per locus, per family based\n",
    "#because the haplotype patterns are different from family to family.\n",
    "#You can analyze them all together\n",
    "def format_linkage(tped, tfam, prev, wild_pen, muta_pen, inherit_mode, theta_max, theta_inc):\n",
    "    out_base = '{}/LINKAGE/{}'.format(env.tmp_dir, splitext(basename(tped))[0])\n",
    "    with open(tped) as tped_fh, open(tfam) as tfam_fh:\n",
    "        fams = parse_tfam(tfam_fh)\n",
    "        #parse per family per locus AF file\n",
    "        af = defaultdict(lambda: [])\n",
    "        #try to open the file for allele frequencies, otherwise use the default value\n",
    "        try:\n",
    "            with open(os.path.join(env.tmp_cache, basename(out_base) + '.freq')) as af_fh:\n",
    "                for line in af_fh:\n",
    "                    s = line.strip().split()\n",
    "                    freq = list(map(lambda x: max(1e-3, float(x)), s[2:]))\n",
    "                    relativefreq = np.array(freq)/sum(freq)\n",
    "                    af[(s[0],s[1])] = list(map(str, relativefreq))\n",
    "        except IOError:\n",
    "            env.error('freq info not properly read for [{}]'.format(basename(out_base)))\n",
    "        #parse tped\n",
    "        heter_pen = wild_pen\n",
    "        if inherit_mode == 'AD':\n",
    "            heter_pen = muta_pen\n",
    "        for line in tped_fh:\n",
    "            s = line.strip().split()\n",
    "            gene, gno = re.search(r'^(\\S+?)(?:\\[(\\d+)\\])?$', s[1]).groups()\n",
    "            if not gno:\n",
    "                gno = '0'\n",
    "                with env.format_counter.get_lock():\n",
    "                    env.format_counter.value += 1\n",
    "            elif gno == '1':\n",
    "                with env.format_counter.get_lock():\n",
    "                    env.format_counter.value += 1\n",
    "            if env.format_counter.value % (env.batch * env.jobs) == 0:\n",
    "                env.log('{:,d} units processed {{{:.2%}}} ...'.format(env.format_counter.value, float(env.format_counter.value)/env.success_counter.value), flush=True)\n",
    "            for fid in fams:\n",
    "                workdir = '{}/{}/{}'.format(out_base, gene, fid)\n",
    "                with env.lock:\n",
    "                    mkpath(workdir)\n",
    "                #env.error(\"fid {} num {}\\n\".format(fid, fams[fid].get_member_ids()))\n",
    "                fam_af = af[(fid, s[1])]\n",
    "                if not fam_af:\n",
    "                    #env.log('All missing in this family {} on {}[{}], skipped ...'.format(fid, gene, gno), flush=True)\n",
    "                    with env.skipped_counter.get_lock():\n",
    "                        env.skipped_counter.value += 1\n",
    "                    removeEmptyDir(workdir)\n",
    "                    continue\n",
    "                ids = fams[fid].get_sorted_ids()\n",
    "                idxes = list(map(lambda x: fams[fid].get_member_idx(x), ids))\n",
    "                gs = list(map(lambda x: s[2 * x + 4 : 2 * x + 6], idxes))\n",
    "                gs_num = len(set(filter(lambda x: x != '0', chain(*gs))))\n",
    "                if gs_num >= 10:\n",
    "                    with env.skipped_counter.get_lock():\n",
    "                        env.skipped_counter.value += 1\n",
    "                    removeEmptyDir(workdir)\n",
    "                    continue\n",
    "                with env.lock:\n",
    "                    mkpath(workdir)\n",
    "                with open('{}/{}.PRE'.format(workdir, gno), 'w') as pre:\n",
    "                    pre.write(''.join(\"{} {} {} {}\\n\".format(fid, fams[fid].print_member(pid), s[2*fams[fid].get_member_idx(pid) + 4], s[2*fams[fid].get_member_idx(pid) + 5]) for pid in ids))\n",
    "                with open('{}/{}.LOC'.format(workdir, gno), 'w') as loc:\n",
    "                    loc.write(\"2 0 0 5\\n\")\n",
    "                    loc.write(\"0 0.0 0.0 0\\n\")\n",
    "                    loc.write(\"1 2\\n\")\n",
    "                    loc.write(\"1 2\\n\")\n",
    "                    loc.write(\" {} {}\\n\".format(1 - prev, prev))\n",
    "                    loc.write(\" 1\\n\")\n",
    "                    loc.write(\" {} {} {}\\n\".format(wild_pen, heter_pen, muta_pen))\n",
    "                    loc.write(\"3 {}\\n\".format(gs_num))\n",
    "                    loc.write(' ' + ' '.join(fam_af) + \"\\n\")\n",
    "                    loc.write(\"0 0\\n\")\n",
    "                    loc.write(\"0.0\\n\")\n",
    "                    loc.write(\"1 {} {}\\n\".format(theta_inc, theta_max))\n",
    "\n",
    "            removeEmptyDir('{}/{}'.format(out_base, gene))\n",
    "    tped_fh.close()\n",
    "    tfam_fh.close()\n",
    "    removeEmptyDir('{}'.format(out_base))\n",
    "\n",
    "#parse tfam file, store families into the Pedigree class\n",
    "def parse_tfam(fh):\n",
    "    fams = defaultdict(lambda: Pedigree())\n",
    "    idx = 0\n",
    "    for line in fh:\n",
    "        s = line.strip().split()\n",
    "        fams[s[0]].add_member(s[1:], idx)\n",
    "        idx += 1\n",
    "    return fams\n",
    "\n",
    "#This is to sort the members of a pedigree.\n",
    "#To make sure that parents come before offsprings.\n",
    "class Pedigree:\n",
    "    def __init__(self):\n",
    "        self.fid = None\n",
    "        self.data = {}\n",
    "        self.graph = defaultdict(lambda:[]) #, defaultdict(lambda:[])]\n",
    "        self.sorted = []\n",
    "\n",
    "    def add_member(self, info, idx): #list [pid, father, mother, sex, pheno]\n",
    "        if info[1] != '0' and info[2] != '0':\n",
    "            self.graph[info[1]].append(info[0])\n",
    "            self.graph[info[2]].append(info[0])\n",
    "        self.data[info[0]] = info + [idx]\n",
    "\n",
    "    def get_member_info(self, pid):\n",
    "        return self.data[pid][:-1]\n",
    "\n",
    "    def get_member_idx(self, pid):\n",
    "        return self.data[pid][-1]\n",
    "\n",
    "    def get_member_ids(self):\n",
    "        return self.data.keys()\n",
    "\n",
    "    def print_member(self, pid):\n",
    "        return ' '.join(self.get_member_info(pid))\n",
    "\n",
    "    def get_sorted_ids(self):\n",
    "        if self.sorted:\n",
    "            return self.sorted\n",
    "        else:\n",
    "            #This algorithm was first described by Kahn (1962)\n",
    "            S_no_parents = list(filter(lambda x: True if self.get_member_info(x)[1] == '0' else False, self.get_member_ids()))\n",
    "            graph = self.graph.copy()\n",
    "            while(S_no_parents):\n",
    "                n = S_no_parents.pop()\n",
    "                self.sorted.append(n)\n",
    "                if n not in graph:\n",
    "                    continue\n",
    "                offsprings = graph.pop(n)\n",
    "                for m in offsprings:\n",
    "                    father = self.get_member_info(m)[1]\n",
    "                    mother = self.get_member_info(m)[2]\n",
    "                    if father not in graph and mother not in graph:\n",
    "                        S_no_parents.append(m)\n",
    "            if graph:\n",
    "                raise Exception(\"There is a loop in the pedigree: {}\\n\".format(' '.join(graph.keys())))\n",
    "            else:\n",
    "                return self.sorted\n",
    "\n",
    "#runners\n",
    "def run_linkage(blueprint, theta_inc, theta_max, to_plot = True):\n",
    "    try:\n",
    "        remove_tree(os.path.join(env.outdir, 'heatmap'))\n",
    "    except OSError:\n",
    "        pass\n",
    "    with open(os.path.join(env.tmp_dir, 'LinkageRuntimeError.txt'), 'w') as runtime_err:\n",
    "        workdirs = glob.glob('{}/LINKAGE/{}.chr*'.format(env.tmp_dir, env.output))\n",
    "        parmap(lambda x: linkage_worker(blueprint, x, theta_inc, theta_max, runtime_err, to_plot) , workdirs, env.jobs)\n",
    "\n",
    "def linkage_worker(blueprint, workdir, theta_inc, theta_max, errfile, to_plot = True):\n",
    "    #env.log(\"Start running LINKAGE for {} ...\".format(workdir), flush=True)\n",
    "    #hash genes into genemap\n",
    "    genemap = {}\n",
    "    if blueprint:\n",
    "        with open(blueprint) as f:\n",
    "            for line in f.readlines():\n",
    "                chrID, start, end, gene = line.strip().split()[:4]\n",
    "                genemap[gene] = [chrID, int(start), int(end)]\n",
    "    else:\n",
    "        tped = os.path.join(env.tmp_cache, basename(workdir) + '.tped')\n",
    "        with open(tped) as f:\n",
    "            for line in f.readlines():\n",
    "                items = line.strip().split()[:4]\n",
    "                chrID = items[0]\n",
    "                gene = items[1]\n",
    "                pos = items[3]\n",
    "                genemap[gene] = [chrID, int(pos), int(pos)+1]\n",
    "    with env.lock:\n",
    "        mkpath('{}/heatmap'.format(env.outdir))\n",
    "    lods_fh = open('{}/heatmap/{}.lods'.format(env.outdir, basename(workdir)), 'w')\n",
    "    hlods_fh = open('{}/heatmap/{}.hlods'.format(env.outdir, basename(workdir)), 'w')\n",
    "    famlods_fh = open('{}/heatmap/{}.family-lods'.format(env.outdir, basename(workdir)), 'w')\n",
    "    genes = list(filter(lambda g: g in genemap, map(basename, glob.glob(workdir + '/*'))))\n",
    "    for gene in sorted(genes, key=lambda g: genemap[g]):\n",
    "        lods = {}\n",
    "        hlods = {}\n",
    "        fams = map(basename, filter(isdir, glob.glob('{}/{}/*'.format(workdir, gene))))\n",
    "        for fam in fams:\n",
    "            with cd('{}/{}/{}'.format(workdir, gene, fam)):\n",
    "                units = map(lambda x: re.sub(r'^(\\d+?)\\.PRE$', r'\\1', x) ,glob.glob('*.PRE'))\n",
    "                for unit in units:\n",
    "                    copy_file('{}.LOC'.format(unit), 'datafile.dat')\n",
    "                    copy_file('{}.PRE'.format(unit), 'pedfile.pre')\n",
    "\n",
    "                    step1 = runCommand(['makeped', 'pedfile.pre', 'pedfile.ped', 'n'],\n",
    "                                       show_stderr = False, return_zero = False)\n",
    "                    if step1[1]:\n",
    "                        if env.debug:\n",
    "                            with env.lock:\n",
    "                                print(\"makeped error:\", step1[1], file = sys.stderr)\n",
    "                        with env.makeped_counter.get_lock():\n",
    "                            env.makeped_counter.value += 1\n",
    "                        with env.lock:\n",
    "                            errfile.write(step1[1])\n",
    "                        continue\n",
    "                    step2 = runCommand(['pedcheck', '-p', 'pedfile.ped', '-d', 'datafile.dat', '-c'],\n",
    "                                       show_stderr = False, return_zero = False)\n",
    "                    if step2[1]:\n",
    "                        lines = [x for x in step2[1].split('\\n')\n",
    "                                 if not x.strip().startswith('*') and x.strip()]\n",
    "                        if len(lines) > 0:\n",
    "                            env.log('{} lines'.format(len(lines)))\n",
    "                            with env.lock:\n",
    "                                errfile.write(step2[1])\n",
    "                            if env.debug:\n",
    "                                with env.lock:\n",
    "                                    print(\"pedcheck error:\", '\\n'.join(lines), file = sys.stderr)\n",
    "                    try:\n",
    "                        copy_file('zeroout.dat', 'pedfile.dat')\n",
    "                    except:\n",
    "                        with env.pedcheck_counter.get_lock():\n",
    "                            env.pedcheck_counter.value += 1\n",
    "                        continue\n",
    "                    step3 = runCommand('unknown', show_stderr = False, return_zero = False)\n",
    "                    if step3[1]:\n",
    "                        if env.debug:\n",
    "                            with env.lock:\n",
    "                                print(\"unkn error:\", step3[1], file = sys.stderr)\n",
    "                        with env.unknown_counter.get_lock():\n",
    "                            env.unknown_counter.value += 1\n",
    "                        with env.lock:\n",
    "                            errfile.write(step3[1])\n",
    "                        continue\n",
    "                    step4 = runCommand('mlink', show_stderr = False, return_zero = False)\n",
    "                    if step4[1]:\n",
    "                        if env.debug:\n",
    "                            with env.lock:\n",
    "                                print(\"mlink error:\", step4[1], file = sys.stderr)\n",
    "                        with env.lock:\n",
    "                            errfile.write(step4[1])\n",
    "                    try:\n",
    "                        copy_file('outfile.dat', '{}.out'.format(unit))\n",
    "                    except:\n",
    "                        with env.mlink_counter.get_lock():\n",
    "                            env.mlink_counter.value += 1\n",
    "                        continue\n",
    "                    #clean linkage tmp files\n",
    "                    for f in set(glob.glob('*.dat') + glob.glob('ped*') + ['names.tmp']):\n",
    "                        os.remove(f)\n",
    "                    #collect lod scores of different thelta for the fam\n",
    "                    with open('{}.out'.format(unit)) as out:\n",
    "                        raw = out.read()\n",
    "                        for i in re.finditer(r'^THETAS\\s+(0\\.\\d+)(?:\\n.+?){7}LOD SCORE =\\s+(-?\\d+\\.\\d+)', raw, re.MULTILINE):\n",
    "                            theta, lod = map(float, i.group(1,2))\n",
    "                            #if float(lod) < 1e-6:\n",
    "                            #    lod = 0\n",
    "                            if theta not in lods:\n",
    "                                lods[theta] = {fam: lod}\n",
    "                            elif fam not in lods[theta] or lod > lods[theta][fam]:\n",
    "                                lods[theta][fam] = lod\n",
    "        for theta in sorted(lods.keys()):\n",
    "            lods_fh.write('{} {} {} {}\\n'.format(gene, ' '.join(map(str, genemap[gene])), theta, sum(lods[theta].values())))\n",
    "            for fam in lods[theta]:\n",
    "                famlods_fh.write('{} {} {} {} {}\\n'.format(fam, gene, ' '.join(map(str, genemap[gene])), theta, lods[theta][fam]))\n",
    "            res = minimize_scalar(hlod_fun(lods[theta].values(), -1), bounds=(0,1), method='bounded', options={'xatol':1e-8})\n",
    "            a = res.x\n",
    "            hlods_fh.write('{} {} {} {} {}\\n'.format(gene, ' '.join(map(str, genemap[gene])), a, theta, hlod_fun(lods[theta].values())(a)))\n",
    "        with env.run_counter.get_lock():\n",
    "            env.run_counter.value += 1\n",
    "        if env.run_counter.value % (env.batch * env.jobs) == 0:\n",
    "            env.log('Linkage analysis for {:,d} units completed {{{:.2%}}} ...'.format(env.run_counter.value, float(env.run_counter.value)/env.success_counter.value), flush=True)\n",
    "    lods_fh.close()\n",
    "    hlods_fh.close()\n",
    "    famlods_fh.close()\n",
    "    if to_plot:\n",
    "        heatmap('{}/heatmap/{}.lods'.format(env.outdir, basename(workdir)), theta_inc, theta_max)\n",
    "        heatmap('{}/heatmap/{}.hlods'.format(env.outdir, basename(workdir)), theta_inc, theta_max)\n",
    "    #env.log(\"Finished running LINKAGE for {}.\".format(workdir), flush=True)\n",
    "\n",
    "\n",
    "def hinton(filename, max_weight=None, ax=None):\n",
    "    if ax is None:\n",
    "        ax = plt.gca()\n",
    "    matrix = np.random.rand(20, 20) - 0.5\n",
    "    if not max_weight:\n",
    "        max_weight = 2**np.ceil(np.log(np.abs(matrix).max())/np.log(2))\n",
    "    ax.patch.set_facecolor('gray')\n",
    "    ax.set_aspect('equal', 'box')\n",
    "    ax.xaxis.set_major_locator(plt.NullLocator())\n",
    "    ax.yaxis.set_major_locator(plt.NullLocator())\n",
    "    chrID = re.search(r'\\.chr([0-9XY]+)\\.', filename).group(1)\n",
    "    ax.set_title('Chromosome {}'.format(chrID))\n",
    "    for (x,y),w in np.ndenumerate(matrix):\n",
    "        color = 'white' if w > 0 else 'black'\n",
    "        size = np.sqrt(np.abs(w))\n",
    "        rect = plt.Rectangle([x - size / 2, y - size / 2], size, size,\n",
    "                             facecolor=color, edgecolor=color)\n",
    "        ax.add_patch(rect)\n",
    "    ax.autoscale_view()\n",
    "    ax.invert_yaxis()\n",
    "    plt.savefig(filename)\n",
    "\n",
    "\n",
    "def heatmap(file, theta_inc, theta_max):\n",
    "    #env.log(\"Start ploting heatmap for {} ...\".format(file), flush=True)\n",
    "    if os.path.getsize(file) == 0:\n",
    "        hinton('{}.png'.format(file))\n",
    "        return\n",
    "    lods = []\n",
    "    with open(file, 'r') as f:\n",
    "        for line in f.readlines():\n",
    "            theta,lod = line.split()[-2:]\n",
    "            if float(theta) >= theta_max:\n",
    "                continue\n",
    "            lods.append(lod)\n",
    "        if max(lods) == min(lods):\n",
    "            #env.log('Max equals Min for [{}], No real heatmap will be generated.'.format(file))\n",
    "            hinton('{}.png'.format(file))\n",
    "            #return\n",
    "        Num=int(round(theta_max/theta_inc))\n",
    "        lods = np.array(list(map(float,lods))).reshape((-1,Num))\n",
    "        chrID = re.search(r'\\.chr([0-9XY]+)\\.', file).group(1)\n",
    "        fig, ax = plt.subplots(1)\n",
    "        ax.set_title('Chromosome {}'.format(chrID))\n",
    "        ax.pcolormesh(lods.transpose(),cmap=brewer2mpl.get_map('Blues', 'Sequential', 9).mpl_colormap)\n",
    "        fig.savefig('{}.png'.format(file))\n",
    "        #fig.close()\n",
    "    #env.log(\"Finished ploting heatmap for {}.\".format(file), flush=True)\n",
    "\n",
    "def hlod_fun(Li, sign=1):\n",
    "    def _fun(alpha):\n",
    "        return sign * sum(np.log10(alpha*np.power(10, list(Li)) + 1 - alpha))\n",
    "    return _fun\n",
    "\n",
    "def html(theta_inc, theta_max, limit):\n",
    "    if limit <= 0:\n",
    "        return\n",
    "    head = \"\"\"<html>\n",
    "    <head>\n",
    "    <title>Results for {}</title>\"\"\".format(env.output) + \"\"\"\n",
    "    <style>\n",
    "    table {\n",
    "\tfont-family: verdana,arial,sans-serif;\n",
    "\tfont-size:12px;\n",
    "\tcolor:#333333;\n",
    "\tborder-width: 1px;\n",
    "\tborder-color: #CCCCCC;\n",
    "\tborder-collapse: collapse;\n",
    "    }\n",
    "    table th {\n",
    "\tborder-width: 1px;\n",
    "\tpadding: 6px;\n",
    "\tcolor: #006295;\n",
    "\tborder-style: solid;\n",
    "\tborder-color: #CCCCCC;\n",
    "\tbackground-color: #F8F8F8;\n",
    "    }\n",
    "    table td {\n",
    "\tborder-width: 1px;\n",
    "\tpadding: 6px;\n",
    "\tborder-style: solid;\n",
    "\tborder-color: #CCCCCC;\n",
    "\tbackground-color: #ffffff;\n",
    "    }\n",
    "    a,\n",
    "    a:link,\n",
    "    a:visited,\n",
    "    a:active\n",
    "    {\n",
    "\tcolor: #3366CC;\n",
    "\tborder-bottom: 1px dotted #3366CC;\n",
    "\ttext-decoration:none;\n",
    "    }\n",
    "    a:hover\n",
    "    {\n",
    "\tborder-bottom: none;\n",
    "\tcolor: #ffffff;\n",
    "    background-color: #006295;\n",
    "    }\n",
    "    body {font-family:Lucida Sans Unicode,arial,sans-serif;}\n",
    "    </style>\n",
    "    <script type=\"text/javascript\">\n",
    "    function toggle(obj) {\n",
    "    var elstyle = document.getElementById(obj).style;\n",
    "    var text    = document.getElementById(obj + \"tog\");\n",
    "    if (elstyle.display == \\'none\\') {\n",
    "    elstyle.display = \\'block\\';\n",
    "    text.innerHTML = \"hide\";\n",
    "    } else {\n",
    "    elstyle.display = \\'none\\';\n",
    "    text.innerHTML = \"show\";\n",
    "    }\n",
    "    }</script>\n",
    "    </head>\"\"\"\n",
    "    body = \"\"\"<body>\n",
    "    <p><a href=\"#Lods_Table\" onclick=\"toggle(\\'lods_tbl\\')\">Ranked LOD scores</a>\n",
    "    <div id=\"lods_tbl\" class=\"divinfo\", style=\"border:0px;width:auto;height:auto;overflow-y:hidden;overflow-x:scroll;\">{}</div></p>\n",
    "    <p><a href=\"#Hlods_Table\" onclick=\"toggle(\\'hlods_tbl\\')\">Ranked HLOD scores</a>\n",
    "    <div id=\"hlods_tbl\" class=\"divinfo\", style=\"border:0px;width:auto;height:auto;overflow-y:hidden;overflow-x:scroll;\">{}</div></p>\n",
    "    <p><a href=\"#Lods_Heatmap\" onclick=\"toggle(\\'lods_heatmap\\')\">LOD scores heatmap</a>\n",
    "    <div id=\"lods_heatmap\">{}</div></p>\n",
    "    <p><a href=\"#Hlods_Heatmap\" onclick=\"toggle(\\'hlods_heatmap\\')\">HLOD scores heatmap</a>\n",
    "    <div id=\"hlods_heatmap\">{}</div></p>\n",
    "    </body>\n",
    "    </html>\"\"\"\n",
    "    env.log('Generating Report in HTML format ...', flush = True)\n",
    "    with open('{}/{}_Report.html'.format(env.outdir, env.output), 'w') as f:\n",
    "        #t = Template(index)\n",
    "        #c = Context({ \"lods\": lods_tbl })\n",
    "        f.write(head + body.format(html_table('Lod', theta_inc, theta_max, limit), html_table('Hlod', theta_inc, theta_max, limit), html_img('lod'), html_img('hlod')))\n",
    "    env.log('Report for [{}] is generated in HTML format\\n'.format(env.output), flush = True)\n",
    "\n",
    "def html_img(ltype):\n",
    "    chrs = ['{}'.format(i+1) for i in range(22)] + ['X', 'Y']\n",
    "    imgs = ['heatmap/{0}.chr{1}.{2}s.png'.format(env.output, chrID, ltype) for chrID in chrs]\n",
    "    exist_imgs = [img for img in imgs if isfile('{}/{}'.format(env.outdir,img))]\n",
    "    return ''.join('<img src={}></img>'.format(img) for img in exist_imgs)\n",
    "\n",
    "def html_table(type, theta_inc, theta_max, limit):\n",
    "    colNum = int(round(theta_max/theta_inc))\n",
    "    theta_orders = range(colNum)\n",
    "    thetas = map(lambda x: theta_inc * x, range(colNum))\n",
    "    #table\n",
    "    table = r'<table style=\"width:300px;font-size:12px\">{}</table>'\n",
    "    #table header\n",
    "    lods_header = r'<tr>{}</tr>'.format(''.join(r'<th colspan=\"2\">&#952;={}</td>'.format(x) for x in thetas))\n",
    "    lods_header += r'<tr>{}</tr>'.format(r'<th rowspan=\"2\">{}</th><th>Marker name</th>'.format(type) * colNum)\n",
    "    lods_header += r'<tr>{}</tr>'.format(r'<th>chr:start-end</th>' * colNum)\n",
    "    #initialize lods dict\n",
    "    lods = {}\n",
    "    for theta_order in theta_orders:\n",
    "        lods[theta_order] = {}\n",
    "        #print '{}\\n'.format(theta_order)\n",
    "    #read lods\n",
    "    lods_files = glob.glob('{}/heatmap/{}.*.{}s'.format(env.outdir, env.output, type.lower()))\n",
    "    for file in lods_files:\n",
    "        with open(file, 'r') as f:\n",
    "            for line in f:\n",
    "                if type == 'Lod':\n",
    "                    gene, chrId, start, end, theta, lod = line.strip().split()\n",
    "                    if int(round(float(theta)/theta_inc)) >= colNum:\n",
    "                        continue\n",
    "                    lods[int(round(float(theta)/theta_inc))][gene] = ['<b>{}</b>'.format(round(float(lod),3)), gene, chrId, start, end]\n",
    "                elif type == 'Hlod':\n",
    "                    gene, chrId, start, end, a, theta, lod = line.strip().split()\n",
    "                    if int(round(float(theta)/theta_inc)) >= colNum:\n",
    "                        continue\n",
    "                    lods[int(round(float(theta)/theta_inc))][gene] = ['<b>{}</b><br>&#945;={}'.format(round(float(lod),3), round(float(a),3)), gene, chrId, start, end]\n",
    "                else:\n",
    "                    env.error('Wrong type of LOD')\n",
    "\n",
    "    #collect result\n",
    "    res = np.empty((len(theta_orders), limit), dtype=list)\n",
    "    for theta_order in theta_orders:\n",
    "        i=0\n",
    "        for gene in sorted(lods[theta_order].keys(), key=lambda x: lods[theta_order][x][0], reverse=True):\n",
    "            if i >= limit:\n",
    "                break\n",
    "            res[theta_order][i] = lods[theta_order][gene]\n",
    "            i += 1\n",
    "    #print res\n",
    "    #write lods table\n",
    "    lods_res = ''\n",
    "    for i in range(min(limit, len(lods[0].keys()))):\n",
    "        lods_res += r'<tr>{}</tr>'.format(''.join(r'<td rowspan=\"2\">{}</td><td>{}</td>'.format(res[theta_order][i][0],res[theta_order][i][1]) for theta_order in theta_orders))\n",
    "        lods_res += r'<tr>{}</tr>'.format(''.join(r'<td>{}:{}-{}</td>'.format(res[theta_order][i][2],res[theta_order][i][3],res[theta_order][i][4]) for theta_order in theta_orders))\n",
    "    lods_tbl = table.format(lods_header + lods_res)\n",
    "    return lods_tbl\n",
    "\n"
   ]
  },
  {
   "cell_type": "markdown",
   "metadata": {},
   "source": [
    "## Testing runner"
   ]
  },
  {
   "cell_type": "code",
   "execution_count": null,
   "metadata": {},
   "outputs": [],
   "source": [
    "#hide\n",
    "%load_ext autoreload\n",
    "%autoreload 2"
   ]
  },
  {
   "cell_type": "markdown",
   "metadata": {},
   "source": [
    "### 1. parameters"
   ]
  },
  {
   "cell_type": "code",
   "execution_count": null,
   "metadata": {},
   "outputs": [],
   "source": [
    "from SEQLinkage.Main import *\n",
    "from __future__ import print_function\n",
    "from SEQLinkage.Utils import *\n",
    "from multiprocessing import Process, Queue\n",
    "from collections import OrderedDict\n",
    "import itertools\n",
    "from copy import deepcopy\n",
    "import sys, faulthandler, platform\n",
    "import numpy as np\n",
    "import os\n",
    "if sys.version_info.major == 2:\n",
    "    from cstatgen import cstatgen_py2 as cstatgen\n",
    "    from cstatgen.egglib import Align\n",
    "else:\n",
    "    from cstatgen import cstatgen_py3 as cstatgen\n",
    "    import egglib\n",
    "    from egglib import Align"
   ]
  },
  {
   "cell_type": "code",
   "execution_count": null,
   "metadata": {},
   "outputs": [],
   "source": [
    "args = Args().parser.parse_args('--fam data/mwe_normal_fam.csv --vcf data/first1000snp_full_samples.vcf.gz -f MERLIN --blueprint data/genemap.hg38.txt --freq AF --run-linkage -K 0.001 --moi AD -W 0 -M 1 --theta-max 0.5 --theta-inc 0.05'.split())"
   ]
  },
  {
   "cell_type": "code",
   "execution_count": null,
   "metadata": {},
   "outputs": [
    {
     "data": {
      "text/plain": [
       "Namespace(bin=0.8, blueprint='data/genemap.hg38.txt', single_markers=False, tfam='data/mwe_normal_fam.csv', vcf='data/first1000snp_full_samples.vcf.gz', build='hg19', prephased=False, freq='AF', freq_by_fam=None, mle=False, rvhaplo=False, recomb_max=1, recomb_cross_fam=False, rsq=0.0, include_vars=None, maf_cutoff=1.0, chr_prefix=None, output=None, format=['MERLIN'], prevalence=0.001, inherit_mode='AD', wild_pen=0.0, muta_pen=1.0, theta_max=0.5, theta_inc=0.05, run_linkage=True, output_limit=10, jobs=16, tempdir=None, vanilla=True, quiet=False, debug=False, no_save=False, func=<function main at 0x2b7a3363e1f0>)"
      ]
     },
     "execution_count": null,
     "metadata": {},
     "output_type": "execute_result"
    }
   ],
   "source": [
    "args"
   ]
  },
  {
   "cell_type": "code",
   "execution_count": null,
   "metadata": {},
   "outputs": [
    {
     "name": "stderr",
     "output_type": "stream",
     "text": [
      "\u001b[1;40;32mMESSAGE: Binary trait detected in [/mnt/mfs/statgen/yin/Github/linkage/SEQpy3/data/mwe_normal_fam.csv]\u001b[0m\n"
     ]
    },
    {
     "data": {
      "text/plain": [
       "True"
      ]
     },
     "execution_count": null,
     "metadata": {},
     "output_type": "execute_result"
    }
   ],
   "source": [
    "checkParams(args)"
   ]
  },
  {
   "cell_type": "code",
   "execution_count": null,
   "metadata": {},
   "outputs": [],
   "source": [
    "if args.no_save:\n",
    "    cache = NoCache()\n",
    "else:\n",
    "    cache = Cache(env.cache_dir, env.output, vars(args))\n",
    "cache.setID('vcf')"
   ]
  },
  {
   "cell_type": "markdown",
   "metadata": {},
   "source": [
    "## 2. Testing run_linkage"
   ]
  },
  {
   "cell_type": "code",
   "execution_count": null,
   "metadata": {},
   "outputs": [
    {
     "data": {
      "text/plain": [
       "True"
      ]
     },
     "execution_count": null,
     "metadata": {},
     "output_type": "execute_result"
    }
   ],
   "source": [
    "args.run_linkage"
   ]
  },
  {
   "cell_type": "code",
   "execution_count": null,
   "metadata": {},
   "outputs": [],
   "source": [
    "cache.setID('analysis')"
   ]
  },
  {
   "cell_type": "code",
   "execution_count": null,
   "metadata": {},
   "outputs": [
    {
     "data": {
      "text/plain": [
       "'LINKAGE'"
      ]
     },
     "execution_count": null,
     "metadata": {},
     "output_type": "execute_result"
    }
   ],
   "source": [
    "env.output"
   ]
  },
  {
   "cell_type": "code",
   "execution_count": null,
   "metadata": {},
   "outputs": [
    {
     "data": {
      "text/plain": [
       "\u001b[0;31mSignature:\u001b[0m \u001b[0mcache\u001b[0m\u001b[0;34m.\u001b[0m\u001b[0mload\u001b[0m\u001b[0;34m(\u001b[0m\u001b[0mtarget_dir\u001b[0m\u001b[0;34m=\u001b[0m\u001b[0;32mNone\u001b[0m\u001b[0;34m,\u001b[0m \u001b[0mnames\u001b[0m\u001b[0;34m=\u001b[0m\u001b[0;32mNone\u001b[0m\u001b[0;34m)\u001b[0m\u001b[0;34m\u001b[0m\u001b[0;34m\u001b[0m\u001b[0m\n",
       "\u001b[0;31mDocstring:\u001b[0m <no docstring>\n",
       "\u001b[0;31mFile:\u001b[0m      /mnt/mfs/statgen/yin/Github/linkage/SEQpy3/SEQLinkage/Utils.py\n",
       "\u001b[0;31mType:\u001b[0m      method\n"
      ]
     },
     "metadata": {},
     "output_type": "display_data"
    }
   ],
   "source": [
    "?cache.load"
   ]
  },
  {
   "cell_type": "code",
   "execution_count": null,
   "metadata": {},
   "outputs": [
    {
     "data": {
      "text/plain": [
       "'/mnt/mfs/statgen/yin/Github/linkage/SEQpy3/cache/LINKAGE.cache'"
      ]
     },
     "execution_count": null,
     "metadata": {},
     "output_type": "execute_result"
    }
   ],
   "source": [
    "cache.cache_name"
   ]
  },
  {
   "cell_type": "code",
   "execution_count": null,
   "metadata": {},
   "outputs": [
    {
     "data": {
      "text/plain": [
       "False"
      ]
     },
     "execution_count": null,
     "metadata": {},
     "output_type": "execute_result"
    }
   ],
   "source": [
    "not args.vanilla and cache.check()"
   ]
  },
  {
   "cell_type": "code",
   "execution_count": null,
   "metadata": {},
   "outputs": [],
   "source": [
    "fmt = args.format[0]"
   ]
  },
  {
   "cell_type": "code",
   "execution_count": null,
   "metadata": {},
   "outputs": [
    {
     "data": {
      "text/plain": [
       "'data/genemap.hg38.txt'"
      ]
     },
     "execution_count": null,
     "metadata": {},
     "output_type": "execute_result"
    }
   ],
   "source": [
    "args.blueprint"
   ]
  },
  {
   "cell_type": "code",
   "execution_count": null,
   "metadata": {},
   "outputs": [
    {
     "data": {
      "text/plain": [
       "0.05"
      ]
     },
     "execution_count": null,
     "metadata": {},
     "output_type": "execute_result"
    }
   ],
   "source": [
    "args.theta_inc"
   ]
  },
  {
   "cell_type": "code",
   "execution_count": null,
   "metadata": {},
   "outputs": [
    {
     "data": {
      "text/plain": [
       "0.5"
      ]
     },
     "execution_count": null,
     "metadata": {},
     "output_type": "execute_result"
    }
   ],
   "source": [
    "args.theta_max"
   ]
  },
  {
   "cell_type": "code",
   "execution_count": null,
   "metadata": {},
   "outputs": [
    {
     "data": {
      "text/plain": [
       "10"
      ]
     },
     "execution_count": null,
     "metadata": {},
     "output_type": "execute_result"
    }
   ],
   "source": [
    "args.output_limit"
   ]
  },
  {
   "cell_type": "code",
   "execution_count": null,
   "metadata": {},
   "outputs": [
    {
     "data": {
      "text/plain": [
       "\u001b[0;31mSignature:\u001b[0m \u001b[0mrun_linkage\u001b[0m\u001b[0;34m(\u001b[0m\u001b[0mblueprint\u001b[0m\u001b[0;34m,\u001b[0m \u001b[0mtheta_inc\u001b[0m\u001b[0;34m,\u001b[0m \u001b[0mtheta_max\u001b[0m\u001b[0;34m,\u001b[0m \u001b[0mto_plot\u001b[0m\u001b[0;34m=\u001b[0m\u001b[0;32mTrue\u001b[0m\u001b[0;34m)\u001b[0m\u001b[0;34m\u001b[0m\u001b[0;34m\u001b[0m\u001b[0m\n",
       "\u001b[0;31mDocstring:\u001b[0m <no docstring>\n",
       "\u001b[0;31mSource:\u001b[0m   \n",
       "\u001b[0;32mdef\u001b[0m \u001b[0mrun_linkage\u001b[0m\u001b[0;34m(\u001b[0m\u001b[0mblueprint\u001b[0m\u001b[0;34m,\u001b[0m \u001b[0mtheta_inc\u001b[0m\u001b[0;34m,\u001b[0m \u001b[0mtheta_max\u001b[0m\u001b[0;34m,\u001b[0m \u001b[0mto_plot\u001b[0m \u001b[0;34m=\u001b[0m \u001b[0;32mTrue\u001b[0m\u001b[0;34m)\u001b[0m\u001b[0;34m:\u001b[0m\u001b[0;34m\u001b[0m\n",
       "\u001b[0;34m\u001b[0m    \u001b[0;32mtry\u001b[0m\u001b[0;34m:\u001b[0m\u001b[0;34m\u001b[0m\n",
       "\u001b[0;34m\u001b[0m        \u001b[0mremove_tree\u001b[0m\u001b[0;34m(\u001b[0m\u001b[0mos\u001b[0m\u001b[0;34m.\u001b[0m\u001b[0mpath\u001b[0m\u001b[0;34m.\u001b[0m\u001b[0mjoin\u001b[0m\u001b[0;34m(\u001b[0m\u001b[0menv\u001b[0m\u001b[0;34m.\u001b[0m\u001b[0moutdir\u001b[0m\u001b[0;34m,\u001b[0m \u001b[0;34m'heatmap'\u001b[0m\u001b[0;34m)\u001b[0m\u001b[0;34m)\u001b[0m\u001b[0;34m\u001b[0m\n",
       "\u001b[0;34m\u001b[0m    \u001b[0;32mexcept\u001b[0m \u001b[0mOSError\u001b[0m\u001b[0;34m:\u001b[0m\u001b[0;34m\u001b[0m\n",
       "\u001b[0;34m\u001b[0m        \u001b[0;32mpass\u001b[0m\u001b[0;34m\u001b[0m\n",
       "\u001b[0;34m\u001b[0m    \u001b[0;32mwith\u001b[0m \u001b[0mopen\u001b[0m\u001b[0;34m(\u001b[0m\u001b[0mos\u001b[0m\u001b[0;34m.\u001b[0m\u001b[0mpath\u001b[0m\u001b[0;34m.\u001b[0m\u001b[0mjoin\u001b[0m\u001b[0;34m(\u001b[0m\u001b[0menv\u001b[0m\u001b[0;34m.\u001b[0m\u001b[0mtmp_dir\u001b[0m\u001b[0;34m,\u001b[0m \u001b[0;34m'LinkageRuntimeError.txt'\u001b[0m\u001b[0;34m)\u001b[0m\u001b[0;34m,\u001b[0m \u001b[0;34m'w'\u001b[0m\u001b[0;34m)\u001b[0m \u001b[0;32mas\u001b[0m \u001b[0mruntime_err\u001b[0m\u001b[0;34m:\u001b[0m\u001b[0;34m\u001b[0m\n",
       "\u001b[0;34m\u001b[0m        \u001b[0mworkdirs\u001b[0m \u001b[0;34m=\u001b[0m \u001b[0mglob\u001b[0m\u001b[0;34m.\u001b[0m\u001b[0mglob\u001b[0m\u001b[0;34m(\u001b[0m\u001b[0;34m'{}/LINKAGE/{}.chr*'\u001b[0m\u001b[0;34m.\u001b[0m\u001b[0mformat\u001b[0m\u001b[0;34m(\u001b[0m\u001b[0menv\u001b[0m\u001b[0;34m.\u001b[0m\u001b[0mtmp_dir\u001b[0m\u001b[0;34m,\u001b[0m \u001b[0menv\u001b[0m\u001b[0;34m.\u001b[0m\u001b[0moutput\u001b[0m\u001b[0;34m)\u001b[0m\u001b[0;34m)\u001b[0m\u001b[0;34m\u001b[0m\n",
       "\u001b[0;34m\u001b[0m        \u001b[0mparmap\u001b[0m\u001b[0;34m(\u001b[0m\u001b[0;32mlambda\u001b[0m \u001b[0mx\u001b[0m\u001b[0;34m:\u001b[0m \u001b[0mlinkage_worker\u001b[0m\u001b[0;34m(\u001b[0m\u001b[0mblueprint\u001b[0m\u001b[0;34m,\u001b[0m \u001b[0mx\u001b[0m\u001b[0;34m,\u001b[0m \u001b[0mtheta_inc\u001b[0m\u001b[0;34m,\u001b[0m \u001b[0mtheta_max\u001b[0m\u001b[0;34m,\u001b[0m \u001b[0mruntime_err\u001b[0m\u001b[0;34m,\u001b[0m \u001b[0mto_plot\u001b[0m\u001b[0;34m)\u001b[0m \u001b[0;34m,\u001b[0m \u001b[0mworkdirs\u001b[0m\u001b[0;34m,\u001b[0m \u001b[0menv\u001b[0m\u001b[0;34m.\u001b[0m\u001b[0mjobs\u001b[0m\u001b[0;34m)\u001b[0m\u001b[0;34m\u001b[0m\u001b[0;34m\u001b[0m\u001b[0m\n",
       "\u001b[0;31mFile:\u001b[0m      /tmp/2206534.1.plot.q/ipykernel_30528/2972776299.py\n",
       "\u001b[0;31mType:\u001b[0m      function\n"
      ]
     },
     "metadata": {},
     "output_type": "display_data"
    }
   ],
   "source": [
    "??run_linkage"
   ]
  },
  {
   "cell_type": "code",
   "execution_count": null,
   "metadata": {},
   "outputs": [],
   "source": [
    "LINKAGE/LINKAGE$ head LINKAGE.chr1/DDX11L1/1036/*"
   ]
  },
  {
   "cell_type": "code",
   "execution_count": null,
   "metadata": {},
   "outputs": [],
   "source": [
    "env.tmp_dir = './LINKAGE'"
   ]
  },
  {
   "cell_type": "code",
   "execution_count": null,
   "metadata": {},
   "outputs": [],
   "source": [
    "env.jobs=8"
   ]
  },
  {
   "cell_type": "code",
   "execution_count": null,
   "metadata": {},
   "outputs": [],
   "source": [
    "blueprint, theta_inc, theta_max, to_plot = args.blueprint, args.theta_inc, args.theta_max, True"
   ]
  },
  {
   "cell_type": "code",
   "execution_count": null,
   "metadata": {},
   "outputs": [],
   "source": [
    "--fam data/mwe_normal_fam.csv --vcf data/first1000snp_full_samples.vcf.gz -f LINKAGE --blueprint data/genemap.hg38.txt --freq AF"
   ]
  },
  {
   "cell_type": "code",
   "execution_count": null,
   "metadata": {},
   "outputs": [],
   "source": []
  },
  {
   "cell_type": "code",
   "execution_count": null,
   "metadata": {},
   "outputs": [
    {
     "data": {
      "text/plain": [
       "'./LINKAGE'"
      ]
     },
     "execution_count": null,
     "metadata": {},
     "output_type": "execute_result"
    }
   ],
   "source": [
    "env.tmp_dir"
   ]
  },
  {
   "cell_type": "code",
   "execution_count": null,
   "metadata": {},
   "outputs": [
    {
     "data": {
      "text/plain": [
       "'LINKAGE'"
      ]
     },
     "execution_count": null,
     "metadata": {},
     "output_type": "execute_result"
    }
   ],
   "source": [
    "env.output"
   ]
  },
  {
   "cell_type": "code",
   "execution_count": null,
   "metadata": {},
   "outputs": [
    {
     "name": "stdout",
     "output_type": "stream",
     "text": [
      "['./LINKAGE/LINKAGE/LINKAGE.chr1']\n"
     ]
    },
    {
     "data": {
      "image/png": "[encoded data removed]",
      "text/plain": [
       "<Figure size 432x288 with 1 Axes>"
      ]
     },
     "metadata": {},
     "output_type": "display_data"
    }
   ],
   "source": [
    "with open(os.path.join(env.tmp_dir, 'LinkageRuntimeError.txt'), 'w') as runtime_err:\n",
    "    workdirs = glob.glob('{}/LINKAGE/{}.chr*'.format(env.tmp_dir, env.output))\n",
    "    print(workdirs)\n",
    "    linkage_worker(blueprint, workdirs[0], theta_inc, theta_max, runtime_err, to_plot)"
   ]
  },
  {
   "cell_type": "code",
   "execution_count": null,
   "metadata": {},
   "outputs": [],
   "source": [
    "tmp = {'a':1,'b':2}"
   ]
  },
  {
   "cell_type": "code",
   "execution_count": null,
   "metadata": {},
   "outputs": [
    {
     "data": {
      "text/plain": [
       "dict_values([1, 2])"
      ]
     },
     "execution_count": null,
     "metadata": {},
     "output_type": "execute_result"
    }
   ],
   "source": [
    "tmp.values()"
   ]
  },
  {
   "cell_type": "code",
   "execution_count": null,
   "metadata": {},
   "outputs": [],
   "source": [
    "def run_linkage(blueprint, theta_inc, theta_max, to_plot = True):\n",
    "    try:\n",
    "        remove_tree(os.path.join(env.outdir, 'heatmap'))\n",
    "    except OSError:\n",
    "        pass\n",
    "    with open(os.path.join(env.tmp_dir, 'LinkageRuntimeError.txt'), 'w') as runtime_err:\n",
    "        workdirs = glob.glob('{}/LINKAGE/{}.chr*'.format(env.tmp_dir, env.output))\n",
    "        parmap(lambda x: linkage_worker(blueprint, x, theta_inc, theta_max, runtime_err, to_plot) , workdirs, env.jobs)\n",
    "\n",
    "def linkage_worker(blueprint, workdir, theta_inc, theta_max, errfile, to_plot = True):\n",
    "    #env.log(\"Start running LINKAGE for {} ...\".format(workdir), flush=True)\n",
    "    #hash genes into genemap\n",
    "    genemap = {}\n",
    "    if blueprint:\n",
    "        with open(blueprint) as f:\n",
    "            for line in f.readlines():\n",
    "                chrID, start, end, gene = line.strip().split()[:4]\n",
    "                genemap[gene] = [chrID, int(start), int(end)]\n",
    "    else:\n",
    "        tped = os.path.join(env.tmp_cache, basename(workdir) + '.tped')\n",
    "        with open(tped) as f:\n",
    "            for line in f.readlines():\n",
    "                items = line.strip().split()[:4]\n",
    "                chrID = items[0]\n",
    "                gene = items[1]\n",
    "                pos = items[3]\n",
    "                genemap[gene] = [chrID, int(pos), int(pos)+1]\n",
    "    with env.lock:\n",
    "        mkpath('{}/heatmap'.format(env.outdir))\n",
    "    lods_fh = open('{}/heatmap/{}.lods'.format(env.outdir, basename(workdir)), 'w')\n",
    "    hlods_fh = open('{}/heatmap/{}.hlods'.format(env.outdir, basename(workdir)), 'w')\n",
    "    famlods_fh = open('{}/heatmap/{}.family-lods'.format(env.outdir, basename(workdir)), 'w')\n",
    "    genes = list(filter(lambda g: g in genemap, map(basename, glob.glob(workdir + '/*'))))\n",
    "    for gene in sorted(genes, key=lambda g: genemap[g]):\n",
    "        lods = {}\n",
    "        hlods = {}\n",
    "        fams = map(basename, filter(isdir, glob.glob('{}/{}/*'.format(workdir, gene))))\n",
    "        for fam in fams:\n",
    "            with cd('{}/{}/{}'.format(workdir, gene, fam)):\n",
    "                units = map(lambda x: re.sub(r'^(\\d+?)\\.PRE$', r'\\1', x) ,glob.glob('*.PRE'))\n",
    "                for unit in units:\n",
    "                    copy_file('{}.LOC'.format(unit), 'datafile.dat')\n",
    "                    copy_file('{}.PRE'.format(unit), 'pedfile.pre')\n",
    "\n",
    "                    step1 = runCommand(['makeped', 'pedfile.pre', 'pedfile.ped', 'n'],\n",
    "                                       show_stderr = False, return_zero = False)\n",
    "                    if step1[1]:\n",
    "                        if env.debug:\n",
    "                            with env.lock:\n",
    "                                print(\"makeped error:\", step1[1], file = sys.stderr)\n",
    "                        with env.makeped_counter.get_lock():\n",
    "                            env.makeped_counter.value += 1\n",
    "                        with env.lock:\n",
    "                            errfile.write(step1[1])\n",
    "                        continue\n",
    "                    step2 = runCommand(['pedcheck', '-p', 'pedfile.ped', '-d', 'datafile.dat', '-c'],\n",
    "                                       show_stderr = False, return_zero = False)\n",
    "                    if step2[1]:\n",
    "                        lines = [x for x in step2[1].split('\\n')\n",
    "                                 if not x.strip().startswith('*') and x.strip()]\n",
    "                        if len(lines) > 0:\n",
    "                            env.log('{} lines'.format(len(lines)))\n",
    "                            with env.lock:\n",
    "                                errfile.write(step2[1])\n",
    "                            if env.debug:\n",
    "                                with env.lock:\n",
    "                                    print(\"pedcheck error:\", '\\n'.join(lines), file = sys.stderr)\n",
    "                    try:\n",
    "                        copy_file('zeroout.dat', 'pedfile.dat')\n",
    "                    except:\n",
    "                        with env.pedcheck_counter.get_lock():\n",
    "                            env.pedcheck_counter.value += 1\n",
    "                        continue\n",
    "                    step3 = runCommand('unknown', show_stderr = False, return_zero = False)\n",
    "                    if step3[1]:\n",
    "                        if env.debug:\n",
    "                            with env.lock:\n",
    "                                print(\"unkn error:\", step3[1], file = sys.stderr)\n",
    "                        with env.unknown_counter.get_lock():\n",
    "                            env.unknown_counter.value += 1\n",
    "                        with env.lock:\n",
    "                            errfile.write(step3[1])\n",
    "                        continue\n",
    "                    step4 = runCommand('mlink', show_stderr = False, return_zero = False)\n",
    "                    if step4[1]:\n",
    "                        if env.debug:\n",
    "                            with env.lock:\n",
    "                                print(\"mlink error:\", step4[1], file = sys.stderr)\n",
    "                        with env.lock:\n",
    "                            errfile.write(step4[1])\n",
    "                    try:\n",
    "                        copy_file('outfile.dat', '{}.out'.format(unit))\n",
    "                    except:\n",
    "                        with env.mlink_counter.get_lock():\n",
    "                            env.mlink_counter.value += 1\n",
    "                        continue\n",
    "                    #clean linkage tmp files\n",
    "                    for f in set(glob.glob('*.dat') + glob.glob('ped*') + ['names.tmp']):\n",
    "                        os.remove(f)\n",
    "                    #collect lod scores of different thelta for the fam\n",
    "                    with open('{}.out'.format(unit)) as out:\n",
    "                        raw = out.read()\n",
    "                        for i in re.finditer(r'^THETAS\\s+(0\\.\\d+)(?:\\n.+?){7}LOD SCORE =\\s+(-?\\d+\\.\\d+)', raw, re.MULTILINE):\n",
    "                            theta, lod = map(float, i.group(1,2))\n",
    "                            #if float(lod) < 1e-6:\n",
    "                            #    lod = 0\n",
    "                            if theta not in lods:\n",
    "                                lods[theta] = {fam: lod}\n",
    "                            elif fam not in lods[theta] or lod > lods[theta][fam]:\n",
    "                                lods[theta][fam] = lod\n",
    "        for theta in sorted(lods.keys()):\n",
    "            lods_fh.write('{} {} {} {}\\n'.format(gene, ' '.join(map(str, genemap[gene])), theta, sum(lods[theta].values())))\n",
    "            for fam in lods[theta]:\n",
    "                famlods_fh.write('{} {} {} {} {}\\n'.format(fam, gene, ' '.join(map(str, genemap[gene])), theta, lods[theta][fam]))\n",
    "            print(lods[theta].values())\n",
    "            res = minimize_scalar(hlod_fun(lods[theta].values(), -1), bounds=(0,1), method='bounded', options={'xatol':1e-8})\n",
    "            a = res.x\n",
    "            hlods_fh.write('{} {} {} {} {}\\n'.format(gene, ' '.join(map(str, genemap[gene])), a, theta, hlod_fun(lods[theta].values())(a)))\n",
    "        with env.run_counter.get_lock():\n",
    "            env.run_counter.value += 1\n",
    "        if env.run_counter.value % (env.batch * env.jobs) == 0:\n",
    "            env.log('Linkage analysis for {:,d} units completed {{{:.2%}}} ...'.format(env.run_counter.value, float(env.run_counter.value)/env.success_counter.value), flush=True)\n",
    "    lods_fh.close()\n",
    "    hlods_fh.close()\n",
    "    famlods_fh.close()\n",
    "    if to_plot:\n",
    "        heatmap('{}/heatmap/{}.lods'.format(env.outdir, basename(workdir)), theta_inc, theta_max)\n",
    "        heatmap('{}/heatmap/{}.hlods'.format(env.outdir, basename(workdir)), theta_inc, theta_max)\n",
    "    #env.log(\"Finished running LINKAGE for {}.\".format(workdir), flush=True)\n",
    "\n",
    "\n"
   ]
  },
  {
   "cell_type": "code",
   "execution_count": null,
   "metadata": {},
   "outputs": [],
   "source": [
    "run_linkage(args.blueprint, args.theta_inc, args.theta_max, args.output_limit)"
   ]
  },
  {
   "cell_type": "code",
   "execution_count": null,
   "metadata": {},
   "outputs": [],
   "source": [
    "import sys, os, subprocess, shutil, glob, shlex, re, hashlib, tempfile\n",
    "try:\n",
    "    from cStringIO import StringIO ## for Python 2\n",
    "    import urlparse\n",
    "except ImportError:\n",
    "    from io import StringIO ## for Python 3\n",
    "    from urllib import parse as urlparse\n",
    "from contextlib import contextmanager\n",
    "from multiprocessing import Pool, Process, Queue, Lock, Value, cpu_count\n",
    "import itertools\n",
    "from collections import OrderedDict, defaultdict, Counter\n",
    "from shutil import rmtree as remove_tree\n",
    "from zipfile import ZipFile"
   ]
  },
  {
   "cell_type": "code",
   "execution_count": null,
   "metadata": {},
   "outputs": [
    {
     "data": {
      "text/plain": [
       "32"
      ]
     },
     "execution_count": null,
     "metadata": {},
     "output_type": "execute_result"
    }
   ],
   "source": [
    "cpu_count()"
   ]
  },
  {
   "cell_type": "code",
   "execution_count": null,
   "metadata": {},
   "outputs": [],
   "source": [
    "def parmap(f, X, nprocs = cpu_count()):\n",
    "    def spawn(f):\n",
    "        def fun(q_in,q_out):\n",
    "            while True:\n",
    "                i,x = q_in.get()\n",
    "                if i is None:\n",
    "                    break\n",
    "                q_out.put((i,f(x)))\n",
    "        return fun\n",
    "    #\n",
    "    q_in   = Queue(1)\n",
    "    q_out  = Queue()\n",
    "    proc = [Process(target=spawn(f),args=(q_in,q_out)) for _ in range(nprocs)]\n",
    "    for p in proc:\n",
    "        p.daemon = True\n",
    "        p.start()\n",
    "    sent = [q_in.put((i,x)) for i,x in enumerate(X)]\n",
    "    [q_in.put((None,None)) for _ in range(nprocs)]\n",
    "    res = [q_out.get() for _ in range(len(sent))]\n",
    "    [p.join() for p in proc]\n",
    "    return [x for i,x in sorted(res)]"
   ]
  },
  {
   "cell_type": "code",
   "execution_count": null,
   "metadata": {},
   "outputs": [
    {
     "name": "stderr",
     "output_type": "stream",
     "text": [
      "\u001b[1;40;32mMESSAGE: Running linkage analysis ...\u001b[0m\n",
      "\u001b[1;40;32mMESSAGE: Linkage analysis succesfully performed for 1 units\u001b[0m\n",
      "\u001b[1;40;32mMESSAGE: 2 \"pedcheck\" runtime errors occurred\u001b[0m\n",
      "\u001b[1;40;32mMESSAGE: Report for [tsq20211129] is generated in HTML format\u001b[0m\n"
     ]
    }
   ],
   "source": [
    "if args.run_linkage:\n",
    "    cache.setID('analysis')\n",
    "    if not args.vanilla and cache.check():\n",
    "        env.log('Loading linkage analysis result from archive ...'.format(fmt.upper()))\n",
    "        cache.load(target_dir = env.output, names = ['heatmap'])\n",
    "    else:\n",
    "        env.log('Running linkage analysis ...'.format(fmt.upper()))\n",
    "        run_linkage(args.blueprint, args.theta_inc, args.theta_max, args.output_limit)\n",
    "        env.log('Linkage analysis succesfully performed for {:,d} units\\n'.\\\n",
    "                format(env.run_counter.value, fmt.upper()), flush = True)\n",
    "        if env.makeped_counter.value:\n",
    "            env.log('{} \"makeped\" runtime errors occurred'.format(env.makeped_counter.value))\n",
    "        if env.pedcheck_counter.value:\n",
    "            env.log('{} \"pedcheck\" runtime errors occurred'.format(env.pedcheck_counter.value))\n",
    "        if env.unknown_counter.value:\n",
    "            env.log('{} \"unknown\" runtime errors occurred'.format(env.unknown_counter.value))\n",
    "        if env.mlink_counter.value:\n",
    "            env.log('{} \"mlink\" runtime errors occurred'.format(env.mlink_counter.value))\n",
    "        cache.write(arcroot = 'heatmap', source_dir = os.path.join(env.output, 'heatmap'), mode = 'a')\n",
    "    html(args.theta_inc, args.theta_max, args.output_limit)\n",
    "else:\n",
    "    env.log('Saving data to [{}]'.format(os.path.abspath(env.output)))\n",
    "    cache.load(target_dir = env.output, names = [fmt.upper() for fmt in args.format])"
   ]
  },
  {
   "cell_type": "code",
   "execution_count": null,
   "metadata": {},
   "outputs": [
    {
     "name": "stderr",
     "output_type": "stream",
     "text": [
      "\u001b[1;40;32mMESSAGE: Saving data to [/mnt/mfs/statgen/yin/Github/linkage/SEQpy2/testseqlink]\u001b[0m\n"
     ]
    }
   ],
   "source": [
    "    env.log('Saving data to [{}]'.format(os.path.abspath(env.output)))\n",
    "    cache.load(target_dir = env.output, names = [fmt.upper() for fmt in args.format])"
   ]
  },
  {
   "cell_type": "markdown",
   "metadata": {},
   "source": [
    "### 3.Testing heatmap"
   ]
  },
  {
   "cell_type": "code",
   "execution_count": null,
   "metadata": {},
   "outputs": [],
   "source": [
    "def hinton(filename, max_weight=None, ax=None):\n",
    "    if ax is None:\n",
    "        ax = plt.gca()\n",
    "    matrix = np.random.rand(20, 20) - 0.5\n",
    "    if not max_weight:\n",
    "        max_weight = 2**np.ceil(np.log(np.abs(matrix).max())/np.log(2))\n",
    "    ax.patch.set_facecolor('gray')\n",
    "    ax.set_aspect('equal', 'box')\n",
    "    ax.xaxis.set_major_locator(plt.NullLocator())\n",
    "    ax.yaxis.set_major_locator(plt.NullLocator())\n",
    "    chrID = re.search(r'\\.chr([0-9XY]+)\\.', filename).group(1)\n",
    "    ax.set_title('Chromosome {}'.format(chrID))\n",
    "    for (x,y),w in np.ndenumerate(matrix):\n",
    "        color = 'white' if w > 0 else 'black'\n",
    "        size = np.sqrt(np.abs(w))\n",
    "        rect = plt.Rectangle([x - size / 2, y - size / 2], size, size,\n",
    "                             facecolor=color, edgecolor=color)\n",
    "        ax.add_patch(rect)\n",
    "    ax.autoscale_view()\n",
    "    ax.invert_yaxis()\n",
    "    plt.savefig(filename)\n",
    "\n",
    "\n",
    "def heatmap(file, theta_inc, theta_max):\n",
    "    #env.log(\"Start ploting heatmap for {} ...\".format(file), flush=True)\n",
    "    if os.path.getsize(file) == 0:\n",
    "        hinton('{}.png'.format(file))\n",
    "        return\n",
    "    lods = []\n",
    "    with open(file, 'r') as f:\n",
    "        for line in f.readlines():\n",
    "            theta,lod = line.split()[-2:]\n",
    "            if float(theta) >= theta_max:\n",
    "                print(line)\n",
    "                continue\n",
    "            lods.append(lod)\n",
    "        #add random number.\n",
    "        if max(lods) == min(lods):\n",
    "            #env.log('Max equals Min for [{}], No real heatmap will be generated.'.format(file))\n",
    "            hinton('{}.png'.format(file))\n",
    "            return\n",
    "        Num=int(round(theta_max/theta_inc))\n",
    "        lods = np.array(list(map(float,lods))).reshape((-1,Num))\n",
    "        chrID = re.search(r'\\.chr([0-9XY]+)\\.', file).group(1)\n",
    "        fig, ax = plt.subplots(1)\n",
    "        ax.set_title('Chromosome {}'.format(chrID))\n",
    "        plt.pcolormesh(fig,ax,lods.transpose(),\n",
    "                       xticklabels=[''] * len(lods),\n",
    "                       yticklabels=np.round(np.array(range(Num)) * theta_inc,2).tolist(),\n",
    "                       cmap=brewer2mpl.get_map('Blues', 'Sequential', 9).mpl_colormap)\n",
    "        fig.savefig('{}.png'.format(file))"
   ]
  },
  {
   "cell_type": "code",
   "execution_count": null,
   "metadata": {},
   "outputs": [
    {
     "data": {
      "text/plain": [
       "0.05"
      ]
     },
     "execution_count": null,
     "metadata": {},
     "output_type": "execute_result"
    }
   ],
   "source": [
    "theta_inc"
   ]
  },
  {
   "cell_type": "code",
   "execution_count": null,
   "metadata": {},
   "outputs": [],
   "source": [
    "Num=int(round(theta_max/theta_inc))"
   ]
  },
  {
   "cell_type": "code",
   "execution_count": null,
   "metadata": {},
   "outputs": [
    {
     "data": {
      "text/plain": [
       "10"
      ]
     },
     "execution_count": null,
     "metadata": {},
     "output_type": "execute_result"
    }
   ],
   "source": [
    "Num"
   ]
  },
  {
   "cell_type": "code",
   "execution_count": null,
   "metadata": {},
   "outputs": [],
   "source": [
    "lods = ['0.0', '0.0', '0.0', '0.0', '0.0', '0.0', '0.0', '0.0', '0.0', '0.0', '0.0', '0.0', '0.0', '0.0', '0.0', '0.0', '0.0', '0.0', '0.0', '0.0', '0.0', '0.0', '0.0', '0.0', '0.0', '0.0', '0.0', '0.0', '0.0', '0.0', '0.0', '0.0', '0.0', '0.0', '0.0', '0.0', '0.0', '0.0', '0.0', '0.0']"
   ]
  },
  {
   "cell_type": "code",
   "execution_count": null,
   "metadata": {},
   "outputs": [],
   "source": [
    "lods = np.array(list(map(float, lods))).reshape((-1,Num))"
   ]
  },
  {
   "cell_type": "code",
   "execution_count": null,
   "metadata": {},
   "outputs": [
    {
     "data": {
      "text/plain": [
       "(4, 10)"
      ]
     },
     "execution_count": null,
     "metadata": {},
     "output_type": "execute_result"
    }
   ],
   "source": [
    "lods.shape"
   ]
  },
  {
   "cell_type": "code",
   "execution_count": null,
   "metadata": {},
   "outputs": [
    {
     "data": {
      "text/plain": [
       "4"
      ]
     },
     "execution_count": null,
     "metadata": {},
     "output_type": "execute_result"
    }
   ],
   "source": [
    "len(lods)"
   ]
  },
  {
   "cell_type": "code",
   "execution_count": null,
   "metadata": {},
   "outputs": [
    {
     "data": {
      "text/plain": [
       "['', '', '', '']"
      ]
     },
     "execution_count": null,
     "metadata": {},
     "output_type": "execute_result"
    }
   ],
   "source": [
    "[''] * len(lods)"
   ]
  },
  {
   "cell_type": "code",
   "execution_count": null,
   "metadata": {},
   "outputs": [
    {
     "data": {
      "text/plain": [
       "[0.0, 0.05, 0.1, 0.15, 0.2, 0.25, 0.3, 0.35, 0.4, 0.45]"
      ]
     },
     "execution_count": null,
     "metadata": {},
     "output_type": "execute_result"
    }
   ],
   "source": [
    "np.round(np.array(range(Num)) * theta_inc,2).tolist()"
   ]
  },
  {
   "cell_type": "code",
   "execution_count": null,
   "metadata": {},
   "outputs": [
    {
     "ename": "TypeError",
     "evalue": "'LinearSegmentedColormap' object is not subscriptable",
     "output_type": "error",
     "traceback": [
      "\u001b[0;31m---------------------------------------------------------------------------\u001b[0m",
      "\u001b[0;31mTypeError\u001b[0m                                 Traceback (most recent call last)",
      "\u001b[0;32m/tmp/2206534.1.plot.q/ipykernel_30528/241223039.py\u001b[0m in \u001b[0;36m<module>\u001b[0;34m\u001b[0m\n\u001b[0;32m----> 1\u001b[0;31m \u001b[0mbrewer2mpl\u001b[0m\u001b[0;34m.\u001b[0m\u001b[0mget_map\u001b[0m\u001b[0;34m(\u001b[0m\u001b[0;34m'Blues'\u001b[0m\u001b[0;34m,\u001b[0m \u001b[0;34m'Sequential'\u001b[0m\u001b[0;34m,\u001b[0m \u001b[0;36m9\u001b[0m\u001b[0;34m)\u001b[0m\u001b[0;34m.\u001b[0m\u001b[0mmpl_colormap\u001b[0m\u001b[0;34m[\u001b[0m\u001b[0;36m1\u001b[0m\u001b[0;34m]\u001b[0m\u001b[0;34m\u001b[0m\u001b[0;34m\u001b[0m\u001b[0m\n\u001b[0m",
      "\u001b[0;31mTypeError\u001b[0m: 'LinearSegmentedColormap' object is not subscriptable"
     ]
    }
   ],
   "source": [
    "brewer2mpl.get_map('Blues', 'Sequential', 9).mpl_colormap[1]"
   ]
  },
  {
   "cell_type": "code",
   "execution_count": null,
   "metadata": {},
   "outputs": [],
   "source": [
    "lods = np.random.rand(4,10)"
   ]
  },
  {
   "cell_type": "code",
   "execution_count": null,
   "metadata": {},
   "outputs": [],
   "source": [
    "%matplotlib inline\n",
    "\n",
    "import matplotlib\n",
    "import numpy as np\n",
    "import matplotlib.pyplot as plt"
   ]
  },
  {
   "cell_type": "code",
   "execution_count": null,
   "metadata": {},
   "outputs": [
    {
     "data": {
      "text/plain": [
       "<matplotlib.collections.QuadMesh at 0x2b7a0b1f2be0>"
      ]
     },
     "execution_count": null,
     "metadata": {},
     "output_type": "execute_result"
    },
    {
     "data": {
      "image/png": "[encoded data removed]",
      "text/plain": [
       "<Figure size 432x288 with 1 Axes>"
      ]
     },
     "metadata": {
      "needs_background": "light"
     },
     "output_type": "display_data"
    }
   ],
   "source": [
    "plt.pcolormesh(lods)"
   ]
  },
  {
   "cell_type": "code",
   "execution_count": null,
   "metadata": {},
   "outputs": [],
   "source": [
    "# make these smaller to increase the resolution\n",
    "dx, dy = 1, 0.05\n",
    "\n",
    "# generate 2 2d grids for the x & y bounds\n",
    "y, x = np.mgrid[slice(0, 0.5 + dy, dy),\n",
    "                slice(0, 4 + dx, dx)]"
   ]
  },
  {
   "cell_type": "code",
   "execution_count": null,
   "metadata": {},
   "outputs": [
    {
     "data": {
      "text/plain": [
       "<matplotlib.collections.QuadMesh at 0x2b7a0b397370>"
      ]
     },
     "execution_count": null,
     "metadata": {},
     "output_type": "execute_result"
    },
    {
     "data": {
      "image/png": "[encoded data removed]",
      "text/plain": [
       "<Figure size 432x288 with 1 Axes>"
      ]
     },
     "metadata": {
      "needs_background": "light"
     },
     "output_type": "display_data"
    }
   ],
   "source": [
    "plt.pcolormesh(x,y,lods.transpose(),cmap=brewer2mpl.get_map('Blues', 'Sequential', 9).mpl_colormap)"
   ]
  },
  {
   "cell_type": "code",
   "execution_count": null,
   "metadata": {},
   "outputs": [
    {
     "ename": "IndexError",
     "evalue": "tuple index out of range",
     "output_type": "error",
     "traceback": [
      "\u001b[0;31m---------------------------------------------------------------------------\u001b[0m",
      "\u001b[0;31mIndexError\u001b[0m                                Traceback (most recent call last)",
      "\u001b[0;32m/tmp/2206534.1.plot.q/ipykernel_30528/3434994219.py\u001b[0m in \u001b[0;36m<module>\u001b[0;34m\u001b[0m\n\u001b[1;32m      3\u001b[0m \u001b[0mfig\u001b[0m\u001b[0;34m,\u001b[0m \u001b[0max\u001b[0m \u001b[0;34m=\u001b[0m \u001b[0mplt\u001b[0m\u001b[0;34m.\u001b[0m\u001b[0msubplots\u001b[0m\u001b[0;34m(\u001b[0m\u001b[0;36m1\u001b[0m\u001b[0;34m)\u001b[0m\u001b[0;34m\u001b[0m\u001b[0;34m\u001b[0m\u001b[0m\n\u001b[1;32m      4\u001b[0m \u001b[0max\u001b[0m\u001b[0;34m.\u001b[0m\u001b[0mset_title\u001b[0m\u001b[0;34m(\u001b[0m\u001b[0;34m'Chromosome {}'\u001b[0m\u001b[0;34m.\u001b[0m\u001b[0mformat\u001b[0m\u001b[0;34m(\u001b[0m\u001b[0mchrID\u001b[0m\u001b[0;34m)\u001b[0m\u001b[0;34m)\u001b[0m\u001b[0;34m\u001b[0m\u001b[0;34m\u001b[0m\u001b[0m\n\u001b[0;32m----> 5\u001b[0;31m plt.pcolormesh(fig,ax,lods.transpose(),\n\u001b[0m\u001b[1;32m      6\u001b[0m                \u001b[0mxticklabels\u001b[0m\u001b[0;34m=\u001b[0m\u001b[0;34m[\u001b[0m\u001b[0;34m''\u001b[0m\u001b[0;34m]\u001b[0m \u001b[0;34m*\u001b[0m \u001b[0mlen\u001b[0m\u001b[0;34m(\u001b[0m\u001b[0mlods\u001b[0m\u001b[0;34m)\u001b[0m\u001b[0;34m,\u001b[0m\u001b[0;34m\u001b[0m\u001b[0;34m\u001b[0m\u001b[0m\n\u001b[1;32m      7\u001b[0m                \u001b[0myticklabels\u001b[0m\u001b[0;34m=\u001b[0m\u001b[0mnp\u001b[0m\u001b[0;34m.\u001b[0m\u001b[0mround\u001b[0m\u001b[0;34m(\u001b[0m\u001b[0mnp\u001b[0m\u001b[0;34m.\u001b[0m\u001b[0marray\u001b[0m\u001b[0;34m(\u001b[0m\u001b[0mrange\u001b[0m\u001b[0;34m(\u001b[0m\u001b[0mNum\u001b[0m\u001b[0;34m)\u001b[0m\u001b[0;34m)\u001b[0m \u001b[0;34m*\u001b[0m \u001b[0mtheta_inc\u001b[0m\u001b[0;34m,\u001b[0m\u001b[0;36m2\u001b[0m\u001b[0;34m)\u001b[0m\u001b[0;34m.\u001b[0m\u001b[0mtolist\u001b[0m\u001b[0;34m(\u001b[0m\u001b[0;34m)\u001b[0m\u001b[0;34m,\u001b[0m\u001b[0;34m\u001b[0m\u001b[0;34m\u001b[0m\u001b[0m\n",
      "\u001b[0;32m~/miniconda3/envs/seqpy3v0/lib/python3.9/site-packages/matplotlib/pyplot.py\u001b[0m in \u001b[0;36mpcolormesh\u001b[0;34m(alpha, norm, cmap, vmin, vmax, shading, antialiased, data, *args, **kwargs)\u001b[0m\n\u001b[1;32m   2716\u001b[0m         \u001b[0mvmax\u001b[0m\u001b[0;34m=\u001b[0m\u001b[0;32mNone\u001b[0m\u001b[0;34m,\u001b[0m \u001b[0mshading\u001b[0m\u001b[0;34m=\u001b[0m\u001b[0;32mNone\u001b[0m\u001b[0;34m,\u001b[0m \u001b[0mantialiased\u001b[0m\u001b[0;34m=\u001b[0m\u001b[0;32mFalse\u001b[0m\u001b[0;34m,\u001b[0m \u001b[0mdata\u001b[0m\u001b[0;34m=\u001b[0m\u001b[0;32mNone\u001b[0m\u001b[0;34m,\u001b[0m\u001b[0;34m\u001b[0m\u001b[0;34m\u001b[0m\u001b[0m\n\u001b[1;32m   2717\u001b[0m         **kwargs):\n\u001b[0;32m-> 2718\u001b[0;31m     __ret = gca().pcolormesh(\n\u001b[0m\u001b[1;32m   2719\u001b[0m         \u001b[0;34m*\u001b[0m\u001b[0margs\u001b[0m\u001b[0;34m,\u001b[0m \u001b[0malpha\u001b[0m\u001b[0;34m=\u001b[0m\u001b[0malpha\u001b[0m\u001b[0;34m,\u001b[0m \u001b[0mnorm\u001b[0m\u001b[0;34m=\u001b[0m\u001b[0mnorm\u001b[0m\u001b[0;34m,\u001b[0m \u001b[0mcmap\u001b[0m\u001b[0;34m=\u001b[0m\u001b[0mcmap\u001b[0m\u001b[0;34m,\u001b[0m \u001b[0mvmin\u001b[0m\u001b[0;34m=\u001b[0m\u001b[0mvmin\u001b[0m\u001b[0;34m,\u001b[0m\u001b[0;34m\u001b[0m\u001b[0;34m\u001b[0m\u001b[0m\n\u001b[1;32m   2720\u001b[0m         \u001b[0mvmax\u001b[0m\u001b[0;34m=\u001b[0m\u001b[0mvmax\u001b[0m\u001b[0;34m,\u001b[0m \u001b[0mshading\u001b[0m\u001b[0;34m=\u001b[0m\u001b[0mshading\u001b[0m\u001b[0;34m,\u001b[0m \u001b[0mantialiased\u001b[0m\u001b[0;34m=\u001b[0m\u001b[0mantialiased\u001b[0m\u001b[0;34m,\u001b[0m\u001b[0;34m\u001b[0m\u001b[0;34m\u001b[0m\u001b[0m\n",
      "\u001b[0;32m~/miniconda3/envs/seqpy3v0/lib/python3.9/site-packages/matplotlib/__init__.py\u001b[0m in \u001b[0;36minner\u001b[0;34m(ax, data, *args, **kwargs)\u001b[0m\n\u001b[1;32m   1410\u001b[0m     \u001b[0;32mdef\u001b[0m \u001b[0minner\u001b[0m\u001b[0;34m(\u001b[0m\u001b[0max\u001b[0m\u001b[0;34m,\u001b[0m \u001b[0;34m*\u001b[0m\u001b[0margs\u001b[0m\u001b[0;34m,\u001b[0m \u001b[0mdata\u001b[0m\u001b[0;34m=\u001b[0m\u001b[0;32mNone\u001b[0m\u001b[0;34m,\u001b[0m \u001b[0;34m**\u001b[0m\u001b[0mkwargs\u001b[0m\u001b[0;34m)\u001b[0m\u001b[0;34m:\u001b[0m\u001b[0;34m\u001b[0m\u001b[0;34m\u001b[0m\u001b[0m\n\u001b[1;32m   1411\u001b[0m         \u001b[0;32mif\u001b[0m \u001b[0mdata\u001b[0m \u001b[0;32mis\u001b[0m \u001b[0;32mNone\u001b[0m\u001b[0;34m:\u001b[0m\u001b[0;34m\u001b[0m\u001b[0;34m\u001b[0m\u001b[0m\n\u001b[0;32m-> 1412\u001b[0;31m             \u001b[0;32mreturn\u001b[0m \u001b[0mfunc\u001b[0m\u001b[0;34m(\u001b[0m\u001b[0max\u001b[0m\u001b[0;34m,\u001b[0m \u001b[0;34m*\u001b[0m\u001b[0mmap\u001b[0m\u001b[0;34m(\u001b[0m\u001b[0msanitize_sequence\u001b[0m\u001b[0;34m,\u001b[0m \u001b[0margs\u001b[0m\u001b[0;34m)\u001b[0m\u001b[0;34m,\u001b[0m \u001b[0;34m**\u001b[0m\u001b[0mkwargs\u001b[0m\u001b[0;34m)\u001b[0m\u001b[0;34m\u001b[0m\u001b[0;34m\u001b[0m\u001b[0m\n\u001b[0m\u001b[1;32m   1413\u001b[0m \u001b[0;34m\u001b[0m\u001b[0m\n\u001b[1;32m   1414\u001b[0m         \u001b[0mbound\u001b[0m \u001b[0;34m=\u001b[0m \u001b[0mnew_sig\u001b[0m\u001b[0;34m.\u001b[0m\u001b[0mbind\u001b[0m\u001b[0;34m(\u001b[0m\u001b[0max\u001b[0m\u001b[0;34m,\u001b[0m \u001b[0;34m*\u001b[0m\u001b[0margs\u001b[0m\u001b[0;34m,\u001b[0m \u001b[0;34m**\u001b[0m\u001b[0mkwargs\u001b[0m\u001b[0;34m)\u001b[0m\u001b[0;34m\u001b[0m\u001b[0;34m\u001b[0m\u001b[0m\n",
      "\u001b[0;32m~/miniconda3/envs/seqpy3v0/lib/python3.9/site-packages/matplotlib/axes/_axes.py\u001b[0m in \u001b[0;36mpcolormesh\u001b[0;34m(self, alpha, norm, cmap, vmin, vmax, shading, antialiased, *args, **kwargs)\u001b[0m\n\u001b[1;32m   6014\u001b[0m         \u001b[0mkwargs\u001b[0m\u001b[0;34m.\u001b[0m\u001b[0msetdefault\u001b[0m\u001b[0;34m(\u001b[0m\u001b[0;34m'edgecolors'\u001b[0m\u001b[0;34m,\u001b[0m \u001b[0;34m'none'\u001b[0m\u001b[0;34m)\u001b[0m\u001b[0;34m\u001b[0m\u001b[0;34m\u001b[0m\u001b[0m\n\u001b[1;32m   6015\u001b[0m \u001b[0;34m\u001b[0m\u001b[0m\n\u001b[0;32m-> 6016\u001b[0;31m         X, Y, C, shading = self._pcolorargs('pcolormesh', *args,\n\u001b[0m\u001b[1;32m   6017\u001b[0m                                             shading=shading, kwargs=kwargs)\n\u001b[1;32m   6018\u001b[0m         \u001b[0mcoords\u001b[0m \u001b[0;34m=\u001b[0m \u001b[0mnp\u001b[0m\u001b[0;34m.\u001b[0m\u001b[0mstack\u001b[0m\u001b[0;34m(\u001b[0m\u001b[0;34m[\u001b[0m\u001b[0mX\u001b[0m\u001b[0;34m,\u001b[0m \u001b[0mY\u001b[0m\u001b[0;34m]\u001b[0m\u001b[0;34m,\u001b[0m \u001b[0maxis\u001b[0m\u001b[0;34m=\u001b[0m\u001b[0;34m-\u001b[0m\u001b[0;36m1\u001b[0m\u001b[0;34m)\u001b[0m\u001b[0;34m\u001b[0m\u001b[0;34m\u001b[0m\u001b[0m\n",
      "\u001b[0;32m~/miniconda3/envs/seqpy3v0/lib/python3.9/site-packages/matplotlib/axes/_axes.py\u001b[0m in \u001b[0;36m_pcolorargs\u001b[0;34m(self, funcname, shading, *args, **kwargs)\u001b[0m\n\u001b[1;32m   5507\u001b[0m                             f'but {len(args)} were given')\n\u001b[1;32m   5508\u001b[0m \u001b[0;34m\u001b[0m\u001b[0m\n\u001b[0;32m-> 5509\u001b[0;31m         \u001b[0mNx\u001b[0m \u001b[0;34m=\u001b[0m \u001b[0mX\u001b[0m\u001b[0;34m.\u001b[0m\u001b[0mshape\u001b[0m\u001b[0;34m[\u001b[0m\u001b[0;34m-\u001b[0m\u001b[0;36m1\u001b[0m\u001b[0;34m]\u001b[0m\u001b[0;34m\u001b[0m\u001b[0;34m\u001b[0m\u001b[0m\n\u001b[0m\u001b[1;32m   5510\u001b[0m         \u001b[0mNy\u001b[0m \u001b[0;34m=\u001b[0m \u001b[0mY\u001b[0m\u001b[0;34m.\u001b[0m\u001b[0mshape\u001b[0m\u001b[0;34m[\u001b[0m\u001b[0;36m0\u001b[0m\u001b[0;34m]\u001b[0m\u001b[0;34m\u001b[0m\u001b[0;34m\u001b[0m\u001b[0m\n\u001b[1;32m   5511\u001b[0m         \u001b[0;32mif\u001b[0m \u001b[0mX\u001b[0m\u001b[0;34m.\u001b[0m\u001b[0mndim\u001b[0m \u001b[0;34m!=\u001b[0m \u001b[0;36m2\u001b[0m \u001b[0;32mor\u001b[0m \u001b[0mX\u001b[0m\u001b[0;34m.\u001b[0m\u001b[0mshape\u001b[0m\u001b[0;34m[\u001b[0m\u001b[0;36m0\u001b[0m\u001b[0;34m]\u001b[0m \u001b[0;34m==\u001b[0m \u001b[0;36m1\u001b[0m\u001b[0;34m:\u001b[0m\u001b[0;34m\u001b[0m\u001b[0;34m\u001b[0m\u001b[0m\n",
      "\u001b[0;31mIndexError\u001b[0m: tuple index out of range"
     ]
    }
   ],
   "source": [
    "file = '{}/heatmap/{}.lods'.format(env.outdir, basename(workdirs[0]))\n",
    "chrID = re.search(r'\\.chr([0-9XY]+)\\.', file).group(1)\n",
    "fig, ax = plt.subplots(1)\n",
    "ax.set_title('Chromosome {}'.format(chrID))\n",
    "plt.pcolormesh(fig,ax,lods.transpose(),\n",
    "               xticklabels=[''] * len(lods),\n",
    "               yticklabels=np.round(np.array(range(Num)) * theta_inc,2).tolist(),\n",
    "               cmap=brewer2mpl.get_map('Blues', 'Sequential', 9).mpl_colormap)\n",
    "fig.savefig('{}.png'.format(file))"
   ]
  },
  {
   "cell_type": "code",
   "execution_count": null,
   "metadata": {},
   "outputs": [
    {
     "name": "stdout",
     "output_type": "stream",
     "text": [
      "LOC102725121@1 1 11868 14362 0.5 0.0\n",
      "\n",
      "DDX11L1 1 11873 14409 0.5 0.0\n",
      "\n",
      "WASH7P 1 14361 29370 0.5 0.0\n",
      "\n",
      "MIR6859-1@1,MIR6859-2@1,MIR6859-3@1,MIR6859-4@1 1 17368 17436 0.5 0.0\n",
      "\n",
      "['0.0', '0.0', '0.0', '0.0', '0.0', '0.0', '0.0', '0.0', '0.0', '0.0', '0.0', '0.0', '0.0', '0.0', '0.0', '0.0', '0.0', '0.0', '0.0', '0.0', '0.0', '0.0', '0.0', '0.0', '0.0', '0.0', '0.0', '0.0', '0.0', '0.0', '0.0', '0.0', '0.0', '0.0', '0.0', '0.0', '0.0', '0.0', '0.0', '0.0']\n"
     ]
    },
    {
     "ename": "ValueError",
     "evalue": "cannot reshape array of size 1 into shape (10)",
     "output_type": "error",
     "traceback": [
      "\u001b[0;31m---------------------------------------------------------------------------\u001b[0m",
      "\u001b[0;31mValueError\u001b[0m                                Traceback (most recent call last)",
      "\u001b[0;32m/tmp/2206534.1.plot.q/ipykernel_30528/3244704223.py\u001b[0m in \u001b[0;36m<module>\u001b[0;34m\u001b[0m\n\u001b[0;32m----> 1\u001b[0;31m \u001b[0mheatmap\u001b[0m\u001b[0;34m(\u001b[0m\u001b[0;34m'{}/heatmap/{}.lods'\u001b[0m\u001b[0;34m.\u001b[0m\u001b[0mformat\u001b[0m\u001b[0;34m(\u001b[0m\u001b[0menv\u001b[0m\u001b[0;34m.\u001b[0m\u001b[0moutdir\u001b[0m\u001b[0;34m,\u001b[0m \u001b[0mbasename\u001b[0m\u001b[0;34m(\u001b[0m\u001b[0mworkdirs\u001b[0m\u001b[0;34m[\u001b[0m\u001b[0;36m0\u001b[0m\u001b[0;34m]\u001b[0m\u001b[0;34m)\u001b[0m\u001b[0;34m)\u001b[0m\u001b[0;34m,\u001b[0m \u001b[0mtheta_inc\u001b[0m\u001b[0;34m,\u001b[0m \u001b[0mtheta_max\u001b[0m\u001b[0;34m)\u001b[0m\u001b[0;34m\u001b[0m\u001b[0;34m\u001b[0m\u001b[0m\n\u001b[0m\u001b[1;32m      2\u001b[0m \u001b[0;31m#heatmap('{}/heatmap/{}.hlods'.format(env.outdir, basename(workdir)), theta_inc, theta_max)\u001b[0m\u001b[0;34m\u001b[0m\u001b[0;34m\u001b[0m\u001b[0m\n",
      "\u001b[0;32m/tmp/2206534.1.plot.q/ipykernel_30528/1950724175.py\u001b[0m in \u001b[0;36mheatmap\u001b[0;34m(file, theta_inc, theta_max)\u001b[0m\n\u001b[1;32m     41\u001b[0m             \u001b[0;31m#return\u001b[0m\u001b[0;34m\u001b[0m\u001b[0;34m\u001b[0m\u001b[0m\n\u001b[1;32m     42\u001b[0m         \u001b[0mNum\u001b[0m\u001b[0;34m=\u001b[0m\u001b[0mint\u001b[0m\u001b[0;34m(\u001b[0m\u001b[0mround\u001b[0m\u001b[0;34m(\u001b[0m\u001b[0mtheta_max\u001b[0m\u001b[0;34m/\u001b[0m\u001b[0mtheta_inc\u001b[0m\u001b[0;34m)\u001b[0m\u001b[0;34m)\u001b[0m\u001b[0;34m\u001b[0m\u001b[0;34m\u001b[0m\u001b[0m\n\u001b[0;32m---> 43\u001b[0;31m         \u001b[0mlods\u001b[0m \u001b[0;34m=\u001b[0m \u001b[0mnp\u001b[0m\u001b[0;34m.\u001b[0m\u001b[0marray\u001b[0m\u001b[0;34m(\u001b[0m\u001b[0mmap\u001b[0m\u001b[0;34m(\u001b[0m\u001b[0mfloat\u001b[0m\u001b[0;34m,\u001b[0m\u001b[0mlods\u001b[0m\u001b[0;34m)\u001b[0m\u001b[0;34m)\u001b[0m\u001b[0;34m.\u001b[0m\u001b[0mreshape\u001b[0m\u001b[0;34m(\u001b[0m\u001b[0;34m(\u001b[0m\u001b[0;34m-\u001b[0m\u001b[0;36m1\u001b[0m\u001b[0;34m,\u001b[0m\u001b[0mNum\u001b[0m\u001b[0;34m)\u001b[0m\u001b[0;34m)\u001b[0m\u001b[0;34m\u001b[0m\u001b[0;34m\u001b[0m\u001b[0m\n\u001b[0m\u001b[1;32m     44\u001b[0m         \u001b[0mchrID\u001b[0m \u001b[0;34m=\u001b[0m \u001b[0mre\u001b[0m\u001b[0;34m.\u001b[0m\u001b[0msearch\u001b[0m\u001b[0;34m(\u001b[0m\u001b[0;34mr'\\.chr([0-9XY]+)\\.'\u001b[0m\u001b[0;34m,\u001b[0m \u001b[0mfile\u001b[0m\u001b[0;34m)\u001b[0m\u001b[0;34m.\u001b[0m\u001b[0mgroup\u001b[0m\u001b[0;34m(\u001b[0m\u001b[0;36m1\u001b[0m\u001b[0;34m)\u001b[0m\u001b[0;34m\u001b[0m\u001b[0;34m\u001b[0m\u001b[0m\n\u001b[1;32m     45\u001b[0m         \u001b[0mfig\u001b[0m\u001b[0;34m,\u001b[0m \u001b[0max\u001b[0m \u001b[0;34m=\u001b[0m \u001b[0mplt\u001b[0m\u001b[0;34m.\u001b[0m\u001b[0msubplots\u001b[0m\u001b[0;34m(\u001b[0m\u001b[0;36m1\u001b[0m\u001b[0;34m)\u001b[0m\u001b[0;34m\u001b[0m\u001b[0;34m\u001b[0m\u001b[0m\n",
      "\u001b[0;31mValueError\u001b[0m: cannot reshape array of size 1 into shape (10)"
     ]
    }
   ],
   "source": [
    "heatmap('{}/heatmap/{}.lods'.format(env.outdir, basename(workdirs[0])), theta_inc, theta_max)\n",
    "#heatmap('{}/heatmap/{}.hlods'.format(env.outdir, basename(workdir)), theta_inc, theta_max)"
   ]
  },
  {
   "cell_type": "code",
   "execution_count": null,
   "metadata": {},
   "outputs": [
    {
     "data": {
      "text/plain": [
       "['./LINKAGE/LINKAGE/LINKAGE.chr1']"
      ]
     },
     "execution_count": null,
     "metadata": {},
     "output_type": "execute_result"
    }
   ],
   "source": [
    "workdirs"
   ]
  },
  {
   "cell_type": "code",
   "execution_count": null,
   "metadata": {},
   "outputs": [],
   "source": []
  }
 ],
 "metadata": {
  "kernelspec": {
   "display_name": "Python 3 (ipykernel)",
   "language": "python",
   "name": "python3"
  }
 },
 "nbformat": 4,
 "nbformat_minor": 4
}
