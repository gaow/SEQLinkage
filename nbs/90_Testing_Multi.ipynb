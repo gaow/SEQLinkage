{
 "cells": [
  {
   "cell_type": "code",
   "execution_count": null,
   "id": "e60a5507-1325-4c30-94a1-cb85a84499df",
   "metadata": {},
   "outputs": [],
   "source": [
    "from SEQLinkage.Main import *\n",
    "from SEQLinkage.Utils import *\n",
    "from SEQLinkage.Runner import *\n",
    "from SEQLinkage.Core import *"
   ]
  },
  {
   "cell_type": "code",
   "execution_count": null,
   "id": "5369801d-1c52-430a-a907-714b86fe66ed",
   "metadata": {},
   "outputs": [],
   "source": [
    "import os\n",
    "import concurrent\n",
    "import time\n",
    "from itertools import repeat"
   ]
  },
  {
   "cell_type": "markdown",
   "id": "08bd4bbd-7aa7-4b1e-9655-1c80e3ae227f",
   "metadata": {},
   "source": [
    "args = Args().parser.parse_args('--fam ../data/mwe_normal_fam.csv --vcf ../data/first1000snp_full_samples.vcf.gz --anno ../data/first1000_chr1_multianno.csv --pop ../data/full_sample_fam_pop.txt -f MERLIN --build hg38 --freq AF -o ../data/first1000pickle --bin 1 --maf-cutoff 0.05'.split())"
   ]
  },
  {
   "cell_type": "markdown",
   "id": "aea93330-055b-476d-aa1e-03bde62f3c26",
   "metadata": {},
   "source": [
    "args = Args().parser.parse_args('--fam ../data/new_trim_ped_famless17_no:xx.fam --vcf /mnt/mfs/statgen/alzheimers-family/linkage_files/geno/full_sample/vcf/full_sample.vcf.gz --anno MWE/annotation/EFIGA_NIALOAD_chr19.hg38.hg38_multianno.csv --pop data/full_sample_fam_pop.txt -f MERLIN MEGA2 PLINK LINKAGE --build hg38 --freq AF -o data/fullchr22data -K 0.001 --moi AD -W 0 -M 1 -j 8"
   ]
  },
  {
   "cell_type": "code",
   "execution_count": null,
   "id": "1c762dc2-4dd9-4884-8807-9fcd6843aa38",
   "metadata": {},
   "outputs": [
    {
     "data": {
      "text/plain": [
       "Namespace(bin=1.0, blueprint=None, single_markers=False, tfam='../data/mwe_normal_fam.csv', vcf='../data/first1000snp_full_samples.vcf.gz', anno='../data/first1000_chr1_multianno.csv', pop='../data/full_sample_fam_pop.txt', build='hg38', prephased=False, freq='AF', freq_by_fam=None, mle=False, rvhaplo=False, recomb_max=1, recomb_cross_fam=False, rsq=0.0, include_vars=None, maf_cutoff=0.05, chr_prefix=None, output='../data/first1000pickle', format=['MERLIN'], prevalence=None, inherit_mode=None, wild_pen=None, muta_pen=None, theta_max=0.5, theta_inc=0.05, run_linkage=False, output_limit=10, jobs=8, tempdir=None, vanilla=True, quiet=False, debug=False, no_save=False)"
      ]
     },
     "execution_count": null,
     "metadata": {},
     "output_type": "execute_result"
    }
   ],
   "source": [
    "args"
   ]
  },
  {
   "cell_type": "code",
   "execution_count": null,
   "id": "73e077e3-6db8-4866-bf67-37d9f5ae45a6",
   "metadata": {},
   "outputs": [
    {
     "name": "stderr",
     "output_type": "stream",
     "text": [
      "\u001b[1;40;32mMESSAGE: Binary trait detected in [/mnt/mfs/statgen/yin/Github/linkage/SEQpy3/data/mwe_normal_fam.csv]\u001b[0m\n"
     ]
    },
    {
     "data": {
      "text/plain": [
       "True"
      ]
     },
     "execution_count": null,
     "metadata": {},
     "output_type": "execute_result"
    }
   ],
   "source": [
    "checkParams(args)"
   ]
  },
  {
   "cell_type": "code",
   "execution_count": null,
   "id": "eef2ee85-729b-475a-89eb-66a4a9cfb0a9",
   "metadata": {},
   "outputs": [
    {
     "data": {
      "text/plain": [
       "'AF'"
      ]
     },
     "execution_count": null,
     "metadata": {},
     "output_type": "execute_result"
    }
   ],
   "source": [
    "args.freq "
   ]
  },
  {
   "cell_type": "code",
   "execution_count": null,
   "id": "ac8bcb28-a026-44c2-939a-9725bd9d2b40",
   "metadata": {},
   "outputs": [],
   "source": [
    "if args.no_save:\n",
    "    cache = NoCache()\n",
    "else:\n",
    "    cache = Cache(env.cache_dir, env.output, vars(args))\n",
    "cache.setID('vcf')"
   ]
  },
  {
   "cell_type": "code",
   "execution_count": null,
   "id": "fa276f70-e620-45b5-a6f5-0c7d007eafe0",
   "metadata": {},
   "outputs": [
    {
     "name": "stdout",
     "output_type": "stream",
     "text": [
      "anno (1000, 6)\n"
     ]
    },
    {
     "name": "stderr",
     "output_type": "stream",
     "text": [
      "\u001b[1;40;32mMESSAGE: 7 samples found in FAM file but not in VCF file:\n",
      "22_1_10, 1036_2, 28_9_100, 28_9_186, 28_9_101, 1036_1, 22_1_20\u001b[0m\n",
      "\u001b[1;40;32mMESSAGE: 3,461 samples in VCF file will be ignored due to absence in FAM file\u001b[0m\n",
      "\u001b[1;40;32mMESSAGE: 3,479 samples found in [/mnt/mfs/statgen/yin/Github/linkage/SEQpy3/data/first1000snp_full_samples.vcf.gz]\u001b[0m\n"
     ]
    }
   ],
   "source": [
    "# STEP 1: write encoded data to TPED format\n",
    "if not args.vanilla and cache.check():\n",
    "    env.log('Loading regional marker data from archive ...')\n",
    "    cache.load(target_dir = env.tmp_dir, names = ['CACHE'])\n",
    "    env.success_counter.value = sum(map(fileLinesCount, glob.glob('{}/*.tped'.format(env.tmp_cache))))\n",
    "    env.batch = 10\n",
    "else:\n",
    "    # load VCF file header\n",
    "    data = RData(args.vcf, args.tfam,args.anno,args.pop,allele_freq_info=args.freq)\n",
    "    vs = data.vs\n",
    "    samples_vcf = data.samples_vcf\n",
    "\n",
    "if len(samples_vcf) == 0:\n",
    "    env.error(\"Fail to extract samples from [{}]\".format(args.vcf), exit = True)\n",
    "env.log('{:,d} samples found in [{}]'.format(len(samples_vcf), args.vcf))\n",
    "samples_not_vcf = data.samples_not_vcf"
   ]
  },
  {
   "cell_type": "code",
   "execution_count": null,
   "id": "a1e3ddf8-a245-4401-a1af-fb655d2c5750",
   "metadata": {},
   "outputs": [
    {
     "data": {
      "text/plain": [
       "(7, 3479)"
      ]
     },
     "execution_count": null,
     "metadata": {},
     "output_type": "execute_result"
    }
   ],
   "source": [
    "len(samples_not_vcf),len(samples_vcf)"
   ]
  },
  {
   "cell_type": "code",
   "execution_count": null,
   "id": "2b6aac96-56e9-4837-98ec-a38386190c59",
   "metadata": {},
   "outputs": [],
   "source": [
    "if len(data.families) == 0:\n",
    "    env.error('No valid family to process. ' \\\n",
    "              'Families have to be at least trio with at least one member in VCF file.', exit = True)\n",
    "if len(data.samples) == 0:\n",
    "    env.error('No valid sample to process. ' \\\n",
    "              'Samples have to be in families, and present in both TFAM and VCF files.', exit = True)\n",
    "rewriteFamfile(os.path.join(env.tmp_cache, '{}.tfam'.format(env.output)),\n",
    "               data.tfam.samples, list(data.samples.keys()) + samples_not_vcf)"
   ]
  },
  {
   "cell_type": "code",
   "execution_count": null,
   "id": "ec49167e-091f-4c91-8609-35ee56d501ea",
   "metadata": {},
   "outputs": [
    {
     "name": "stderr",
     "output_type": "stream",
     "text": [
      "\u001b[1;40;32mMESSAGE: 3 families with a total of 18 samples will be scanned for 28,325 pre-defined units\u001b[0m\n"
     ]
    }
   ],
   "source": [
    "if args.single_markers:\n",
    "    regions=[]\n",
    "    for x in vs.GetGenomeCoordinates():\n",
    "        region_info = (x[0], x[1], x[1], \"{}:{}\".format(x[0], x[1]), '.', '.', '.')\n",
    "        if region_info not in regions:\n",
    "            regions.append(region_info)\n",
    "    args.blueprint = None\n",
    "else:\n",
    "    # load blueprint\n",
    "    try:\n",
    "        with open(args.blueprint, 'r') as f:\n",
    "            regions = [x.strip().split() for x in f.readlines()]\n",
    "    except IOError:\n",
    "        env.error(\"Cannot load regional marker blueprint [{}]. \".format(args.blueprint), exit = True)\n",
    "env.log('{:,d} families with a total of {:,d} samples will be scanned for {:,d} pre-defined units'.\\\n",
    "        format(len(data.families), len(data.samples), len(regions)))\n",
    "env.jobs = max(min(args.jobs, len(regions)), 1)"
   ]
  },
  {
   "cell_type": "markdown",
   "id": "3dcd7294-32ab-4b8d-b3c1-4f422c2f57c9",
   "metadata": {},
   "source": [
    "## CHR19 APOE"
   ]
  },
  {
   "cell_type": "markdown",
   "id": "91443ed8-8491-40ab-8cf6-6e0cde094552",
   "metadata": {},
   "source": [
    "## No parallel"
   ]
  },
  {
   "cell_type": "code",
   "execution_count": null,
   "id": "65693fa9-4e3f-41ca-aa91-a656c6561cc5",
   "metadata": {},
   "outputs": [],
   "source": [
    "results1 = {}"
   ]
  },
  {
   "cell_type": "code",
   "execution_count": null,
   "id": "6846decd-0b1d-42c6-93a9-f9ca966fca77",
   "metadata": {},
   "outputs": [
    {
     "name": "stdout",
     "output_type": "stream",
     "text": [
      "                                                                      \r"
     ]
    }
   ],
   "source": [
    "extractor =RegionExtractor(args.vcf, build=env.build,chr_prefix = args.chr_prefix)\n",
    "maker =            MarkerMaker(args.bin, maf_cutoff = args.maf_cutoff,recomb=False)\n",
    "writer =             LinkageWriter(len(samples_not_vcf))\n",
    "for region in regions:\n",
    "    extractor.getRegion(region)\n",
    "    maker.getRegion(region)\n",
    "    writer.getRegion(region)\n",
    "    isSuccess = True\n",
    "    for m in [extractor, maker, writer]:\n",
    "        status = m.apply(data)\n",
    "        if status == -1:\n",
    "            with env.chperror_counter.get_lock():\n",
    "                # previous module failed\n",
    "                env.chperror_counter.value += 1\n",
    "        if status == 1:\n",
    "            with env.null_counter.get_lock():\n",
    "                env.null_counter.value += 1\n",
    "        if status == 2:\n",
    "            with env.trivial_counter.get_lock():\n",
    "                env.trivial_counter.value += 1\n",
    "        if status != 0:\n",
    "            isSuccess = False\n",
    "            break\n",
    "    if isSuccess:\n",
    "        with env.success_counter.get_lock():\n",
    "            env.success_counter.value += 1\n",
    "        results1[region[3]]=maker.dtest[region[3]]"
   ]
  },
  {
   "cell_type": "code",
   "execution_count": null,
   "id": "b21bc89b-986e-487c-bfdc-b7dbb601d259",
   "metadata": {},
   "outputs": [
    {
     "data": {
      "text/plain": [
       "4"
      ]
     },
     "execution_count": null,
     "metadata": {},
     "output_type": "execute_result"
    }
   ],
   "source": [
    "len(results1)"
   ]
  },
  {
   "cell_type": "markdown",
   "id": "bf02c7b9-35db-457d-ab90-7edea71fb049",
   "metadata": {},
   "source": [
    "## Testing parallel"
   ]
  },
  {
   "cell_type": "code",
   "execution_count": null,
   "id": "a67e0157-348f-4350-818d-2a604ea8d22f",
   "metadata": {},
   "outputs": [
    {
     "name": "stdout",
     "output_type": "stream",
     "text": [
      "['1', '14361', '29370', 'WASH7P', '1.5299877409602128e-06', '1.94345806118021e-06', '1.136044574393209e-06']\n",
      "in loop ['1', '14361', '29370', 'WASH7P', '1.5299877409602128e-06', '1.94345806118021e-06', '1.136044574393209e-06']['1', '17368', '17436', 'MIR6859-1@1,MIR6859-2@1,MIR6859-3@1,MIR6859-4@1', '1.217692507120495e-06', '1.5467668502473368e-06', '9.041595098829462e-07']\n",
      "\n",
      "in loop ['1', '30365', '30503', 'MIR1302-10@1,MIR1302-11@1,MIR1302-2@1,MIR1302-9@1', '2.1295973889038703e-06', '2.705108741548526e-06', '1.5812659765416382e-06']['1', '17368', '17436', 'MIR6859-1@1,MIR6859-2@1,MIR6859-3@1,MIR6859-4@1', '1.217692507120495e-06', '1.5467668502473368e-06', '9.041595098829462e-07']\n",
      "\n",
      "in loop ['1', '30365', '30503', 'MIR1302-10@1,MIR1302-11@1,MIR1302-2@1,MIR1302-9@1', '2.1295973889038703e-06', '2.705108741548526e-06', '1.5812659765416382e-06']['1', '34610', '36081', 'FAM138A@1,FAM138C@1,FAM138F@1', '2.4732411024120156e-06', '3.1416201771056266e-06', '1.8364278747737466e-06']\n",
      "\n",
      "in loop ['1', '34610', '36081', 'FAM138A@1,FAM138C@1,FAM138F@1', '2.4732411024120156e-06', '3.1416201771056266e-06', '1.8364278747737466e-06']['1', '69090', '70008', 'OR4F5', '4.866641545668504e-06', '6.181823219621424e-06', '3.6135725636621673e-06']\n",
      "\n",
      "in loop ['1', '134772', '140566', 'LOC729737', '9.633289838108921e-06', '1.2236630588823159e-05', '7.152898262617822e-06']['1', '69090', '70008', 'OR4F5', '4.866641545668504e-06', '6.181823219621424e-06', '3.6135725636621673e-06']\n",
      "\n",
      "in loop ['1', '134772', '140566', 'LOC729737', '9.633289838108921e-06', '1.2236630588823159e-05', '7.152898262617822e-06']\n",
      "['1', '450739', '451678', 'OR4F16@1,OR4F29@1,OR4F3@1', '2.575942360468604e-05', '3.2720758549649544e-05', '1.912685483821856e-05']\n",
      "['1', '490755', '495445', 'LOC100132062@1,LOC100132287@1', '2.2828130832833112e-05', '2.8997300893994373e-05', '1.6950315013571593e-05']in loop\n",
      " in loop['1', '450739', '451678', 'OR4F16@1,OR4F29@1,OR4F3@1', '2.575942360468604e-05', '3.2720758549649544e-05', '1.912685483821856e-05'] \n",
      "['1', '490755', '495445', 'LOC100132062@1,LOC100132287@1', '2.2828130832833112e-05', '2.8997300893994373e-05', '1.6950315013571593e-05']\n",
      "in loop ['1', '17368', '17436', 'MIR6859-1@1,MIR6859-2@1,MIR6859-3@1,MIR6859-4@1', '1.217692507120495e-06', '1.5467668502473368e-06', '9.041595098829462e-07']\n",
      "in loop ['1', '17368', '17436', 'MIR6859-1@1,MIR6859-2@1,MIR6859-3@1,MIR6859-4@1', '1.217692507120495e-06', '1.5467668502473368e-06', '9.041595098829462e-07']\n",
      "                 Chr  Start      AF    AF_nfe   AF_afr  AF_amr\n",
      "chr1:14378:A:G     1  14378  0.0003  0.000082  0.00050  0.0011\n",
      "chr1:14429:G:C     1  14429  0.0003  0.000100  0.00005  0.0027\n",
      "chr1:14458:G:C     1  14458  0.0003  0.000000  0.00100  0.0003\n",
      "chr1:14464:A:T     1  14464  0.1977  0.303800  0.04730  0.1907\n",
      "chr1:14469:C:T     1  14469  0.0026  0.003900  0.00050  0.0013\n",
      "...              ...    ...     ...       ...      ...     ...\n",
      "chr1:28944:T:A     1  28944  0.0000  0.000000  0.00000  0.0000\n",
      "chr1:29278:GC:G    1  29278  0.0001  0.000200  0.00000  0.0002\n",
      "chr1:29300:CG:C    1  29300  0.0022  0.000017  0.00690  0.0008\n",
      "chr1:29359:C:T     1  29359  0.0009  0.000000  0.00280  0.0003\n",
      "chr1:29368:G:A     1  29368  0.0083  0.011100  0.00320  0.0084\n",
      "\n",
      "[195 rows x 6 columns]\n",
      "chr1:16734:T:G\n"
     ]
    },
    {
     "ename": "ValueError",
     "evalue": "Genotype and sample mismatch for region WASH7P: 2,895 vs 3,479",
     "output_type": "error",
     "traceback": [
      "\u001b[0;31m---------------------------------------------------------------------------\u001b[0m",
      "\u001b[0;31m_RemoteTraceback\u001b[0m                          Traceback (most recent call last)",
      "\u001b[0;31m_RemoteTraceback\u001b[0m: \n\"\"\"\nTraceback (most recent call last):\n  File \"/home/yh3455/miniconda3/envs/seqpy3v0/lib/python3.9/concurrent/futures/process.py\", line 243, in _process_worker\n    r = call_item.fn(*call_item.args, **call_item.kwargs)\n  File \"/home/yh3455/miniconda3/envs/seqpy3v0/lib/python3.9/concurrent/futures/process.py\", line 202, in _process_chunk\n    return [fn(*args) for args in chunk]\n  File \"/home/yh3455/miniconda3/envs/seqpy3v0/lib/python3.9/concurrent/futures/process.py\", line 202, in <listcomp>\n    return [fn(*args) for args in chunk]\n  File \"/tmp/2206534.1.plot.q/ipykernel_11786/3427390227.py\", line 12, in run_parallel\n    status = m.apply(data)\n  File \"/mnt/mfs/statgen/yin/Github/linkage/SEQpy3/SEQLinkage/Core.py\", line 189, in apply\n    varIdx=self.extract_vcf_with_anno(data)\n  File \"/mnt/mfs/statgen/yin/Github/linkage/SEQpy3/SEQLinkage/Core.py\", line 250, in extract_vcf_with_anno\n    raise ValueError('Genotype and sample mismatch for region {}: {:,d} vs {:,d}'.\\\nValueError: Genotype and sample mismatch for region WASH7P: 2,895 vs 3,479\n\"\"\"",
      "\nThe above exception was the direct cause of the following exception:\n",
      "\u001b[0;31mValueError\u001b[0m                                Traceback (most recent call last)",
      "\u001b[0;32m/tmp/2206534.1.plot.q/ipykernel_11786/3427390227.py\u001b[0m in \u001b[0;36m<module>\u001b[0;34m\u001b[0m\n\u001b[1;32m     33\u001b[0m \u001b[0;32mwith\u001b[0m \u001b[0mconcurrent\u001b[0m\u001b[0;34m.\u001b[0m\u001b[0mfutures\u001b[0m\u001b[0;34m.\u001b[0m\u001b[0mProcessPoolExecutor\u001b[0m\u001b[0;34m(\u001b[0m\u001b[0;34m)\u001b[0m \u001b[0;32mas\u001b[0m \u001b[0mexecutor\u001b[0m\u001b[0;34m:\u001b[0m\u001b[0;34m\u001b[0m\u001b[0;34m\u001b[0m\u001b[0m\n\u001b[1;32m     34\u001b[0m     \u001b[0mresults\u001b[0m \u001b[0;34m=\u001b[0m \u001b[0mexecutor\u001b[0m\u001b[0;34m.\u001b[0m\u001b[0mmap\u001b[0m\u001b[0;34m(\u001b[0m\u001b[0mrun_parallel\u001b[0m\u001b[0;34m,\u001b[0m\u001b[0mregions\u001b[0m\u001b[0;34m[\u001b[0m\u001b[0;36m2\u001b[0m\u001b[0;34m:\u001b[0m\u001b[0;36m10\u001b[0m\u001b[0;34m]\u001b[0m\u001b[0;34m)\u001b[0m\u001b[0;34m\u001b[0m\u001b[0;34m\u001b[0m\u001b[0m\n\u001b[0;32m---> 35\u001b[0;31m     \u001b[0;32mfor\u001b[0m \u001b[0mi\u001b[0m\u001b[0;34m,\u001b[0m\u001b[0mj\u001b[0m \u001b[0;32min\u001b[0m \u001b[0mresults\u001b[0m\u001b[0;34m:\u001b[0m\u001b[0;34m\u001b[0m\u001b[0;34m\u001b[0m\u001b[0m\n\u001b[0m\u001b[1;32m     36\u001b[0m         \u001b[0mresults1\u001b[0m\u001b[0;34m[\u001b[0m\u001b[0mi\u001b[0m\u001b[0;34m]\u001b[0m\u001b[0;34m=\u001b[0m\u001b[0mj\u001b[0m\u001b[0;34m\u001b[0m\u001b[0;34m\u001b[0m\u001b[0m\n\u001b[1;32m     37\u001b[0m \u001b[0mprint\u001b[0m\u001b[0;34m(\u001b[0m\u001b[0mtime\u001b[0m\u001b[0;34m.\u001b[0m\u001b[0mperf_counter\u001b[0m\u001b[0;34m(\u001b[0m\u001b[0;34m)\u001b[0m\u001b[0;34m-\u001b[0m\u001b[0mstart\u001b[0m\u001b[0;34m)\u001b[0m\u001b[0;34m\u001b[0m\u001b[0;34m\u001b[0m\u001b[0m\n",
      "\u001b[0;32m~/miniconda3/envs/seqpy3v0/lib/python3.9/concurrent/futures/process.py\u001b[0m in \u001b[0;36m_chain_from_iterable_of_lists\u001b[0;34m(iterable)\u001b[0m\n\u001b[1;32m    557\u001b[0m     \u001b[0mcareful\u001b[0m \u001b[0;32mnot\u001b[0m \u001b[0mto\u001b[0m \u001b[0mkeep\u001b[0m \u001b[0mreferences\u001b[0m \u001b[0mto\u001b[0m \u001b[0myielded\u001b[0m \u001b[0mobjects\u001b[0m\u001b[0;34m.\u001b[0m\u001b[0;34m\u001b[0m\u001b[0;34m\u001b[0m\u001b[0m\n\u001b[1;32m    558\u001b[0m     \"\"\"\n\u001b[0;32m--> 559\u001b[0;31m     \u001b[0;32mfor\u001b[0m \u001b[0melement\u001b[0m \u001b[0;32min\u001b[0m \u001b[0miterable\u001b[0m\u001b[0;34m:\u001b[0m\u001b[0;34m\u001b[0m\u001b[0;34m\u001b[0m\u001b[0m\n\u001b[0m\u001b[1;32m    560\u001b[0m         \u001b[0melement\u001b[0m\u001b[0;34m.\u001b[0m\u001b[0mreverse\u001b[0m\u001b[0;34m(\u001b[0m\u001b[0;34m)\u001b[0m\u001b[0;34m\u001b[0m\u001b[0;34m\u001b[0m\u001b[0m\n\u001b[1;32m    561\u001b[0m         \u001b[0;32mwhile\u001b[0m \u001b[0melement\u001b[0m\u001b[0;34m:\u001b[0m\u001b[0;34m\u001b[0m\u001b[0;34m\u001b[0m\u001b[0m\n",
      "\u001b[0;32m~/miniconda3/envs/seqpy3v0/lib/python3.9/concurrent/futures/_base.py\u001b[0m in \u001b[0;36mresult_iterator\u001b[0;34m()\u001b[0m\n\u001b[1;32m    606\u001b[0m                     \u001b[0;31m# Careful not to keep a reference to the popped future\u001b[0m\u001b[0;34m\u001b[0m\u001b[0;34m\u001b[0m\u001b[0m\n\u001b[1;32m    607\u001b[0m                     \u001b[0;32mif\u001b[0m \u001b[0mtimeout\u001b[0m \u001b[0;32mis\u001b[0m \u001b[0;32mNone\u001b[0m\u001b[0;34m:\u001b[0m\u001b[0;34m\u001b[0m\u001b[0;34m\u001b[0m\u001b[0m\n\u001b[0;32m--> 608\u001b[0;31m                         \u001b[0;32myield\u001b[0m \u001b[0mfs\u001b[0m\u001b[0;34m.\u001b[0m\u001b[0mpop\u001b[0m\u001b[0;34m(\u001b[0m\u001b[0;34m)\u001b[0m\u001b[0;34m.\u001b[0m\u001b[0mresult\u001b[0m\u001b[0;34m(\u001b[0m\u001b[0;34m)\u001b[0m\u001b[0;34m\u001b[0m\u001b[0;34m\u001b[0m\u001b[0m\n\u001b[0m\u001b[1;32m    609\u001b[0m                     \u001b[0;32melse\u001b[0m\u001b[0;34m:\u001b[0m\u001b[0;34m\u001b[0m\u001b[0;34m\u001b[0m\u001b[0m\n\u001b[1;32m    610\u001b[0m                         \u001b[0;32myield\u001b[0m \u001b[0mfs\u001b[0m\u001b[0;34m.\u001b[0m\u001b[0mpop\u001b[0m\u001b[0;34m(\u001b[0m\u001b[0;34m)\u001b[0m\u001b[0;34m.\u001b[0m\u001b[0mresult\u001b[0m\u001b[0;34m(\u001b[0m\u001b[0mend_time\u001b[0m \u001b[0;34m-\u001b[0m \u001b[0mtime\u001b[0m\u001b[0;34m.\u001b[0m\u001b[0mmonotonic\u001b[0m\u001b[0;34m(\u001b[0m\u001b[0;34m)\u001b[0m\u001b[0;34m)\u001b[0m\u001b[0;34m\u001b[0m\u001b[0;34m\u001b[0m\u001b[0m\n",
      "\u001b[0;32m~/miniconda3/envs/seqpy3v0/lib/python3.9/concurrent/futures/_base.py\u001b[0m in \u001b[0;36mresult\u001b[0;34m(self, timeout)\u001b[0m\n\u001b[1;32m    443\u001b[0m                     \u001b[0;32mraise\u001b[0m \u001b[0mCancelledError\u001b[0m\u001b[0;34m(\u001b[0m\u001b[0;34m)\u001b[0m\u001b[0;34m\u001b[0m\u001b[0;34m\u001b[0m\u001b[0m\n\u001b[1;32m    444\u001b[0m                 \u001b[0;32melif\u001b[0m \u001b[0mself\u001b[0m\u001b[0;34m.\u001b[0m\u001b[0m_state\u001b[0m \u001b[0;34m==\u001b[0m \u001b[0mFINISHED\u001b[0m\u001b[0;34m:\u001b[0m\u001b[0;34m\u001b[0m\u001b[0;34m\u001b[0m\u001b[0m\n\u001b[0;32m--> 445\u001b[0;31m                     \u001b[0;32mreturn\u001b[0m \u001b[0mself\u001b[0m\u001b[0;34m.\u001b[0m\u001b[0m__get_result\u001b[0m\u001b[0;34m(\u001b[0m\u001b[0;34m)\u001b[0m\u001b[0;34m\u001b[0m\u001b[0;34m\u001b[0m\u001b[0m\n\u001b[0m\u001b[1;32m    446\u001b[0m                 \u001b[0;32melse\u001b[0m\u001b[0;34m:\u001b[0m\u001b[0;34m\u001b[0m\u001b[0;34m\u001b[0m\u001b[0m\n\u001b[1;32m    447\u001b[0m                     \u001b[0;32mraise\u001b[0m \u001b[0mTimeoutError\u001b[0m\u001b[0;34m(\u001b[0m\u001b[0;34m)\u001b[0m\u001b[0;34m\u001b[0m\u001b[0;34m\u001b[0m\u001b[0m\n",
      "\u001b[0;32m~/miniconda3/envs/seqpy3v0/lib/python3.9/concurrent/futures/_base.py\u001b[0m in \u001b[0;36m__get_result\u001b[0;34m(self)\u001b[0m\n\u001b[1;32m    388\u001b[0m         \u001b[0;32mif\u001b[0m \u001b[0mself\u001b[0m\u001b[0;34m.\u001b[0m\u001b[0m_exception\u001b[0m\u001b[0;34m:\u001b[0m\u001b[0;34m\u001b[0m\u001b[0;34m\u001b[0m\u001b[0m\n\u001b[1;32m    389\u001b[0m             \u001b[0;32mtry\u001b[0m\u001b[0;34m:\u001b[0m\u001b[0;34m\u001b[0m\u001b[0;34m\u001b[0m\u001b[0m\n\u001b[0;32m--> 390\u001b[0;31m                 \u001b[0;32mraise\u001b[0m \u001b[0mself\u001b[0m\u001b[0;34m.\u001b[0m\u001b[0m_exception\u001b[0m\u001b[0;34m\u001b[0m\u001b[0;34m\u001b[0m\u001b[0m\n\u001b[0m\u001b[1;32m    391\u001b[0m             \u001b[0;32mfinally\u001b[0m\u001b[0;34m:\u001b[0m\u001b[0;34m\u001b[0m\u001b[0;34m\u001b[0m\u001b[0m\n\u001b[1;32m    392\u001b[0m                 \u001b[0;31m# Break a reference cycle with the exception in self._exception\u001b[0m\u001b[0;34m\u001b[0m\u001b[0;34m\u001b[0m\u001b[0m\n",
      "\u001b[0;31mValueError\u001b[0m: Genotype and sample mismatch for region WASH7P: 2,895 vs 3,479"
     ]
    }
   ],
   "source": [
    "extractor =RegionExtractor(args.vcf, build=env.build,chr_prefix = args.chr_prefix)\n",
    "maker =            MarkerMaker(args.bin, maf_cutoff = args.maf_cutoff,recomb=False)\n",
    "writer =             LinkageWriter(len(samples_not_vcf))\n",
    "def run_parallel(region):\n",
    "    print(region)\n",
    "    extractor.getRegion(region)\n",
    "    maker.getRegion(region)\n",
    "    writer.getRegion(region)\n",
    "    isSuccess = True\n",
    "    for m in [extractor, maker, writer]:\n",
    "        print('in loop',region)\n",
    "        status = m.apply(data)\n",
    "        if status == -1:\n",
    "            with env.chperror_counter.get_lock():\n",
    "                # previous module failed\n",
    "                env.chperror_counter.value += 1\n",
    "        if status == 1:\n",
    "            with env.null_counter.get_lock():\n",
    "                env.null_counter.value += 1\n",
    "        if status == 2:\n",
    "            with env.trivial_counter.get_lock():\n",
    "                env.trivial_counter.value += 1\n",
    "        if status != 0:\n",
    "            isSuccess = False\n",
    "            break\n",
    "    if isSuccess:\n",
    "        with env.success_counter.get_lock():\n",
    "            env.success_counter.value += 1\n",
    "        return region[3],maker.dtest[region[3]]\n",
    "    return region[3],{}\n",
    "results1 = {}\n",
    "start = time.perf_counter()\n",
    "with concurrent.futures.ProcessPoolExecutor() as executor:\n",
    "    results = executor.map(run_parallel,regions[2:10])\n",
    "    for i,j in results:\n",
    "        results1[i]=j\n",
    "print(time.perf_counter()-start)"
   ]
  },
  {
   "cell_type": "code",
   "execution_count": null,
   "id": "7d72f022-c853-4383-9a15-8911b278e1db",
   "metadata": {},
   "outputs": [
    {
     "data": {
      "text/plain": [
       "[['1',\n",
       "  '11868',\n",
       "  '14362',\n",
       "  'LOC102725121@1',\n",
       "  '9.177127474362311e-07',\n",
       "  '1.1657192989882668e-06',\n",
       "  '6.814189157634088e-07'],\n",
       " ['1',\n",
       "  '11873',\n",
       "  '14409',\n",
       "  'DDX11L1',\n",
       "  '9.195320788455595e-07',\n",
       "  '1.1680302941673515e-06',\n",
       "  '6.82769803434766e-07'],\n",
       " ['1',\n",
       "  '14361',\n",
       "  '29370',\n",
       "  'WASH7P',\n",
       "  '1.5299877409602128e-06',\n",
       "  '1.94345806118021e-06',\n",
       "  '1.136044574393209e-06'],\n",
       " ['1',\n",
       "  '17368',\n",
       "  '17436',\n",
       "  'MIR6859-1@1,MIR6859-2@1,MIR6859-3@1,MIR6859-4@1',\n",
       "  '1.217692507120495e-06',\n",
       "  '1.5467668502473368e-06',\n",
       "  '9.041595098829462e-07']]"
      ]
     },
     "execution_count": null,
     "metadata": {},
     "output_type": "execute_result"
    }
   ],
   "source": [
    "regions[:4]"
   ]
  },
  {
   "cell_type": "code",
   "execution_count": null,
   "id": "081ce694-7027-4f7a-ac54-ebcf04dfc8ef",
   "metadata": {},
   "outputs": [],
   "source": [
    "extractor =RegionExtractor(args.vcf, build=env.build,chr_prefix = args.chr_prefix)\n",
    "maker =            MarkerMaker(args.bin, maf_cutoff = args.maf_cutoff,recomb=False)\n",
    "writer =             LinkageWriter(len(samples_not_vcf))"
   ]
  },
  {
   "cell_type": "code",
   "execution_count": null,
   "id": "febbf7be-c810-4c76-942c-49ca2db434bc",
   "metadata": {},
   "outputs": [],
   "source": [
    "region = regions[4]"
   ]
  },
  {
   "cell_type": "code",
   "execution_count": null,
   "id": "6153841e-b20c-4cbd-a9ec-4973aa19ae93",
   "metadata": {},
   "outputs": [],
   "source": [
    "extractor.getRegion(region)\n",
    "maker.getRegion(region)\n",
    "writer.getRegion(region)"
   ]
  },
  {
   "cell_type": "code",
   "execution_count": null,
   "id": "884a5cea-f08c-4e5f-86d4-5d74bbad0ff6",
   "metadata": {},
   "outputs": [
    {
     "data": {
      "text/plain": [
       "1"
      ]
     },
     "execution_count": null,
     "metadata": {},
     "output_type": "execute_result"
    }
   ],
   "source": [
    "extractor.apply(data)"
   ]
  },
  {
   "cell_type": "code",
   "execution_count": null,
   "id": "819d530f-6a25-4564-bf1d-97fc067186ce",
   "metadata": {},
   "outputs": [
    {
     "data": {
      "text/plain": [
       "{'1036_3': [],\n",
       " '1036_2': [],\n",
       " '1036_1': [],\n",
       " '1036_5': [],\n",
       " '1036_99': [],\n",
       " '1036_6': [],\n",
       " '1036_4': [],\n",
       " '22_1_20': [],\n",
       " '22_1_10': [],\n",
       " '22_1_99': [],\n",
       " '22_1_5': [],\n",
       " '22_1_4': [],\n",
       " '22_1_2': [],\n",
       " '22_1_3': [],\n",
       " '28_9_100': [],\n",
       " '28_9_103': [],\n",
       " '28_9_110': [],\n",
       " '28_9_114': [],\n",
       " '28_9_105': [],\n",
       " '28_9_111': [],\n",
       " '28_9_109': [],\n",
       " '28_9_108': [],\n",
       " '28_9_106': [],\n",
       " '28_9_101': [],\n",
       " '28_9_186': []}"
      ]
     },
     "execution_count": null,
     "metadata": {},
     "output_type": "execute_result"
    }
   ],
   "source": [
    "data"
   ]
  },
  {
   "cell_type": "code",
   "execution_count": null,
   "id": "4a436034-8e24-4f57-a374-67a8ff6a1a18",
   "metadata": {},
   "outputs": [],
   "source": [
    "def run_parallel(region):\n",
    "    extractor.getRegion(region)\n",
    "    maker.getRegion(region)\n",
    "    writer.getRegion(region)\n",
    "    isSuccess = True\n",
    "    for m in [extractor, maker, writer]:\n",
    "        status = m.apply(data)\n",
    "        if status == -1:\n",
    "            with env.chperror_counter.get_lock():\n",
    "                # previous module failed\n",
    "                env.chperror_counter.value += 1\n",
    "        if status == 1:\n",
    "            with env.null_counter.get_lock():\n",
    "                env.null_counter.value += 1\n",
    "        if status == 2:\n",
    "            with env.trivial_counter.get_lock():\n",
    "                env.trivial_counter.value += 1\n",
    "        if status != 0:\n",
    "            isSuccess = False\n",
    "            break\n",
    "    if isSuccess:\n",
    "        with env.success_counter.get_lock():\n",
    "            env.success_counter.value += 1\n",
    "        return region[3],maker.dtest[region[3]]\n",
    "    return region[3],{}"
   ]
  },
  {
   "cell_type": "code",
   "execution_count": null,
   "id": "f58036a7-3cfb-4671-b47b-2213f49eedf8",
   "metadata": {},
   "outputs": [
    {
     "data": {
      "text/plain": [
       "('OR4F5', {})"
      ]
     },
     "execution_count": null,
     "metadata": {},
     "output_type": "execute_result"
    }
   ],
   "source": [
    "run_parallel(regions[6])"
   ]
  },
  {
   "cell_type": "code",
   "execution_count": null,
   "id": "5c26cea0-0881-4c47-884e-e7500ae24a11",
   "metadata": {},
   "outputs": [
    {
     "data": {
      "text/plain": [
       "[['1',\n",
       "  '11868',\n",
       "  '14362',\n",
       "  'LOC102725121@1',\n",
       "  '9.177127474362311e-07',\n",
       "  '1.1657192989882668e-06',\n",
       "  '6.814189157634088e-07'],\n",
       " ['1',\n",
       "  '11873',\n",
       "  '14409',\n",
       "  'DDX11L1',\n",
       "  '9.195320788455595e-07',\n",
       "  '1.1680302941673515e-06',\n",
       "  '6.82769803434766e-07'],\n",
       " ['1',\n",
       "  '14361',\n",
       "  '29370',\n",
       "  'WASH7P',\n",
       "  '1.5299877409602128e-06',\n",
       "  '1.94345806118021e-06',\n",
       "  '1.136044574393209e-06']]"
      ]
     },
     "execution_count": null,
     "metadata": {},
     "output_type": "execute_result"
    }
   ],
   "source": [
    "regions[:3]"
   ]
  },
  {
   "cell_type": "code",
   "execution_count": null,
   "id": "e846a808-3605-48f2-8117-cb1f1abacad0",
   "metadata": {},
   "outputs": [
    {
     "data": {
      "text/plain": [
       "{'LOC102725121@1': {'predata': {'1036': [array(['V6-13273', 'V10-13302', 'V15-13417', 'V20-13687'], dtype='<U9'),\n",
       "    array([0.1886, 0.0037, 0.1477, 0.0031]),\n",
       "    array([['1036', '1036_1', '1:', '1:', '1:', '1:'],\n",
       "           ['1036', '1036_1', '?:', '?:', '?:', '?:'],\n",
       "           ['1036', '1036_2', '2:', '1:', '2:', '1:'],\n",
       "           ['1036', '1036_2', '?:', '?:', '?:', '?:'],\n",
       "           ['1036', '1036_6', '1:', '2:', '1:', '1:'],\n",
       "           ['1036', '1036_6', '1:', '1:', '1:', '2:'],\n",
       "           ['1036', '1036_99', '2:', '1|', '2|', '1|'],\n",
       "           ['1036', '1036_99', '1:', '1|', '1|', '1|'],\n",
       "           ['1036', '1036_5', '2:', '1|', '2|', '1|'],\n",
       "           ['1036', '1036_5', '1:', '2|', '1|', '1|'],\n",
       "           ['1036', '1036_4', '1:', '1|', '1|', '1|'],\n",
       "           ['1036', '1036_4', '1:', '2|', '1|', '1|'],\n",
       "           ['1036', '1036_3', '1:', '1|', '1|', '1\\\\'],\n",
       "           ['1036', '1036_3', '1:', '1|', '1|', '1\\\\']], dtype='<U7')],\n",
       "   '22_1': [array(['V6-13273', 'V13-13380', 'V15-13417'], dtype='<U9'),\n",
       "    array([2.165e-01, 1.980e-05, 1.712e-01]),\n",
       "    array([['22_1', '22_1_10', '1:', '1:', '1:'],\n",
       "           ['22_1', '22_1_10', '1:', '2:', '1:'],\n",
       "           ['22_1', '22_1_20', '2:', '1:', '2:'],\n",
       "           ['22_1', '22_1_20', '1:', '1:', '1:'],\n",
       "           ['22_1', '22_1_99', '2:', '1|', '2|'],\n",
       "           ['22_1', '22_1_99', '1:', '1|', '1|'],\n",
       "           ['22_1', '22_1_5', '1:', '1|', '1|'],\n",
       "           ['22_1', '22_1_5', '1:', '1|', '1|'],\n",
       "           ['22_1', '22_1_4', '1:', '1|', '1|'],\n",
       "           ['22_1', '22_1_4', '1:', '1|', '1|'],\n",
       "           ['22_1', '22_1_3', '1:', '1|', '1|'],\n",
       "           ['22_1', '22_1_3', '1:', '1|', '1|'],\n",
       "           ['22_1', '22_1_2', '1:', '1|', '1|'],\n",
       "           ['22_1', '22_1_2', '1:', '2|', '1|']], dtype='<U7')]},\n",
       "  'maf': OrderedDict([('1036',\n",
       "                ((0.9932228622662302,\n",
       "                  0.0036885723079244084,\n",
       "                  0.0030885654258454263),)),\n",
       "               ('22_1', ((0.9999802, 1.980000000001425e-05),))]),\n",
       "  'hap': {'1036': ('1036', '1036_1', '1', '11', '0', 'NULL'),\n",
       "   '22_1': ('22_1', '22_1_10', '1', '1', '2', '2')}},\n",
       " 'DDX11L1': {'predata': {'1036': [array(['V6-13273', 'V10-13302', 'V15-13417', 'V20-13687'], dtype='<U9'),\n",
       "    array([0.1886, 0.0037, 0.1477, 0.0031]),\n",
       "    array([['1036', '1036_1', '1:', '1:', '1:', '1:'],\n",
       "           ['1036', '1036_1', '?:', '?:', '?:', '?:'],\n",
       "           ['1036', '1036_2', '2:', '1:', '2:', '1:'],\n",
       "           ['1036', '1036_2', '?:', '?:', '?:', '?:'],\n",
       "           ['1036', '1036_6', '1:', '2:', '1:', '1:'],\n",
       "           ['1036', '1036_6', '1:', '1:', '1:', '2:'],\n",
       "           ['1036', '1036_99', '2:', '1|', '2|', '1|'],\n",
       "           ['1036', '1036_99', '1:', '1|', '1|', '1|'],\n",
       "           ['1036', '1036_5', '2:', '1|', '2|', '1|'],\n",
       "           ['1036', '1036_5', '1:', '2|', '1|', '1|'],\n",
       "           ['1036', '1036_4', '1:', '1|', '1|', '1|'],\n",
       "           ['1036', '1036_4', '1:', '2|', '1|', '1|'],\n",
       "           ['1036', '1036_3', '1:', '1|', '1|', '1\\\\'],\n",
       "           ['1036', '1036_3', '1:', '1|', '1|', '1\\\\']], dtype='<U7')],\n",
       "   '22_1': [array(['V6-13273', 'V13-13380', 'V15-13417'], dtype='<U9'),\n",
       "    array([2.165e-01, 1.980e-05, 1.712e-01]),\n",
       "    array([['22_1', '22_1_10', '1:', '1:', '1:'],\n",
       "           ['22_1', '22_1_10', '1:', '2:', '1:'],\n",
       "           ['22_1', '22_1_20', '2:', '1:', '2:'],\n",
       "           ['22_1', '22_1_20', '1:', '1:', '1:'],\n",
       "           ['22_1', '22_1_99', '2:', '1|', '2|'],\n",
       "           ['22_1', '22_1_99', '1:', '1|', '1|'],\n",
       "           ['22_1', '22_1_5', '1:', '1|', '1|'],\n",
       "           ['22_1', '22_1_5', '1:', '1|', '1|'],\n",
       "           ['22_1', '22_1_4', '1:', '1|', '1|'],\n",
       "           ['22_1', '22_1_4', '1:', '1|', '1|'],\n",
       "           ['22_1', '22_1_3', '1:', '1|', '1|'],\n",
       "           ['22_1', '22_1_3', '1:', '1|', '1|'],\n",
       "           ['22_1', '22_1_2', '1:', '1|', '1|'],\n",
       "           ['22_1', '22_1_2', '1:', '2|', '1|']], dtype='<U7')]},\n",
       "  'maf': OrderedDict([('1036',\n",
       "                ((0.9932228622662302,\n",
       "                  0.0036885723079244084,\n",
       "                  0.0030885654258454263),)),\n",
       "               ('22_1', ((0.9999802, 1.980000000001425e-05),))]),\n",
       "  'hap': {'1036': ('1036', '1036_1', '1', '11', '0', 'NULL'),\n",
       "   '22_1': ('22_1', '22_1_10', '1', '1', '2', '2')}},\n",
       " 'WASH7P': {'predata': {'1036': [array(['V3-14464', 'V8-14653', 'V16-14907', 'V17-14930', 'V18-14933',\n",
       "           'V36-16103', 'V44-16378', 'V49-16487', 'V61-17147', 'V71-17358',\n",
       "           'V77-17385', 'V81-17407', 'V114-17697', 'V139-17928', 'V140-17929',\n",
       "           'V146-20184', 'V147-20191', 'V149-20212', 'V152-20227',\n",
       "           'V156-20235', 'V158-20250', 'V165-20316', 'V167-20485',\n",
       "           'V169-20522', 'V171-20547', 'V180-29368'], dtype='<U10'),\n",
       "    array([0.1907, 0.4209, 0.335 , 0.2784, 0.0084, 0.0294, 0.4965, 0.0695,\n",
       "           0.0128, 0.0017, 0.2078, 0.0224, 0.1217, 0.0146, 0.0136, 0.0305,\n",
       "           0.075 , 0.0933, 0.0745, 0.0926, 0.3311, 0.3091, 0.003 , 0.0031,\n",
       "           0.3041, 0.0084]),\n",
       "    array([['1036', '1036_1', '2:', '1:', '2:', '2:', '1:', '2:', 'A2,1:',\n",
       "            '2:', '2:', '1:', '1:', '2:', 'A1,2:', '1:', '1:', '1:', '1:',\n",
       "            '1:', '1:', '1:', '1:', '1:', '1:', '1:', '1:', '1:'],\n",
       "           ['1036', '1036_1', '?:', '?:', '?:', '?:', '?:', '?:', '?:', '?:',\n",
       "            '?:', '?:', '?:', '?:', '?:', '?:', '?:', '?:', '?:', '?:', '?:',\n",
       "            '?:', '?:', '?:', '?:', '?:', '?:', '?:'],\n",
       "           ['1036', '1036_2', '1:', '1:', '1:', '1:', '1:', '1:', 'A1,2:',\n",
       "            '1:', '1:', '1:', '1:', '1:', 'A2,1:', '2:', '2:', '2:', '1:',\n",
       "            '1:', '1:', '1:', '1:', '1:', '1:', '1:', '1:', '1:'],\n",
       "           ['1036', '1036_2', '?:', '?:', '?:', '?:', '?:', '?:', '?:', '?:',\n",
       "            '?:', '?:', '?:', '?:', '?:', '?:', '?:', '?:', '?:', '?:', '?:',\n",
       "            '?:', '?:', '?:', '?:', '?:', '?:', '?:'],\n",
       "           ['1036', '1036_6', '1:', '1:', '1:', '1:', '1:', '1:', 'A1,2:',\n",
       "            '1:', '1:', '1:', '1:', '1:', 'A1,2:', '1:', '1:', '1:', '1:',\n",
       "            '1:', '1:', '1:', '1:', '1:', '1:', '1:', '2:', '1:'],\n",
       "           ['1036', '1036_6', '1:', '2:', '2:', '2:', '1:', '1:', 'A2,1:',\n",
       "            '1:', '2:', '1:', '1:', '2:', 'A2,1:', '2:', '2:', '2:', '1:',\n",
       "            '1:', '1:', '1:', '1:', '1:', '1:', '1:', '1:', '1:'],\n",
       "           ['1036', '1036_99', '1:', '1|', '1|', '1|', '1:', '1|', 'A1,2|',\n",
       "            '1|', '1|', '1:', '1:', '1|', 'A2,1|', '2|', '2|', '2|', '1:',\n",
       "            '1:', '1:', '1:', '1:', '1:', '1:', '1:', '1|', '1:'],\n",
       "           ['1036', '1036_99', '2:', '1|', '2|', '2|', '1:', '2|', 'A2,1|',\n",
       "            '2|', '2|', '1:', '1:', '2|', 'A1,2|', '1|', '1|', '1|', '1:',\n",
       "            '1:', '1:', '1:', '1:', '1:', '1:', '1:', '1|', '1:'],\n",
       "           ['1036', '1036_5', '1:', '1|', '1|', '1|', '1:', '2/', 'A2,1|',\n",
       "            '2|', '1/', '1:', '1:', '1|', 'A2,1|', '1/', '1|', '1|', '1:',\n",
       "            '1:', '1:', '1:', '1:', '1:', '1:', '1:', '1|', '1:'],\n",
       "           ['1036', '1036_5', '1:', '1|', '1|', '1|', '1:', '1/', 'A1,2|',\n",
       "            '1|', '1/', '1:', '1:', '1|', 'A1,2|', '1/', '1|', '1|', '1:',\n",
       "            '1:', '1:', '1:', '1:', '1:', '1:', '1:', '2|', '1:'],\n",
       "           ['1036', '1036_4', '1:', '1|', '1\\\\', '1|', '1:', '1|', 'A1,2|',\n",
       "            '1|', '1|', '1:', '1:', '1|', 'A2,1\\\\', '2|', '2|', '2|', '1:',\n",
       "            '1:', '1:', '1:', '1:', '1:', '1:', '1:', '1|', '1:'],\n",
       "           ['1036', '1036_4', '1:', '1|', '2\\\\', '2|', '1:', '1|', 'A2,1|',\n",
       "            '1|', '2|', '1:', '1:', '2|', 'A1,2\\\\', '1|', '1|', '1|', '1:',\n",
       "            '1:', '1:', '1:', '1:', '1:', '1:', '1:', '2|', '1:'],\n",
       "           ['1036', '1036_3', '1:', '1|', '1|', '1|', '1:', '1|', 'A1,2|',\n",
       "            '1|', '1|', '1:', '1:', '1\\\\', 'A2,1|', '2|', '2|', '2|', '1:',\n",
       "            '1:', '1:', '1:', '1:', '1:', '1:', '1:', '1|', '1:'],\n",
       "           ['1036', '1036_3', '1:', '2|', '2|', '2|', '1:', '1|', 'A2,1|',\n",
       "            '1|', '2|', '1:', '1:', '1\\\\', 'A1,2|', '1|', '1|', '1|', '1:',\n",
       "            '1:', '1:', '1:', '1:', '1:', '1:', '1:', '2|', '1:']],\n",
       "          dtype='<U7')],\n",
       "   '22_1': [array(['V3-14464', 'V8-14653', 'V9-14677', 'V16-14907', 'V17-14930',\n",
       "           'V36-16103', 'V44-16378', 'V49-16487', 'V61-17147', 'V72-17365',\n",
       "           'V77-17385', 'V78-17398', 'V81-17407', 'V86-17479', 'V99-17559',\n",
       "           'V114-17697', 'V119-17722', 'V121-17746', 'V131-17829',\n",
       "           'V142-19190', 'V146-20184', 'V147-20191', 'V149-20212',\n",
       "           'V152-20227', 'V156-20235', 'V158-20250', 'V165-20316',\n",
       "           'V171-20547'], dtype='<U10'),\n",
       "    array([3.038e-01, 4.487e-01, 7.190e-02, 3.680e-01, 3.322e-01, 2.290e-02,\n",
       "           4.994e-01, 9.850e-02, 1.250e-02, 2.210e-02, 2.135e-01, 3.000e-04,\n",
       "           2.090e-02, 1.000e-04, 2.000e-04, 1.783e-01, 2.810e-02, 3.420e-02,\n",
       "           1.150e-02, 9.790e-02, 3.830e-02, 1.485e-01, 1.807e-01, 1.247e-01,\n",
       "           5.090e-02, 3.512e-01, 3.466e-01, 3.344e-01]),\n",
       "    array([['22_1', '22_1_10', '2:', '2:', '2:', '1:', '1:', '2:', 'A1,2:',\n",
       "            '2:', '2:', '1:', '2:', '1:', '2:', '?:', '2:', '1:', '1:', '2:',\n",
       "            '1:', '1:', '1:', '2:', '2:', '2:', '1:', '2:', '1:', '2:'],\n",
       "           ['22_1', '22_1_10', '1:', '2:', '1:', '1:', '2:', '1:', 'A1,2:',\n",
       "            '1:', '1:', '1:', '1:', '1:', '1:', '1:', '1:', '1:', '1:', '1:',\n",
       "            '1:', '1:', '1:', '1:', '1:', '1:', '1:', '1:', '1:', '1:'],\n",
       "           ['22_1', '22_1_20', '1:', '1:', '1:', '2:', '1:', '1:', 'A2,1:',\n",
       "            '1:', '1:', '1:', '1:', '1:', '1:', '1:', '1:', '1:', '2:', '2:',\n",
       "            '2:', '2:', '2:', '1:', '1:', '1:', '2:', '1:', '1:', '1:'],\n",
       "           ['22_1', '22_1_20', '1:', '2:', '1:', '1:', '1:', '2:', 'A2,1:',\n",
       "            '1:', '1:', '2:', '1:', '2:', '1:', '2:', '1:', '2:', '1:', '1:',\n",
       "            '1:', '1:', '1:', '1:', '1:', '1:', '1:', '1:', '2:', '1:'],\n",
       "           ['22_1', '22_1_99', '1:', '1|', '1|', '2\\\\', '1|', '1|', 'A2,1\\\\',\n",
       "            '1|', '1\\\\', '1|', '1|', '1|', '1|', '1|', '1|', '1|', '2|',\n",
       "            '2|', '2|', '2|', '1/', '1|', '1|', '1|', '1|', '1\\\\', '2|',\n",
       "            '1|'],\n",
       "           ['22_1', '22_1_99', '2:', '2|', '2|', '1\\\\', '2|', '1|', 'A1,2\\\\',\n",
       "            '2|', '1\\\\', '1|', '1|', '1|', '1|', '1|', '1|', '1|', '1|',\n",
       "            '1|', '1|', '1|', '1/', '1|', '1|', '1|', '1|', '2\\\\', '1|',\n",
       "            '2|'],\n",
       "           ['22_1', '22_1_5', '1:', '1|', '1|', '2|', '1|', '1\\\\', 'A2,1|',\n",
       "            '1|', '1\\\\', '1|', '1|', '1|', '1|', '1\\\\', '1|', '1|', '1/',\n",
       "            '1|', '1|', '2/', '2|', '1|', '1/', '1|', '1|', '1|', '2|', '1|'],\n",
       "           ['22_1', '22_1_5', '2:', '2|', '2|', '1|', '1|', '1\\\\', 'A1,2|',\n",
       "            '1|', '2\\\\', '1|', '2|', '1|', '2|', '1\\\\', '1|', '1|', '1/',\n",
       "            '1|', '1|', '1/', '1|', '1|', '1/', '1|', '1|', '1|', '1|', '1|'],\n",
       "           ['22_1', '22_1_4', '1:', '1|', '1|', '2|', '1|', '1|', 'A2,1|',\n",
       "            '1|', '1|', '1|', '1|', '1|', '1|', '1|', '1\\\\', '1|', '1/',\n",
       "            '1|', '1|', '1\\\\', '1|', '1|', '1|', '1|', '1|', '1|', '1/',\n",
       "            '1|'],\n",
       "           ['22_1', '22_1_4', '1:', '2|', '1|', '1|', '2|', '1|', 'A1,2|',\n",
       "            '1|', '1|', '1|', '1|', '1|', '1|', '1|', '2\\\\', '1|', '1/',\n",
       "            '2|', '1|', '1\\\\', '1|', '1|', '1|', '1|', '1|', '1|', '1/',\n",
       "            '1|'],\n",
       "           ['22_1', '22_1_3', '1:', '2|', '1|', '1\\\\', '1|', '2|', 'A2,1\\\\',\n",
       "            '1|', '1|', '2|', '1|', '2|', '1|', '2|', '1|', '2|', '1|', '1|',\n",
       "            '1|', '1|', '1|', '1|', '1/', '1|', '2|', '1|', '1|', '1|'],\n",
       "           ['22_1', '22_1_3', '1:', '2|', '1|', '1\\\\', '1|', '2|', 'A1,2\\\\',\n",
       "            '1|', '1|', '1|', '1|', '1|', '1|', '1|', '1|', '1|', '1|', '1|',\n",
       "            '1|', '1|', '1|', '1|', '1/', '1|', '1|', '1|', '1|', '1|'],\n",
       "           ['22_1', '22_1_2', '1:', '1|', '1|', '2|', '1|', '1|', 'A2,1|',\n",
       "            '1|', '1|', '1\\\\', '1|', '1\\\\', '1|', '1|', '1|', '2/', '1|',\n",
       "            '1|', '1|', '1\\\\', '1|', '1|', '1|', '1|', '1|', '1|', '1/',\n",
       "            '1|'],\n",
       "           ['22_1', '22_1_2', '1:', '2|', '1|', '1|', '2|', '1|', 'A1,2|',\n",
       "            '1|', '1|', '1\\\\', '2|', '1\\\\', '1|', '1|', '1|', '1/', '1|',\n",
       "            '1|', '1|', '1\\\\', '1|', '2|', '2|', '2|', '1|', '2|', '1/',\n",
       "            '2|']], dtype='<U7')],\n",
       "   '28_9': [array(['V3-14464', 'V5-14470', 'V8-14653', 'V9-14677', 'V16-14907',\n",
       "           'V17-14930', 'V31-16068', 'V36-16103', 'V44-16378', 'V76-17379',\n",
       "           'V77-17385', 'V82-17408', 'V96-17519', 'V98-17556', 'V107-17614',\n",
       "           'V142-19190', 'V145-20166', 'V147-20191', 'V149-20212',\n",
       "           'V152-20227', 'V153-20227', 'V155-20231', 'V156-20235',\n",
       "           'V158-20250', 'V161-20254', 'V165-20316', 'V170-20545',\n",
       "           'V171-20547', 'V180-29368'], dtype='<U10'),\n",
       "    array([0.3038, 0.0051, 0.4487, 0.0719, 0.368 , 0.3322, 0.0024, 0.0229,\n",
       "           0.4994, 0.0088, 0.2135, 0.0104, 0.0041, 0.0179, 0.057 , 0.0979,\n",
       "           0.1064, 0.1485, 0.1807, 0.1247, 0.0722, 0.0146, 0.0509, 0.3512,\n",
       "           0.0143, 0.3466, 0.0014, 0.3344, 0.0111]),\n",
       "    array([['28_9', '28_9_100', '1:', '1:', '2:', '1:', 'A1,2:', '2:', '1:',\n",
       "            'A1,2:', 'A1,2:', '1:', 'A1,2:', '1:', '1:', '1:', '1:', '1:',\n",
       "            '2:', '2:', '2:', '1:', '2:', '2:', '1:', '2:', '1:', '2:', '1:',\n",
       "            '1:', '2:'],\n",
       "           ['28_9', '28_9_100', '1:', '1:', '?:', '2:', 'A1,2:', '1:', '2:',\n",
       "            '2:', '2:', '1:', 'A1,2:', '1:', '1:', '1:', '1:', '2:', '1:',\n",
       "            '1:', '1:', '1:', '1:', '1:', '1:', '1:', '1:', '1:', '1:', '1:',\n",
       "            '1:'],\n",
       "           ['28_9', '28_9_101', '1:', '1:', '2:', '1:', 'A2,1:', '2:', '2:',\n",
       "            '2:', '1:', '1:', 'A2,1:', '2:', '1:', '2:', '1:', '1:', '2:',\n",
       "            '2:', '2:', '2:', '1:', '2:', '1:', '2:', '1:', '2:', '2:', '2:',\n",
       "            '1:'],\n",
       "           ['28_9', '28_9_101', '2:', '1:', '1:', '1:', 'A2,1:', '1:', '1:',\n",
       "            'A2,1:', 'A2,1:', '1:', 'A2,1:', '1:', '1:', '1:', '1:', '2:',\n",
       "            '1:', '1:', '1:', '1:', '1:', '1:', '1:', '1:', '1:', '1:', '1:',\n",
       "            '2:', '1:'],\n",
       "           ['28_9', '28_9_186', '2:', '2:', '1:', '2:', 'A2,1:', '1:', '?:',\n",
       "            '1:', '1:', '1:', 'A2,1:', '1:', '1:', '1:', '2:', '?:', '2:',\n",
       "            '2:', '2:', '2:', '2:', '1:', '1:', '2:', '2:', '2:', '1:', '2:',\n",
       "            '1:'],\n",
       "           ['28_9', '28_9_186', '1:', '1:', '1:', '1:', 'A2,1:', '2:', '?:',\n",
       "            '2:', '2:', '2:', 'A2,1:', '1:', '2:', '1:', '1:', '1:', '1:',\n",
       "            '1:', '1:', '1:', '1:', '1:', '2:', '1:', '1:', '1:', '1:', '1:',\n",
       "            '2:'],\n",
       "           ['28_9', '28_9_114', '1:', '1|', '2|', '1|', 'A1,2|', '2|', '1|',\n",
       "            'A1,2|', 'A1,2|', '1|', 'A1,2|', '1|', '1\\\\', '1|', '1|', '1|',\n",
       "            '1/', '1|', '1|', '1|', '1|', '1|', '1|', '1|', '1|', '1|', '1|',\n",
       "            '1|', '1|'],\n",
       "           ['28_9', '28_9_114', '2:', '1|', '1|', '1|', 'A2,1|', '1|', '1|',\n",
       "            'A2,1|', 'A2,1|', '1|', 'A2,1|', '1|', '1\\\\', '2|', '1|', '1|',\n",
       "            '2/', '2|', '2|', '2|', '1|', '2|', '1|', '2|', '1|', '2|', '2|',\n",
       "            '2|', '1|'],\n",
       "           ['28_9', '28_9_105', '1:', '1|', '2|', '1|', 'A1,2|', '2|', '1|',\n",
       "            'A1,2|', 'A1,2|', '1|', 'A1,2|', '1|', '1|', '1|', '1|', '1|',\n",
       "            '2|', '2|', '2|', '1|', '2|', '2|', '1|', '2|', '1|', '2|',\n",
       "            '1\\\\', '1|', '1/'],\n",
       "           ['28_9', '28_9_105', '2:', '1|', '1|', '1|', 'A2,1|', '1|', '1|',\n",
       "            'A2,1|', 'A2,1|', '1|', 'A2,1|', '1|', '1|', '1|', '1|', '2|',\n",
       "            '1|', '1|', '1|', '1|', '1|', '1|', '1|', '1|', '1|', '1|',\n",
       "            '2\\\\', '2|', '1/'],\n",
       "           ['28_9', '28_9_103', '1:', '1|', '2|', '1|', 'A1,2|', '2|', '2/',\n",
       "            '2|', '2|', '1\\\\', 'A1,2|', '1|', '1|', '1|', '1|', '2|', '1|',\n",
       "            '1|', '1|', '1|', '1|', '1|', '1|', '1|', '1|', '1|', '1|', '1|',\n",
       "            '1|'],\n",
       "           ['28_9', '28_9_103', '1:', '1|', '2|', '1|', 'A2,1|', '2|', '2/',\n",
       "            '2|', '1|', '1\\\\', 'A2,1|', '1|', '1|', '1|', '1|', '2|', '1|',\n",
       "            '1|', '1|', '1|', '1|', '1|', '1|', '1|', '1|', '1|', '1|', '2|',\n",
       "            '1|'],\n",
       "           ['28_9', '28_9_111', '1:', '1|', '2|', '1|', 'A1,2|', '2|', '2|',\n",
       "            '2|', '2|', '1|', 'A1,2|', '1|', '1|', '1|', '1|', '2\\\\', '1|',\n",
       "            '1|', '1|', '1|', '1|', '1|', '1\\\\', '1|', '1\\\\', '1\\\\', '1|',\n",
       "            '1|', '1\\\\'],\n",
       "           ['28_9', '28_9_111', '2:', '2|', '1|', '2|', 'A2,1|', '1|', '?|',\n",
       "            '1|', '1|', '1|', 'A2,1|', '1|', '1|', '1|', '2|', '1\\\\', '1|',\n",
       "            '1|', '1|', '1|', '1|', '1|', '1\\\\', '2|', '1\\\\', '2\\\\', '1|',\n",
       "            '2|', '2\\\\'],\n",
       "           ['28_9', '28_9_110', '1:', '1\\\\', '2|', '1|', 'A1,2\\\\', '2|',\n",
       "            '2|', '2|', '2|', '1|', 'A1,2|', '1|', '1|', '1|', '1\\\\', '2|',\n",
       "            '1|', '1|', '1|', '1|', '1|', '1|', '1|', '1\\\\', '1|', '1|',\n",
       "            '1|', '1|', '1|'],\n",
       "           ['28_9', '28_9_110', '2:', '1\\\\', '1|', '1|', 'A2,1\\\\', '1|',\n",
       "            '?|', '1|', '1|', '1|', 'A2,1|', '1|', '1|', '1|', '1\\\\', '1|',\n",
       "            '1|', '1|', '1|', '1|', '1|', '1|', '2|', '2\\\\', '2|', '2|',\n",
       "            '1|', '2|', '1|'],\n",
       "           ['28_9', '28_9_108', '1:', '1\\\\', '2|', '1|', 'A1,2\\\\', '2|',\n",
       "            '2|', '2|', '2|', '1|', 'A1,2|', '1|', '1\\\\', '1|', '1|', '2|',\n",
       "            '1|', '1|', '1|', '1|', '1\\\\', '1|', '1\\\\', '1|', '1|', '1|',\n",
       "            '1|', '1|', '1\\\\'],\n",
       "           ['28_9', '28_9_108', '2:', '1\\\\', '1|', '1|', 'A2,1\\\\', '1|',\n",
       "            '?|', '1|', '1|', '1|', 'A2,1|', '1|', '2\\\\', '1|', '1|', '1|',\n",
       "            '1|', '1|', '1|', '1|', '2\\\\', '1|', '2\\\\', '1|', '1|', '1|',\n",
       "            '1|', '1|', '1\\\\'],\n",
       "           ['28_9', '28_9_109', '1:', '1|', '2|', '1|', 'A1,2|', '2|', '2|',\n",
       "            '2|', '2|', '1|', 'A1,2|', '1|', '1|', '1|', '1|', '2\\\\', '1|',\n",
       "            '1|', '1|', '1|', '1\\\\', '1|', '1|', '1\\\\', '1|', '1|', '1|',\n",
       "            '1|', '1|'],\n",
       "           ['28_9', '28_9_109', '1:', '1|', '1|', '1|', 'A2,1|', '2|', '?|',\n",
       "            '2|', '2|', '2|', 'A2,1|', '1|', '2|', '1|', '1|', '?\\\\', '2|',\n",
       "            '2|', '2|', '2|', '1\\\\', '1|', '2|', '2\\\\', '2|', '2|', '1|',\n",
       "            '2|', '1|'],\n",
       "           ['28_9', '28_9_106', '1:', '1|', '?|', '2|', 'A1,2|', '1|', '2|',\n",
       "            '2|', '2|', '1|', 'A1,2|', '1|', '1|', '1|', '1|', '1/', '2\\\\',\n",
       "            '2|', '2|', '1|', '2|', '2|', '1|', '2|', '1|', '2|', '1|', '1|',\n",
       "            '2|'],\n",
       "           ['28_9', '28_9_106', '1:', '1|', '2|', '1|', 'A2,1|', '2|', '2|',\n",
       "            '2|', '1|', '1|', 'A2,1|', '2|', '1|', '2|', '1|', '1/', '1\\\\',\n",
       "            '1|', '1|', '1|', '1|', '1|', '1|', '1|', '1|', '1|', '1|', '2|',\n",
       "            '1|']], dtype='<U8')]},\n",
       "  'maf': OrderedDict([('1036',\n",
       "                ((0.9582499813560127,\n",
       "                  0.029025911242393114,\n",
       "                  0.012424635090515595,\n",
       "                  0.0002846888564111589,\n",
       "                  8.623379742930217e-06,\n",
       "                  6.158245356303095e-06,\n",
       "                  1.8295683403033734e-09),)),\n",
       "               ('22_1',\n",
       "                ((0.9402457972235894,\n",
       "                  0.037445579737614094,\n",
       "                  0.022036259089571412,\n",
       "                  0.00025405839206469607,\n",
       "                  6.660351798055453e-06,\n",
       "                  1.1199179623209565e-05,\n",
       "                  4.460107929384697e-07,\n",
       "                  1.4946196637880083e-11),)),\n",
       "               ('28_9',\n",
       "                ((0.962919328909254,\n",
       "                  0.022567651859606953,\n",
       "                  0.01426691922272687,\n",
       "                  0.0001601403613836265,\n",
       "                  5.4292666863528206e-05,\n",
       "                  3.163900721354772e-05,\n",
       "                  8.543984765074976e-09,\n",
       "                  9.029258247266545e-09,\n",
       "                  1.039949253245297e-08,\n",
       "                  2.160174918351608e-13),))]),\n",
       "  'hap': {'1036': ('1036', '1036_1', '5', '12212111111', '0', 'NULL'),\n",
       "   '22_1': ('22_1', '22_1_10', '0', 'NULL', '1', '11111111111'),\n",
       "   '28_9': ('28_9', '28_9_100', '4', '11111112112', '5', '12211111111')}}}"
      ]
     },
     "execution_count": null,
     "metadata": {},
     "output_type": "execute_result"
    }
   ],
   "source": [
    "results1"
   ]
  },
  {
   "cell_type": "code",
   "execution_count": null,
   "id": "42e89c6e-1ce5-4088-93b0-3dcbdad8f4ce",
   "metadata": {},
   "outputs": [],
   "source": [
    "import pickle\n",
    "with open('../data/dtestpy3_fixedcoder_seqtest_20220126.pickle', 'wb') as handle:\n",
    "    pickle.dump(a1, handle, protocol=pickle.HIGHEST_PROTOCOL)"
   ]
  }
 ],
 "metadata": {
  "kernelspec": {
   "display_name": "Python 3 (ipykernel)",
   "language": "python",
   "name": "python3"
  }
 },
 "nbformat": 4,
 "nbformat_minor": 5
}
