{
 "cells": [
  {
   "cell_type": "code",
   "execution_count": null,
   "id": "5fe4ed19-1a30-4fc1-a955-19271c7dcaff",
   "metadata": {},
   "outputs": [],
   "source": []
  },
  {
   "cell_type": "code",
   "execution_count": null,
   "id": "326e3329-1e8e-4c08-b46e-7a3b69fd4952",
   "metadata": {},
   "outputs": [],
   "source": [
    "import pandas as pd\n",
    "import gzip\n",
    "\n",
    "def get_vcf_names(vcf_path):\n",
    "    with gzip.open(vcf_path, \"rt\") as ifile:\n",
    "        for line in ifile:\n",
    "            if line.startswith(\"#CHROM\"):\n",
    "                vcf_names = [x.strip() for x in line.split('\\t')]\n",
    "                break\n",
    "    ifile.close()\n",
    "    return vcf_names\n",
    "\n",
    "def read_vcf_chunk(fn,chunksize=10):\n",
    "    names = get_vcf_names(fn)\n",
    "    try:\n",
    "        vcf = pd.read_csv(fn, compression='gzip', comment='#', chunksize=chunksize, delim_whitespace=True, header=None, names=names)\n",
    "    except:\n",
    "        vcf = pd.read_csv(fn, comment='#', chunksize=chunksize, delim_whitespace=True, header=None, names=names)\n",
    "    df= pd.DataFrame(vcf.get_chunk(chunksize))\n",
    "    return df\n",
    "\n",
    "def read_anno_chunk(fn,chunksize=10):\n",
    "    try:\n",
    "        vcf = pd.read_csv(fn, compression='gzip', chunksize=chunksize)\n",
    "    except:\n",
    "        vcf = pd.read_csv(fn, chunksize=chunksize)\n",
    "    df= pd.DataFrame(vcf.get_chunk(chunksize))\n",
    "    return df"
   ]
  },
  {
   "cell_type": "markdown",
   "id": "604807d6-aaac-485c-8935-9ff6522a113b",
   "metadata": {},
   "source": [
    "# 1.read fam"
   ]
  },
  {
   "cell_type": "code",
   "execution_count": null,
   "id": "d1cc359d-7238-4c7b-98f0-4a52f28527d1",
   "metadata": {},
   "outputs": [],
   "source": [
    "fam = pd.read_csv('data/nodp_fam.csv',header=None,names=['fid','iid','fathid','mothid','sex','ad','vcf'])"
   ]
  },
  {
   "cell_type": "code",
   "execution_count": null,
   "id": "f104926d-4af4-4adf-b7f4-6b85177f959b",
   "metadata": {},
   "outputs": [],
   "source": [
    "fam.iloc[:,:-1].sort_values('fid').to_csv('data/nodp_fam.fam',header=False,index=False,sep='\\t')"
   ]
  },
  {
   "cell_type": "markdown",
   "id": "e0945afa-ce13-4462-a5c1-d9a20516ac61",
   "metadata": {},
   "source": [
    "### 1.1 Normal family"
   ]
  },
  {
   "cell_type": "code",
   "execution_count": null,
   "id": "6e52000a-5372-4d48-8040-39c974167837",
   "metadata": {},
   "outputs": [],
   "source": [
    "fam[fam.fid.isin(['22_1','1036','28_9'])].iloc[:,:-1].sort_values('fid').to_csv('data/mwe_normal_fam.csv',header=False,index=False,sep='\\t')"
   ]
  },
  {
   "cell_type": "code",
   "execution_count": null,
   "id": "0b5fb5c9-7317-4c4b-9c42-056982944f48",
   "metadata": {},
   "outputs": [],
   "source": [
    "tmp = pd.DataFrame([pd.Series(list(set(fam.fid))),pd.Series([sum(fam[fam.fid == i].vcf) for i in set(fam.fid)]),pd.Series([sum(fam.fid == i) for i in set(fam.fid)])])"
   ]
  },
  {
   "cell_type": "code",
   "execution_count": null,
   "id": "bc4c056f-fafa-4a0d-a56b-1c33b63093e3",
   "metadata": {},
   "outputs": [],
   "source": [
    "tmp = tmp.T"
   ]
  },
  {
   "cell_type": "code",
   "execution_count": null,
   "id": "0035c2e6-e8b7-4e7a-818a-404f0cdce8e7",
   "metadata": {},
   "outputs": [],
   "source": [
    "tmp.columns = ['fid','vcf','tol']"
   ]
  },
  {
   "cell_type": "code",
   "execution_count": null,
   "id": "239033e3-4889-4c58-9232-3d74ff8660eb",
   "metadata": {},
   "outputs": [],
   "source": [
    "tmp['per'] = tmp.vcf/tmp.tol"
   ]
  },
  {
   "cell_type": "code",
   "execution_count": null,
   "id": "8cf9d34d-6878-4ddb-bc9c-41287e304bfb",
   "metadata": {},
   "outputs": [
    {
     "data": {
      "text/html": [
       "<div>\n",
       "<style scoped>\n",
       "    .dataframe tbody tr th:only-of-type {\n",
       "        vertical-align: middle;\n",
       "    }\n",
       "\n",
       "    .dataframe tbody tr th {\n",
       "        vertical-align: top;\n",
       "    }\n",
       "\n",
       "    .dataframe thead th {\n",
       "        text-align: right;\n",
       "    }\n",
       "</style>\n",
       "<table border=\"1\" class=\"dataframe\">\n",
       "  <thead>\n",
       "    <tr style=\"text-align: right;\">\n",
       "      <th></th>\n",
       "      <th>fid</th>\n",
       "      <th>vcf</th>\n",
       "      <th>tol</th>\n",
       "      <th>per</th>\n",
       "    </tr>\n",
       "  </thead>\n",
       "  <tbody>\n",
       "    <tr>\n",
       "      <th>37</th>\n",
       "      <td>4_649</td>\n",
       "      <td>2</td>\n",
       "      <td>373</td>\n",
       "      <td>0.005362</td>\n",
       "    </tr>\n",
       "    <tr>\n",
       "      <th>36</th>\n",
       "      <td>535</td>\n",
       "      <td>1</td>\n",
       "      <td>62</td>\n",
       "      <td>0.016129</td>\n",
       "    </tr>\n",
       "    <tr>\n",
       "      <th>761</th>\n",
       "      <td>8_64024</td>\n",
       "      <td>1</td>\n",
       "      <td>43</td>\n",
       "      <td>0.023256</td>\n",
       "    </tr>\n",
       "    <tr>\n",
       "      <th>734</th>\n",
       "      <td>10R_R81</td>\n",
       "      <td>1</td>\n",
       "      <td>43</td>\n",
       "      <td>0.023256</td>\n",
       "    </tr>\n",
       "    <tr>\n",
       "      <th>115</th>\n",
       "      <td>4_715</td>\n",
       "      <td>1</td>\n",
       "      <td>41</td>\n",
       "      <td>0.02439</td>\n",
       "    </tr>\n",
       "    <tr>\n",
       "      <th>...</th>\n",
       "      <td>...</td>\n",
       "      <td>...</td>\n",
       "      <td>...</td>\n",
       "      <td>...</td>\n",
       "    </tr>\n",
       "    <tr>\n",
       "      <th>264</th>\n",
       "      <td>1999</td>\n",
       "      <td>6</td>\n",
       "      <td>9</td>\n",
       "      <td>0.666667</td>\n",
       "    </tr>\n",
       "    <tr>\n",
       "      <th>225</th>\n",
       "      <td>22_1</td>\n",
       "      <td>5</td>\n",
       "      <td>7</td>\n",
       "      <td>0.714286</td>\n",
       "    </tr>\n",
       "    <tr>\n",
       "      <th>735</th>\n",
       "      <td>1036</td>\n",
       "      <td>5</td>\n",
       "      <td>7</td>\n",
       "      <td>0.714286</td>\n",
       "    </tr>\n",
       "    <tr>\n",
       "      <th>3</th>\n",
       "      <td>28_9</td>\n",
       "      <td>8</td>\n",
       "      <td>11</td>\n",
       "      <td>0.727273</td>\n",
       "    </tr>\n",
       "    <tr>\n",
       "      <th>434</th>\n",
       "      <td>10R_R107</td>\n",
       "      <td>8</td>\n",
       "      <td>10</td>\n",
       "      <td>0.8</td>\n",
       "    </tr>\n",
       "  </tbody>\n",
       "</table>\n",
       "<p>818 rows × 4 columns</p>\n",
       "</div>"
      ],
      "text/plain": [
       "          fid vcf  tol       per\n",
       "37      4_649   2  373  0.005362\n",
       "36        535   1   62  0.016129\n",
       "761   8_64024   1   43  0.023256\n",
       "734   10R_R81   1   43  0.023256\n",
       "115     4_715   1   41   0.02439\n",
       "..        ...  ..  ...       ...\n",
       "264      1999   6    9  0.666667\n",
       "225      22_1   5    7  0.714286\n",
       "735      1036   5    7  0.714286\n",
       "3        28_9   8   11  0.727273\n",
       "434  10R_R107   8   10       0.8\n",
       "\n",
       "[818 rows x 4 columns]"
      ]
     },
     "execution_count": null,
     "metadata": {},
     "output_type": "execute_result"
    }
   ],
   "source": [
    "tmp.sort_values('per')"
   ]
  },
  {
   "cell_type": "markdown",
   "id": "98d77789-d18c-4f3d-9285-153ed9057b20",
   "metadata": {},
   "source": [
    "### 1.2 Multi-group family"
   ]
  },
  {
   "cell_type": "code",
   "execution_count": null,
   "id": "e49edadc-e0bf-4243-a181-cafeb0765b7d",
   "metadata": {},
   "outputs": [],
   "source": [
    "fam[fam.fid.isin(['27_104'])].iloc[:,:-1].sort_values('fid').to_csv('data/mwe_multi_group_fam.csv',header=False,index=False,sep='\\t')"
   ]
  },
  {
   "cell_type": "markdown",
   "id": "2adcc973-1b05-4aa8-b12f-12bd07e32a8a",
   "metadata": {},
   "source": [
    "### 1.3 In-law family "
   ]
  },
  {
   "cell_type": "code",
   "execution_count": null,
   "id": "e2c5b573-a768-4659-8186-76ad15848bf3",
   "metadata": {},
   "outputs": [],
   "source": [
    "fam[fam.fid.isin(['4_461'])].iloc[:,:-1].sort_values('fid').to_csv('data/mwe_in_law_fam.csv',header=False,index=False,sep='\\t')"
   ]
  },
  {
   "cell_type": "markdown",
   "id": "3e21d92b-c758-4461-870a-e37161103757",
   "metadata": {},
   "source": [
    "### 1.4 "
   ]
  },
  {
   "cell_type": "code",
   "execution_count": null,
   "id": "05f50dcb-eb79-4314-b8ce-91f5bc07028f",
   "metadata": {},
   "outputs": [],
   "source": [
    "fam[fam.fid.isin(['1005'])].iloc[:,:-1].sort_values('fid').to_csv('data/mwe_the_1005_fam.csv',header=False,index=False,sep='\\t')"
   ]
  },
  {
   "cell_type": "markdown",
   "id": "952ca41e-5d36-4aae-8c80-b3f93080bd2e",
   "metadata": {},
   "source": [
    "### 1.5"
   ]
  },
  {
   "cell_type": "code",
   "execution_count": null,
   "id": "ef8e3fdc-8ec6-4325-9586-2d88e04a0453",
   "metadata": {},
   "outputs": [],
   "source": [
    "ok_plot = pd.read_csv('data/ok_plot.csv',index_col=0)"
   ]
  },
  {
   "cell_type": "code",
   "execution_count": null,
   "id": "9ad76500-36ac-45df-b00e-bb890da851c8",
   "metadata": {},
   "outputs": [],
   "source": [
    "fam[fam.fid.isin(ok_plot.x[:10])].iloc[:,:-1].sort_values('fid').to_csv('data/mwe_ok_plot_fam.csv',header=False,index=False,sep='\\t')"
   ]
  },
  {
   "cell_type": "markdown",
   "id": "346bd756-2ce9-4067-83da-cecb8750b81d",
   "metadata": {},
   "source": [
    "### 1.6 4_364 family"
   ]
  },
  {
   "cell_type": "code",
   "execution_count": null,
   "id": "4e654abe-5ed4-486a-a594-c30169ff211e",
   "metadata": {},
   "outputs": [],
   "source": [
    "f4_364 = fam[fam.fid.isin(['4_364'])].iloc[:,:-1]"
   ]
  },
  {
   "cell_type": "code",
   "execution_count": null,
   "id": "d6e10d48-41a0-429b-a197-f2c9be098c63",
   "metadata": {},
   "outputs": [],
   "source": [
    "f4_364.to_csv('data/mwe_the_4_364_all_fam.csv',header=False,index=False,sep='\\t')"
   ]
  },
  {
   "cell_type": "code",
   "execution_count": null,
   "id": "0c15d06c-d95e-4b05-bec5-ff1ef965d1e9",
   "metadata": {},
   "outputs": [],
   "source": [
    "f4_364[~f4_364.iid.isin(['4_364_'+str(i) for i in range(14,20)])].to_csv('data/mwe_the_4_364_rm_4-5layers_fam.csv',header=False,index=False,sep='\\t')"
   ]
  },
  {
   "cell_type": "code",
   "execution_count": null,
   "id": "0e7f6e16-785d-4efa-bf2e-20652230caec",
   "metadata": {},
   "outputs": [],
   "source": [
    "f4_364[~f4_364.iid.isin(['4_364_'+str(i) for i in range(17,20)])].to_csv('data/mwe_the_4_364_rm_5layers_fam.csv',header=False,index=False,sep='\\t')"
   ]
  },
  {
   "cell_type": "markdown",
   "id": "0b47fa29-b9dd-460a-996c-9604ba2713ac",
   "metadata": {},
   "source": [
    "# 1.read ped"
   ]
  },
  {
   "cell_type": "code",
   "execution_count": null,
   "id": "9befda47-3f51-4fe2-b404-04e7d6121e27",
   "metadata": {},
   "outputs": [],
   "source": [
    "ped = pd.read_csv('data/nodp_ped_with_depth_trim.csv',header=0)"
   ]
  },
  {
   "cell_type": "code",
   "execution_count": null,
   "id": "08de2e32-0272-4f23-8260-06a664840598",
   "metadata": {},
   "outputs": [],
   "source": [
    "ped[ped.fid.isin(trim_smry.index[trim_smry.before<4])].iloc[:,:-3].sort_values('fid').to_csv('data/mwe_3layers.csv',header=False,index=False,sep='\\t')"
   ]
  },
  {
   "cell_type": "code",
   "execution_count": null,
   "id": "0fe02426-447d-4148-a617-5103e1aef1aa",
   "metadata": {},
   "outputs": [],
   "source": [
    "trim_ped = ped[ped.trim==False]"
   ]
  },
  {
   "cell_type": "code",
   "execution_count": null,
   "id": "dc5d7cc8-f114-48a1-8a70-38429eb47f33",
   "metadata": {},
   "outputs": [
    {
     "data": {
      "text/plain": [
       "array([[<AxesSubplot:title={'center':'before'}>,\n",
       "        <AxesSubplot:title={'center':'after'}>]], dtype=object)"
      ]
     },
     "execution_count": null,
     "metadata": {},
     "output_type": "execute_result"
    },
    {
     "data": {
      "image/png": "[encoded data removed]",
      "text/plain": [
       "<Figure size 432x288 with 2 Axes>"
      ]
     },
     "metadata": {
      "needs_background": "light"
     },
     "output_type": "display_data"
    }
   ],
   "source": [
    "trim_smry = pd.DataFrame([[ped.depth[ped.fid == i].max() for i in trim_ped.fid.unique()],[trim_ped.depth[trim_ped.fid == i].max() for i in trim_ped.fid.unique()]])\n",
    "trim_smry = trim_smry.T\n",
    "trim_smry.index = trim_ped.fid.unique()\n",
    "trim_smry.columns = ['before','after']\n",
    "trim_smry.hist()"
   ]
  },
  {
   "cell_type": "markdown",
   "id": "9ac35018-9955-49d5-b11e-4ef361d20e43",
   "metadata": {},
   "source": [
    "### Output families with pedigree less than 4"
   ]
  },
  {
   "cell_type": "code",
   "execution_count": null,
   "id": "1bd004fd-6482-4378-af2f-5aef886a5dd6",
   "metadata": {},
   "outputs": [],
   "source": [
    "trim_ped[trim_ped.fid.isin(trim_smry.index[trim_smry.after<4])].iloc[:,:-3].sort_values('fid').to_csv('data/mwe_trimed_3layers.csv',header=False,index=False,sep='\\t')"
   ]
  },
  {
   "cell_type": "code",
   "execution_count": null,
   "id": "db17462b-f96b-42fd-8065-18bfd5393e4c",
   "metadata": {},
   "outputs": [],
   "source": [
    "trim_lay3 = trim_ped[trim_ped.fid.isin(trim_smry.index[trim_smry.after<4])]"
   ]
  },
  {
   "cell_type": "code",
   "execution_count": null,
   "id": "02a773af-14f1-455f-9e98-2250ea98a422",
   "metadata": {},
   "outputs": [],
   "source": [
    "trim_faml20_fid = trim_lay3.fid.value_counts()<20"
   ]
  },
  {
   "cell_type": "code",
   "execution_count": null,
   "id": "dc18e3e0-10f0-4b10-bfd8-19d3e57c97c6",
   "metadata": {},
   "outputs": [],
   "source": [
    "trim_ped[trim_ped.fid.isin(trim_faml20_fid[trim_faml20_fid].index)].iloc[:,:-3].sort_values('fid').to_csv('data/mwe_trimed_3layers_faml20.csv',header=False,index=False,sep='\\t')"
   ]
  },
  {
   "cell_type": "markdown",
   "id": "948cbad0-f577-4fac-a3a0-b4dc9825f489",
   "metadata": {},
   "source": [
    "# 2.read vcf and annotation"
   ]
  },
  {
   "cell_type": "code",
   "execution_count": null,
   "id": "2ec96f8e-9561-4590-af9f-5ef88902e0a0",
   "metadata": {},
   "outputs": [],
   "source": [
    "vcf = read_vcf_chunk('/mnt/mfs/statgen/alzheimers-family/linkage_files/geno/full_sample/vcf/full_sample.vcf.gz', chunksize=1000)"
   ]
  },
  {
   "cell_type": "code",
   "execution_count": null,
   "id": "7eaf8ac1-d9bd-4707-8bbe-e9ded0dd987a",
   "metadata": {},
   "outputs": [
    {
     "data": {
      "text/html": [
       "<div>\n",
       "<style scoped>\n",
       "    .dataframe tbody tr th:only-of-type {\n",
       "        vertical-align: middle;\n",
       "    }\n",
       "\n",
       "    .dataframe tbody tr th {\n",
       "        vertical-align: top;\n",
       "    }\n",
       "\n",
       "    .dataframe thead th {\n",
       "        text-align: right;\n",
       "    }\n",
       "</style>\n",
       "<table border=\"1\" class=\"dataframe\">\n",
       "  <thead>\n",
       "    <tr style=\"text-align: right;\">\n",
       "      <th></th>\n",
       "      <th>#CHROM</th>\n",
       "      <th>POS</th>\n",
       "      <th>ID</th>\n",
       "      <th>REF</th>\n",
       "      <th>ALT</th>\n",
       "      <th>QUAL</th>\n",
       "      <th>FILTER</th>\n",
       "      <th>INFO</th>\n",
       "      <th>FORMAT</th>\n",
       "      <th>4_364_99</th>\n",
       "      <th>...</th>\n",
       "      <th>8_64039_20</th>\n",
       "      <th>8_64039_25</th>\n",
       "      <th>8_64039_3</th>\n",
       "      <th>25_6_107C</th>\n",
       "      <th>25_22_491C</th>\n",
       "      <th>26_EGH_EGH64401</th>\n",
       "      <th>26_SW_SW27020</th>\n",
       "      <th>10R_R111_16</th>\n",
       "      <th>10R_R114_16</th>\n",
       "      <th>10R_R114_20</th>\n",
       "    </tr>\n",
       "  </thead>\n",
       "  <tbody>\n",
       "    <tr>\n",
       "      <th>0</th>\n",
       "      <td>1</td>\n",
       "      <td>10140</td>\n",
       "      <td>chr1:10140:ACCCTAAC:A</td>\n",
       "      <td>ACCCTAAC</td>\n",
       "      <td>A</td>\n",
       "      <td>.</td>\n",
       "      <td>.</td>\n",
       "      <td>PR</td>\n",
       "      <td>GT</td>\n",
       "      <td>0/0</td>\n",
       "      <td>...</td>\n",
       "      <td>0/0</td>\n",
       "      <td>0/0</td>\n",
       "      <td>0/0</td>\n",
       "      <td>0/0</td>\n",
       "      <td>0/0</td>\n",
       "      <td>0/0</td>\n",
       "      <td>0/0</td>\n",
       "      <td>0/0</td>\n",
       "      <td>0/0</td>\n",
       "      <td>0/0</td>\n",
       "    </tr>\n",
       "    <tr>\n",
       "      <th>1</th>\n",
       "      <td>1</td>\n",
       "      <td>10146</td>\n",
       "      <td>chr1:10146:AC:A</td>\n",
       "      <td>AC</td>\n",
       "      <td>A</td>\n",
       "      <td>.</td>\n",
       "      <td>.</td>\n",
       "      <td>PR</td>\n",
       "      <td>GT</td>\n",
       "      <td>0/0</td>\n",
       "      <td>...</td>\n",
       "      <td>0/0</td>\n",
       "      <td>0/0</td>\n",
       "      <td>0/1</td>\n",
       "      <td>0/0</td>\n",
       "      <td>0/0</td>\n",
       "      <td>0/0</td>\n",
       "      <td>0/1</td>\n",
       "      <td>0/0</td>\n",
       "      <td>1/1</td>\n",
       "      <td>0/1</td>\n",
       "    </tr>\n",
       "    <tr>\n",
       "      <th>2</th>\n",
       "      <td>1</td>\n",
       "      <td>10146</td>\n",
       "      <td>chr1:10146:ACC:*</td>\n",
       "      <td>ACC</td>\n",
       "      <td>*</td>\n",
       "      <td>.</td>\n",
       "      <td>.</td>\n",
       "      <td>PR</td>\n",
       "      <td>GT</td>\n",
       "      <td>0/0</td>\n",
       "      <td>...</td>\n",
       "      <td>0/0</td>\n",
       "      <td>0/0</td>\n",
       "      <td>0/0</td>\n",
       "      <td>0/0</td>\n",
       "      <td>0/0</td>\n",
       "      <td>0/0</td>\n",
       "      <td>0/0</td>\n",
       "      <td>0/0</td>\n",
       "      <td>0/0</td>\n",
       "      <td>0/0</td>\n",
       "    </tr>\n",
       "    <tr>\n",
       "      <th>3</th>\n",
       "      <td>1</td>\n",
       "      <td>10150</td>\n",
       "      <td>chr1:10150:CT:C</td>\n",
       "      <td>CT</td>\n",
       "      <td>C</td>\n",
       "      <td>.</td>\n",
       "      <td>.</td>\n",
       "      <td>PR</td>\n",
       "      <td>GT</td>\n",
       "      <td>0/0</td>\n",
       "      <td>...</td>\n",
       "      <td>0/0</td>\n",
       "      <td>0/0</td>\n",
       "      <td>0/0</td>\n",
       "      <td>0/0</td>\n",
       "      <td>0/0</td>\n",
       "      <td>0/0</td>\n",
       "      <td>0/0</td>\n",
       "      <td>0/0</td>\n",
       "      <td>./.</td>\n",
       "      <td>0/0</td>\n",
       "    </tr>\n",
       "    <tr>\n",
       "      <th>4</th>\n",
       "      <td>1</td>\n",
       "      <td>10172</td>\n",
       "      <td>chr1:10172:CCCTAA:C</td>\n",
       "      <td>CCCTAA</td>\n",
       "      <td>C</td>\n",
       "      <td>.</td>\n",
       "      <td>.</td>\n",
       "      <td>PR</td>\n",
       "      <td>GT</td>\n",
       "      <td>./.</td>\n",
       "      <td>...</td>\n",
       "      <td>0/0</td>\n",
       "      <td>0/0</td>\n",
       "      <td>0/0</td>\n",
       "      <td>0/0</td>\n",
       "      <td>0/0</td>\n",
       "      <td>0/0</td>\n",
       "      <td>./.</td>\n",
       "      <td>0/0</td>\n",
       "      <td>./.</td>\n",
       "      <td>./.</td>\n",
       "    </tr>\n",
       "    <tr>\n",
       "      <th>...</th>\n",
       "      <td>...</td>\n",
       "      <td>...</td>\n",
       "      <td>...</td>\n",
       "      <td>...</td>\n",
       "      <td>...</td>\n",
       "      <td>...</td>\n",
       "      <td>...</td>\n",
       "      <td>...</td>\n",
       "      <td>...</td>\n",
       "      <td>...</td>\n",
       "      <td>...</td>\n",
       "      <td>...</td>\n",
       "      <td>...</td>\n",
       "      <td>...</td>\n",
       "      <td>...</td>\n",
       "      <td>...</td>\n",
       "      <td>...</td>\n",
       "      <td>...</td>\n",
       "      <td>...</td>\n",
       "      <td>...</td>\n",
       "      <td>...</td>\n",
       "    </tr>\n",
       "    <tr>\n",
       "      <th>995</th>\n",
       "      <td>1</td>\n",
       "      <td>66479</td>\n",
       "      <td>chr1:66479:TATTTATAG:*</td>\n",
       "      <td>TATTTATAG</td>\n",
       "      <td>*</td>\n",
       "      <td>.</td>\n",
       "      <td>.</td>\n",
       "      <td>PR</td>\n",
       "      <td>GT</td>\n",
       "      <td>0/0</td>\n",
       "      <td>...</td>\n",
       "      <td>./.</td>\n",
       "      <td>0/0</td>\n",
       "      <td>./.</td>\n",
       "      <td>./.</td>\n",
       "      <td>0/0</td>\n",
       "      <td>0/0</td>\n",
       "      <td>0/0</td>\n",
       "      <td>0/0</td>\n",
       "      <td>0/0</td>\n",
       "      <td>0/0</td>\n",
       "    </tr>\n",
       "    <tr>\n",
       "      <th>996</th>\n",
       "      <td>1</td>\n",
       "      <td>66480</td>\n",
       "      <td>chr1:66480:AT:A</td>\n",
       "      <td>AT</td>\n",
       "      <td>A</td>\n",
       "      <td>.</td>\n",
       "      <td>.</td>\n",
       "      <td>PR</td>\n",
       "      <td>GT</td>\n",
       "      <td>0/0</td>\n",
       "      <td>...</td>\n",
       "      <td>./.</td>\n",
       "      <td>0/0</td>\n",
       "      <td>./.</td>\n",
       "      <td>./.</td>\n",
       "      <td>0/0</td>\n",
       "      <td>0/0</td>\n",
       "      <td>0/0</td>\n",
       "      <td>0/0</td>\n",
       "      <td>0/0</td>\n",
       "      <td>0/0</td>\n",
       "    </tr>\n",
       "    <tr>\n",
       "      <th>997</th>\n",
       "      <td>1</td>\n",
       "      <td>66480</td>\n",
       "      <td>chr1:66480:ATTT:*</td>\n",
       "      <td>ATTT</td>\n",
       "      <td>*</td>\n",
       "      <td>.</td>\n",
       "      <td>.</td>\n",
       "      <td>PR</td>\n",
       "      <td>GT</td>\n",
       "      <td>0/0</td>\n",
       "      <td>...</td>\n",
       "      <td>./.</td>\n",
       "      <td>0/0</td>\n",
       "      <td>./.</td>\n",
       "      <td>./.</td>\n",
       "      <td>0/0</td>\n",
       "      <td>0/0</td>\n",
       "      <td>0/0</td>\n",
       "      <td>0/0</td>\n",
       "      <td>0/0</td>\n",
       "      <td>0/0</td>\n",
       "    </tr>\n",
       "    <tr>\n",
       "      <th>998</th>\n",
       "      <td>1</td>\n",
       "      <td>66481</td>\n",
       "      <td>chr1:66481:TTTATAGA:*</td>\n",
       "      <td>TTTATAGA</td>\n",
       "      <td>*</td>\n",
       "      <td>.</td>\n",
       "      <td>.</td>\n",
       "      <td>PR</td>\n",
       "      <td>GT</td>\n",
       "      <td>0/0</td>\n",
       "      <td>...</td>\n",
       "      <td>./.</td>\n",
       "      <td>0/0</td>\n",
       "      <td>./.</td>\n",
       "      <td>./.</td>\n",
       "      <td>0/0</td>\n",
       "      <td>0/0</td>\n",
       "      <td>./.</td>\n",
       "      <td>0/0</td>\n",
       "      <td>0/0</td>\n",
       "      <td>./.</td>\n",
       "    </tr>\n",
       "    <tr>\n",
       "      <th>999</th>\n",
       "      <td>1</td>\n",
       "      <td>66481</td>\n",
       "      <td>chr1:66481:TTTATAGA:T</td>\n",
       "      <td>TTTATAGA</td>\n",
       "      <td>T</td>\n",
       "      <td>.</td>\n",
       "      <td>.</td>\n",
       "      <td>PR</td>\n",
       "      <td>GT</td>\n",
       "      <td>0/0</td>\n",
       "      <td>...</td>\n",
       "      <td>./.</td>\n",
       "      <td>0/0</td>\n",
       "      <td>./.</td>\n",
       "      <td>./.</td>\n",
       "      <td>0/0</td>\n",
       "      <td>0/0</td>\n",
       "      <td>./.</td>\n",
       "      <td>0/0</td>\n",
       "      <td>0/0</td>\n",
       "      <td>./.</td>\n",
       "    </tr>\n",
       "  </tbody>\n",
       "</table>\n",
       "<p>1000 rows × 3488 columns</p>\n",
       "</div>"
      ],
      "text/plain": [
       "     #CHROM    POS                      ID        REF ALT QUAL FILTER INFO  \\\n",
       "0         1  10140   chr1:10140:ACCCTAAC:A   ACCCTAAC   A    .      .   PR   \n",
       "1         1  10146         chr1:10146:AC:A         AC   A    .      .   PR   \n",
       "2         1  10146        chr1:10146:ACC:*        ACC   *    .      .   PR   \n",
       "3         1  10150         chr1:10150:CT:C         CT   C    .      .   PR   \n",
       "4         1  10172     chr1:10172:CCCTAA:C     CCCTAA   C    .      .   PR   \n",
       "..      ...    ...                     ...        ...  ..  ...    ...  ...   \n",
       "995       1  66479  chr1:66479:TATTTATAG:*  TATTTATAG   *    .      .   PR   \n",
       "996       1  66480         chr1:66480:AT:A         AT   A    .      .   PR   \n",
       "997       1  66480       chr1:66480:ATTT:*       ATTT   *    .      .   PR   \n",
       "998       1  66481   chr1:66481:TTTATAGA:*   TTTATAGA   *    .      .   PR   \n",
       "999       1  66481   chr1:66481:TTTATAGA:T   TTTATAGA   T    .      .   PR   \n",
       "\n",
       "    FORMAT 4_364_99  ... 8_64039_20 8_64039_25 8_64039_3 25_6_107C 25_22_491C  \\\n",
       "0       GT      0/0  ...        0/0        0/0       0/0       0/0        0/0   \n",
       "1       GT      0/0  ...        0/0        0/0       0/1       0/0        0/0   \n",
       "2       GT      0/0  ...        0/0        0/0       0/0       0/0        0/0   \n",
       "3       GT      0/0  ...        0/0        0/0       0/0       0/0        0/0   \n",
       "4       GT      ./.  ...        0/0        0/0       0/0       0/0        0/0   \n",
       "..     ...      ...  ...        ...        ...       ...       ...        ...   \n",
       "995     GT      0/0  ...        ./.        0/0       ./.       ./.        0/0   \n",
       "996     GT      0/0  ...        ./.        0/0       ./.       ./.        0/0   \n",
       "997     GT      0/0  ...        ./.        0/0       ./.       ./.        0/0   \n",
       "998     GT      0/0  ...        ./.        0/0       ./.       ./.        0/0   \n",
       "999     GT      0/0  ...        ./.        0/0       ./.       ./.        0/0   \n",
       "\n",
       "    26_EGH_EGH64401 26_SW_SW27020 10R_R111_16 10R_R114_16 10R_R114_20  \n",
       "0               0/0           0/0         0/0         0/0         0/0  \n",
       "1               0/0           0/1         0/0         1/1         0/1  \n",
       "2               0/0           0/0         0/0         0/0         0/0  \n",
       "3               0/0           0/0         0/0         ./.         0/0  \n",
       "4               0/0           ./.         0/0         ./.         ./.  \n",
       "..              ...           ...         ...         ...         ...  \n",
       "995             0/0           0/0         0/0         0/0         0/0  \n",
       "996             0/0           0/0         0/0         0/0         0/0  \n",
       "997             0/0           0/0         0/0         0/0         0/0  \n",
       "998             0/0           ./.         0/0         0/0         ./.  \n",
       "999             0/0           ./.         0/0         0/0         ./.  \n",
       "\n",
       "[1000 rows x 3488 columns]"
      ]
     },
     "execution_count": null,
     "metadata": {},
     "output_type": "execute_result"
    }
   ],
   "source": [
    "vcf"
   ]
  },
  {
   "cell_type": "markdown",
   "id": "03a83d35-acb0-4121-9213-2410a531f992",
   "metadata": {},
   "source": [
    "# 2.1merge vcf and annotation"
   ]
  },
  {
   "cell_type": "code",
   "execution_count": null,
   "id": "efcc45f7-449b-40b3-adb8-0b8d1486abc3",
   "metadata": {},
   "outputs": [],
   "source": [
    "import numpy as np"
   ]
  },
  {
   "cell_type": "code",
   "execution_count": null,
   "id": "35580c48-c311-45ce-b870-6aa7b4220c56",
   "metadata": {},
   "outputs": [],
   "source": [
    "anno = read_anno_chunk('/home/yl4604/project/alzheimers-family/SMMAT/20210802/annotation/EFIGA_NIALOAD_chr1.hg38.hg38_multianno.csv',chunksize=1000)"
   ]
  },
  {
   "cell_type": "code",
   "execution_count": null,
   "id": "cbd0b7e4-1a07-4fce-92c8-004b2171a68a",
   "metadata": {},
   "outputs": [],
   "source": [
    "af = anno.AF"
   ]
  },
  {
   "cell_type": "code",
   "execution_count": null,
   "id": "8420f5a5-9012-4c49-8d73-15b08e195611",
   "metadata": {},
   "outputs": [],
   "source": [
    "af = af.replace('.',0.00001).astype(np.float64)"
   ]
  },
  {
   "cell_type": "code",
   "execution_count": null,
   "id": "e88a62fd-a814-4f49-a390-72cf13e0deb3",
   "metadata": {},
   "outputs": [
    {
     "data": {
      "text/plain": [
       "<AxesSubplot:>"
      ]
     },
     "execution_count": null,
     "metadata": {},
     "output_type": "execute_result"
    },
    {
     "data": {
      "image/png": "[encoded data removed]",
      "text/plain": [
       "<Figure size 432x288 with 1 Axes>"
      ]
     },
     "metadata": {
      "needs_background": "light"
     },
     "output_type": "display_data"
    }
   ],
   "source": [
    "af.hist()"
   ]
  },
  {
   "cell_type": "code",
   "execution_count": null,
   "id": "6f85178d-6909-47e4-8de6-c40dcd64a75e",
   "metadata": {},
   "outputs": [],
   "source": [
    "vcf.INFO = ['AF='+str(i) for i in af]"
   ]
  },
  {
   "cell_type": "code",
   "execution_count": null,
   "id": "39e4e3eb-c8fa-4212-bff1-8d43c279f1c3",
   "metadata": {},
   "outputs": [],
   "source": [
    "vcf.to_csv('data/first1000snp_full_samples.vcf',sep='\\t',header=True,index=False)"
   ]
  },
  {
   "cell_type": "raw",
   "id": "43909cbf-fe0c-4a72-9b0d-75a1e12b9c5d",
   "metadata": {},
   "source": [
    "bgzip first1000snp_full_samples.vcf \n",
    "tabix first1000snp_full_samples.vcf.gz"
   ]
  }
 ],
 "metadata": {
  "kernelspec": {
   "display_name": "Python 3 (ipykernel)",
   "language": "python",
   "name": "python3"
  }
 },
 "nbformat": 4,
 "nbformat_minor": 5
}
